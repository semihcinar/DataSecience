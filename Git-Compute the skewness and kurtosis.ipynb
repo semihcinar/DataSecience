{
 "cells": [
  {
   "cell_type": "markdown",
   "id": "e143120e",
   "metadata": {},
   "source": [
    "## Compute the skewness and kurtosis"
   ]
  },
  {
   "cell_type": "code",
   "execution_count": 2,
   "id": "4cac99bd",
   "metadata": {},
   "outputs": [],
   "source": [
    "import numpy as np\n",
    "import pandas as pd\n",
    "from scipy import stats\n",
    "samples = np.random.normal(loc= 100, scale = 15,size=1000)\n"
   ]
  },
  {
   "cell_type": "code",
   "execution_count": 3,
   "id": "cd6bbcac",
   "metadata": {},
   "outputs": [],
   "source": [
    "skewness = stats.skew(samples)\n",
    "kurtosis = stats.kurtosis(samples)"
   ]
  },
  {
   "cell_type": "code",
   "execution_count": 4,
   "id": "3265a03f",
   "metadata": {},
   "outputs": [
    {
     "data": {
      "text/plain": [
       "0.05103508683710773"
      ]
     },
     "execution_count": 4,
     "metadata": {},
     "output_type": "execute_result"
    }
   ],
   "source": [
    "skewness"
   ]
  },
  {
   "cell_type": "code",
   "execution_count": 5,
   "id": "ef34abab",
   "metadata": {},
   "outputs": [
    {
     "data": {
      "text/plain": [
       "0.15505389441176387"
      ]
     },
     "execution_count": 5,
     "metadata": {},
     "output_type": "execute_result"
    }
   ],
   "source": [
    "kurtosis"
   ]
  }
 ],
 "metadata": {
  "kernelspec": {
   "display_name": "Python 3",
   "language": "python",
   "name": "python3"
  },
  "language_info": {
   "codemirror_mode": {
    "name": "ipython",
    "version": 3
   },
   "file_extension": ".py",
   "mimetype": "text/x-python",
   "name": "python",
   "nbconvert_exporter": "python",
   "pygments_lexer": "ipython3",
   "version": "3.8.8"
  }
 },
 "nbformat": 4,
 "nbformat_minor": 5
}
