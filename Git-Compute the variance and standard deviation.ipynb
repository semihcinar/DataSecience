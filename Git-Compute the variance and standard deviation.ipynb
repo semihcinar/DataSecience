{
 "cells": [
  {
   "cell_type": "markdown",
   "id": "94d4c367",
   "metadata": {},
   "source": [
    "## Compute the variance and standard deviation"
   ]
  },
  {
   "cell_type": "code",
   "execution_count": 7,
   "id": "6263fbcd",
   "metadata": {},
   "outputs": [],
   "source": [
    "import numpy as np\n",
    "import pandas as pd\n",
    "from scipy import stats\n",
    "samples = np.random.normal(loc= 100, scale = 15,size=1000)"
   ]
  },
  {
   "cell_type": "code",
   "execution_count": 8,
   "id": "cdd59723",
   "metadata": {},
   "outputs": [],
   "source": [
    "variance = np.var(samples)\n",
    "std_dev = np.std(samples)"
   ]
  },
  {
   "cell_type": "code",
   "execution_count": 9,
   "id": "5c77b9cc",
   "metadata": {},
   "outputs": [
    {
     "data": {
      "text/plain": [
       "214.87880158655528"
      ]
     },
     "execution_count": 9,
     "metadata": {},
     "output_type": "execute_result"
    }
   ],
   "source": [
    "variance"
   ]
  },
  {
   "cell_type": "code",
   "execution_count": 10,
   "id": "49ecdb8e",
   "metadata": {},
   "outputs": [
    {
     "data": {
      "text/plain": [
       "14.65874488442156"
      ]
     },
     "execution_count": 10,
     "metadata": {},
     "output_type": "execute_result"
    }
   ],
   "source": [
    "std_dev"
   ]
  }
 ],
 "metadata": {
  "kernelspec": {
   "display_name": "Python 3",
   "language": "python",
   "name": "python3"
  },
  "language_info": {
   "codemirror_mode": {
    "name": "ipython",
    "version": 3
   },
   "file_extension": ".py",
   "mimetype": "text/x-python",
   "name": "python",
   "nbconvert_exporter": "python",
   "pygments_lexer": "ipython3",
   "version": "3.8.8"
  }
 },
 "nbformat": 4,
 "nbformat_minor": 5
}
