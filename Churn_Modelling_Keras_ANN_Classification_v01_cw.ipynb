{
  "nbformat": 4,
  "nbformat_minor": 0,
  "metadata": {
    "colab": {
      "name": "Churn_Modelling_Keras_ANN_Classification_v01_cw.ipynb",
      "provenance": [],
      "collapsed_sections": [],
      "include_colab_link": true
    },
    "hide_input": false,
    "interpreter": {
      "hash": "e4e90950cb561445fc7289d5187c528b28750a487d008a70b474c773afaf79b7"
    },
    "kernelspec": {
      "display_name": "Python 3",
      "language": "python",
      "name": "python3"
    },
    "language_info": {
      "codemirror_mode": {
        "name": "ipython",
        "version": 3
      },
      "file_extension": ".py",
      "mimetype": "text/x-python",
      "name": "python",
      "nbconvert_exporter": "python",
      "pygments_lexer": "ipython3",
      "version": "3.8.8"
    },
    "varInspector": {
      "cols": {
        "lenName": 16,
        "lenType": 16,
        "lenVar": 40
      },
      "kernels_config": {
        "python": {
          "delete_cmd_postfix": "",
          "delete_cmd_prefix": "del ",
          "library": "var_list.py",
          "varRefreshCmd": "print(var_dic_list())"
        },
        "r": {
          "delete_cmd_postfix": ") ",
          "delete_cmd_prefix": "rm(",
          "library": "var_list.r",
          "varRefreshCmd": "cat(var_dic_list()) "
        }
      },
      "types_to_exclude": [
        "module",
        "function",
        "builtin_function_or_method",
        "instance",
        "_Feature"
      ],
      "window_display": false
    }
  },
  "cells": [
    {
      "cell_type": "markdown",
      "metadata": {
        "id": "view-in-github",
        "colab_type": "text"
      },
      "source": [
        "<a href=\"https://colab.research.google.com/github/semihcinar/DataSecience/blob/main/Churn_Modelling_Keras_ANN_Classification_v01_cw.ipynb\" target=\"_parent\"><img src=\"https://colab.research.google.com/assets/colab-badge.svg\" alt=\"Open In Colab\"/></a>"
      ]
    },
    {
      "cell_type": "markdown",
      "metadata": {
        "id": "_p8Zrbrtap_x"
      },
      "source": [
        "# Keras Classification"
      ]
    },
    {
      "cell_type": "markdown",
      "metadata": {
        "id": "8woZqleMap_6"
      },
      "source": [
        "<span class=\"girk\">We have a dataset in which there are details of a bank's customers and the target variable is a binary variable reflecting the fact whether the customer left the bank (closed his account) or he continues to be a customer.</span>"
      ]
    },
    {
      "cell_type": "markdown",
      "metadata": {
        "id": "5ZSqn4a_ap_7"
      },
      "source": [
        "---\n",
        "---"
      ]
    },
    {
      "cell_type": "markdown",
      "metadata": {
        "cell_style": "center",
        "id": "mxq_b8Q2ap_-"
      },
      "source": [
        "## Import  libraries & data"
      ]
    },
    {
      "cell_type": "code",
      "metadata": {
        "cell_style": "center",
        "id": "6VD4eWBQcze2"
      },
      "source": [
        "import numpy as np\n",
        "import pandas as pd\n",
        "import seaborn as sns\n",
        "import matplotlib.pyplot as plt\n",
        "\n",
        "%matplotlib inline\n",
        "# %matplotlib notebook\n",
        "plt.rcParams[\"figure.figsize\"] = (12, 6)\n",
        "# plt.rcParams['figure.dpi'] = 100\n",
        "sns.set_style(\"whitegrid\")\n",
        "import warnings\n",
        "\n",
        "warnings.filterwarnings(\"ignore\")\n",
        "warnings.warn(\"this will not show\")\n",
        "pd.set_option('display.float_format', lambda x: '%.3f' % x)\n",
        "\n"
      ],
      "execution_count": 1,
      "outputs": []
    },
    {
      "cell_type": "markdown",
      "metadata": {
        "id": "00JtX2A_cVy5"
      },
      "source": [
        ""
      ]
    },
    {
      "cell_type": "code",
      "metadata": {
        "cell_style": "center",
        "id": "YzzxpfNaoFyZ"
      },
      "source": [
        "from tensorflow.keras.models import Sequential\n",
        "from tensorflow.keras.layers import Dense, Activation, Dropout\n",
        "from tensorflow.keras.callbacks import EarlyStopping\n",
        "from tensorflow.keras.optimizers import Adam\n",
        "from sklearn.metrics import classification_report, confusion_matrix\n",
        "from sklearn.metrics import roc_auc_score, roc_curve, precision_recall_curve, average_precision_score\n",
        "from sklearn.model_selection import cross_val_score, cross_validate\n",
        "from sklearn.model_selection import GridSearchCV"
      ],
      "execution_count": 2,
      "outputs": []
    },
    {
      "cell_type": "code",
      "metadata": {
        "colab": {
          "base_uri": "https://localhost:8080/"
        },
        "id": "iSh6hSm_bQOY",
        "outputId": "89605f5d-17cb-43be-f31f-495d69a0135f"
      },
      "source": [
        "from google.colab import drive\n",
        "drive.mount('/content/drive')"
      ],
      "execution_count": 4,
      "outputs": [
        {
          "output_type": "stream",
          "name": "stdout",
          "text": [
            "Mounted at /content/drive\n"
          ]
        }
      ]
    },
    {
      "cell_type": "code",
      "metadata": {
        "id": "kIVstBt5b1VA"
      },
      "source": [
        "path=\"/content/drive/MyDrive/DataSecience/Kaggle/Churn_Modelling.csv\""
      ],
      "execution_count": 5,
      "outputs": []
    },
    {
      "cell_type": "code",
      "metadata": {
        "scrolled": false,
        "colab": {
          "base_uri": "https://localhost:8080/",
          "height": 258
        },
        "id": "__pqJ8CvaqAI",
        "outputId": "d71215f1-29ef-4857-9015-1bd933119817"
      },
      "source": [
        "df = pd.read_csv(path, index_col='RowNumber')\n",
        "df.head()"
      ],
      "execution_count": 6,
      "outputs": [
        {
          "output_type": "execute_result",
          "data": {
            "text/html": [
              "<div>\n",
              "<style scoped>\n",
              "    .dataframe tbody tr th:only-of-type {\n",
              "        vertical-align: middle;\n",
              "    }\n",
              "\n",
              "    .dataframe tbody tr th {\n",
              "        vertical-align: top;\n",
              "    }\n",
              "\n",
              "    .dataframe thead th {\n",
              "        text-align: right;\n",
              "    }\n",
              "</style>\n",
              "<table border=\"1\" class=\"dataframe\">\n",
              "  <thead>\n",
              "    <tr style=\"text-align: right;\">\n",
              "      <th></th>\n",
              "      <th>CustomerId</th>\n",
              "      <th>Surname</th>\n",
              "      <th>CreditScore</th>\n",
              "      <th>Geography</th>\n",
              "      <th>Gender</th>\n",
              "      <th>Age</th>\n",
              "      <th>Tenure</th>\n",
              "      <th>Balance</th>\n",
              "      <th>NumOfProducts</th>\n",
              "      <th>HasCrCard</th>\n",
              "      <th>IsActiveMember</th>\n",
              "      <th>EstimatedSalary</th>\n",
              "      <th>Exited</th>\n",
              "    </tr>\n",
              "    <tr>\n",
              "      <th>RowNumber</th>\n",
              "      <th></th>\n",
              "      <th></th>\n",
              "      <th></th>\n",
              "      <th></th>\n",
              "      <th></th>\n",
              "      <th></th>\n",
              "      <th></th>\n",
              "      <th></th>\n",
              "      <th></th>\n",
              "      <th></th>\n",
              "      <th></th>\n",
              "      <th></th>\n",
              "      <th></th>\n",
              "    </tr>\n",
              "  </thead>\n",
              "  <tbody>\n",
              "    <tr>\n",
              "      <th>1</th>\n",
              "      <td>15634602</td>\n",
              "      <td>Hargrave</td>\n",
              "      <td>619</td>\n",
              "      <td>France</td>\n",
              "      <td>Female</td>\n",
              "      <td>42</td>\n",
              "      <td>2</td>\n",
              "      <td>0.000</td>\n",
              "      <td>1</td>\n",
              "      <td>1</td>\n",
              "      <td>1</td>\n",
              "      <td>101348.880</td>\n",
              "      <td>1</td>\n",
              "    </tr>\n",
              "    <tr>\n",
              "      <th>2</th>\n",
              "      <td>15647311</td>\n",
              "      <td>Hill</td>\n",
              "      <td>608</td>\n",
              "      <td>Spain</td>\n",
              "      <td>Female</td>\n",
              "      <td>41</td>\n",
              "      <td>1</td>\n",
              "      <td>83807.860</td>\n",
              "      <td>1</td>\n",
              "      <td>0</td>\n",
              "      <td>1</td>\n",
              "      <td>112542.580</td>\n",
              "      <td>0</td>\n",
              "    </tr>\n",
              "    <tr>\n",
              "      <th>3</th>\n",
              "      <td>15619304</td>\n",
              "      <td>Onio</td>\n",
              "      <td>502</td>\n",
              "      <td>France</td>\n",
              "      <td>Female</td>\n",
              "      <td>42</td>\n",
              "      <td>8</td>\n",
              "      <td>159660.800</td>\n",
              "      <td>3</td>\n",
              "      <td>1</td>\n",
              "      <td>0</td>\n",
              "      <td>113931.570</td>\n",
              "      <td>1</td>\n",
              "    </tr>\n",
              "    <tr>\n",
              "      <th>4</th>\n",
              "      <td>15701354</td>\n",
              "      <td>Boni</td>\n",
              "      <td>699</td>\n",
              "      <td>France</td>\n",
              "      <td>Female</td>\n",
              "      <td>39</td>\n",
              "      <td>1</td>\n",
              "      <td>0.000</td>\n",
              "      <td>2</td>\n",
              "      <td>0</td>\n",
              "      <td>0</td>\n",
              "      <td>93826.630</td>\n",
              "      <td>0</td>\n",
              "    </tr>\n",
              "    <tr>\n",
              "      <th>5</th>\n",
              "      <td>15737888</td>\n",
              "      <td>Mitchell</td>\n",
              "      <td>850</td>\n",
              "      <td>Spain</td>\n",
              "      <td>Female</td>\n",
              "      <td>43</td>\n",
              "      <td>2</td>\n",
              "      <td>125510.820</td>\n",
              "      <td>1</td>\n",
              "      <td>1</td>\n",
              "      <td>1</td>\n",
              "      <td>79084.100</td>\n",
              "      <td>0</td>\n",
              "    </tr>\n",
              "  </tbody>\n",
              "</table>\n",
              "</div>"
            ],
            "text/plain": [
              "           CustomerId   Surname  ...  EstimatedSalary Exited\n",
              "RowNumber                        ...                        \n",
              "1            15634602  Hargrave  ...       101348.880      1\n",
              "2            15647311      Hill  ...       112542.580      0\n",
              "3            15619304      Onio  ...       113931.570      1\n",
              "4            15701354      Boni  ...        93826.630      0\n",
              "5            15737888  Mitchell  ...        79084.100      0\n",
              "\n",
              "[5 rows x 13 columns]"
            ]
          },
          "metadata": {},
          "execution_count": 6
        }
      ]
    },
    {
      "cell_type": "markdown",
      "metadata": {
        "id": "qeD8eEP4aqAN"
      },
      "source": [
        "## Exploratory Data Analysis and Visualization"
      ]
    },
    {
      "cell_type": "code",
      "metadata": {
        "id": "uZGC_0Y-aqAP",
        "outputId": "809f7785-3f21-487f-a6fa-1fb69add512a"
      },
      "source": [
        " !pip install pandasgui"
      ],
      "execution_count": null,
      "outputs": [
        {
          "name": "stdout",
          "output_type": "stream",
          "text": [
            "Requirement already satisfied: pandasgui in c:\\programdata\\anaconda3\\lib\\site-packages (0.2.13)\n",
            "Requirement already satisfied: setuptools in c:\\programdata\\anaconda3\\lib\\site-packages (from pandasgui) (52.0.0.post20210125)\n",
            "Requirement already satisfied: pyarrow in c:\\programdata\\anaconda3\\lib\\site-packages (from pandasgui) (6.0.0)\n",
            "Requirement already satisfied: pandas in c:\\programdata\\anaconda3\\lib\\site-packages (from pandasgui) (1.2.4)\n",
            "Requirement already satisfied: qtstylish>=0.1.2 in c:\\programdata\\anaconda3\\lib\\site-packages (from pandasgui) (0.1.5)\n",
            "Requirement already satisfied: wordcloud in c:\\programdata\\anaconda3\\lib\\site-packages (from pandasgui) (1.8.1)\n",
            "Requirement already satisfied: IPython in c:\\programdata\\anaconda3\\lib\\site-packages (from pandasgui) (7.22.0)\n",
            "Requirement already satisfied: PyQt5 in c:\\programdata\\anaconda3\\lib\\site-packages (from pandasgui) (5.15.6)\n",
            "Requirement already satisfied: numpy in c:\\programdata\\anaconda3\\lib\\site-packages (from pandasgui) (1.19.5)\n",
            "Requirement already satisfied: astor in c:\\programdata\\anaconda3\\lib\\site-packages (from pandasgui) (0.8.1)\n",
            "Requirement already satisfied: plotly in c:\\programdata\\anaconda3\\lib\\site-packages (from pandasgui) (5.3.1)\n",
            "Requirement already satisfied: typing-extensions in c:\\programdata\\anaconda3\\lib\\site-packages (from pandasgui) (3.7.4.3)\n",
            "Requirement already satisfied: PyQt5-sip in c:\\programdata\\anaconda3\\lib\\site-packages (from pandasgui) (12.9.0)\n",
            "Requirement already satisfied: appdirs in c:\\programdata\\anaconda3\\lib\\site-packages (from pandasgui) (1.4.4)\n",
            "Requirement already satisfied: pynput in c:\\programdata\\anaconda3\\lib\\site-packages (from pandasgui) (1.7.3)\n",
            "Requirement already satisfied: PyQtWebEngine in c:\\programdata\\anaconda3\\lib\\site-packages (from pandasgui) (5.15.5)\n",
            "Requirement already satisfied: colorama in c:\\programdata\\anaconda3\\lib\\site-packages (from IPython->pandasgui) (0.4.4)\n",
            "Requirement already satisfied: prompt-toolkit!=3.0.0,!=3.0.1,<3.1.0,>=2.0.0 in c:\\programdata\\anaconda3\\lib\\site-packages (from IPython->pandasgui) (3.0.17)\n",
            "Requirement already satisfied: decorator in c:\\programdata\\anaconda3\\lib\\site-packages (from IPython->pandasgui) (5.0.6)\n",
            "Requirement already satisfied: pickleshare in c:\\programdata\\anaconda3\\lib\\site-packages (from IPython->pandasgui) (0.7.5)\n",
            "Requirement already satisfied: pygments in c:\\programdata\\anaconda3\\lib\\site-packages (from IPython->pandasgui) (2.8.1)\n",
            "Requirement already satisfied: traitlets>=4.2 in c:\\programdata\\anaconda3\\lib\\site-packages (from IPython->pandasgui) (5.0.5)\n",
            "Requirement already satisfied: jedi>=0.16 in c:\\programdata\\anaconda3\\lib\\site-packages (from IPython->pandasgui) (0.17.2)\n",
            "Requirement already satisfied: backcall in c:\\programdata\\anaconda3\\lib\\site-packages (from IPython->pandasgui) (0.2.0)\n",
            "Requirement already satisfied: parso<0.8.0,>=0.7.0 in c:\\programdata\\anaconda3\\lib\\site-packages (from jedi>=0.16->IPython->pandasgui) (0.7.0)\n",
            "Requirement already satisfied: wcwidth in c:\\programdata\\anaconda3\\lib\\site-packages (from prompt-toolkit!=3.0.0,!=3.0.1,<3.1.0,>=2.0.0->IPython->pandasgui) (0.2.5)\n",
            "Requirement already satisfied: ipython-genutils in c:\\programdata\\anaconda3\\lib\\site-packages (from traitlets>=4.2->IPython->pandasgui) (0.2.0)\n",
            "Requirement already satisfied: python-dateutil>=2.7.3 in c:\\programdata\\anaconda3\\lib\\site-packages (from pandas->pandasgui) (2.8.1)\n",
            "Requirement already satisfied: pytz>=2017.3 in c:\\programdata\\anaconda3\\lib\\site-packages (from pandas->pandasgui) (2021.1)\n",
            "Requirement already satisfied: six>=1.5 in c:\\programdata\\anaconda3\\lib\\site-packages (from python-dateutil>=2.7.3->pandas->pandasgui) (1.15.0)\n",
            "Requirement already satisfied: tenacity>=6.2.0 in c:\\programdata\\anaconda3\\lib\\site-packages (from plotly->pandasgui) (8.0.1)\n",
            "Requirement already satisfied: PyQt5-Qt5>=5.15.2 in c:\\programdata\\anaconda3\\lib\\site-packages (from PyQt5->pandasgui) (5.15.2)\n"
          ]
        }
      ]
    },
    {
      "cell_type": "code",
      "metadata": {
        "id": "VfyGVSIjaqAR",
        "outputId": "9a38beb2-6911-490a-8976-4623a2e9e5d8"
      },
      "source": [
        "from pandasgui import show\n",
        "\n",
        "gui = show(df)"
      ],
      "execution_count": null,
      "outputs": [
        {
          "name": "stderr",
          "output_type": "stream",
          "text": [
            "PandasGUI INFO — pandasgui.gui — Opening PandasGUI\n"
          ]
        },
        {
          "name": "stdout",
          "output_type": "stream",
          "text": [
            "Requirement already satisfied: PyQtWebEngine-Qt5>=5.15.2 in c:\\programdata\\anaconda3\\lib\\site-packages (from PyQtWebEngine->pandasgui) (5.15.2)\n",
            "Requirement already satisfied: matplotlib in c:\\programdata\\anaconda3\\lib\\site-packages (from wordcloud->pandasgui) (3.3.4)\n",
            "Requirement already satisfied: pillow in c:\\programdata\\anaconda3\\lib\\site-packages (from wordcloud->pandasgui) (8.2.0)\n",
            "Requirement already satisfied: cycler>=0.10 in c:\\programdata\\anaconda3\\lib\\site-packages (from matplotlib->wordcloud->pandasgui) (0.10.0)\n",
            "Requirement already satisfied: pyparsing!=2.0.4,!=2.1.2,!=2.1.6,>=2.0.3 in c:\\programdata\\anaconda3\\lib\\site-packages (from matplotlib->wordcloud->pandasgui) (2.4.7)\n",
            "Requirement already satisfied: kiwisolver>=1.0.1 in c:\\programdata\\anaconda3\\lib\\site-packages (from matplotlib->wordcloud->pandasgui) (1.3.1)\n"
          ]
        }
      ]
    },
    {
      "cell_type": "code",
      "metadata": {
        "cell_style": "split",
        "colab": {
          "base_uri": "https://localhost:8080/"
        },
        "id": "9ROCQa9wf2uE",
        "scrolled": true,
        "outputId": "40e94921-6a7c-48c6-8c09-2623b6b60fa3"
      },
      "source": [
        "df.info()"
      ],
      "execution_count": null,
      "outputs": [
        {
          "name": "stdout",
          "output_type": "stream",
          "text": [
            "<class 'pandas.core.frame.DataFrame'>\n",
            "Int64Index: 10000 entries, 1 to 10000\n",
            "Data columns (total 13 columns):\n",
            " #   Column           Non-Null Count  Dtype  \n",
            "---  ------           --------------  -----  \n",
            " 0   CustomerId       10000 non-null  int64  \n",
            " 1   Surname          10000 non-null  object \n",
            " 2   CreditScore      10000 non-null  int64  \n",
            " 3   Geography        10000 non-null  object \n",
            " 4   Gender           10000 non-null  object \n",
            " 5   Age              10000 non-null  int64  \n",
            " 6   Tenure           10000 non-null  int64  \n",
            " 7   Balance          10000 non-null  float64\n",
            " 8   NumOfProducts    10000 non-null  int64  \n",
            " 9   HasCrCard        10000 non-null  int64  \n",
            " 10  IsActiveMember   10000 non-null  int64  \n",
            " 11  EstimatedSalary  10000 non-null  float64\n",
            " 12  Exited           10000 non-null  int64  \n",
            "dtypes: float64(2), int64(8), object(3)\n",
            "memory usage: 1.1+ MB\n"
          ]
        }
      ]
    },
    {
      "cell_type": "code",
      "metadata": {
        "cell_style": "split",
        "colab": {
          "base_uri": "https://localhost:8080/"
        },
        "id": "vPyMUnVWfM0o",
        "outputId": "7a294ad3-49d9-4cea-b6a2-9824e2c0ba4a"
      },
      "source": [
        "df.shape"
      ],
      "execution_count": null,
      "outputs": [
        {
          "data": {
            "text/plain": [
              "(10000, 13)"
            ]
          },
          "execution_count": 64,
          "metadata": {},
          "output_type": "execute_result"
        }
      ]
    },
    {
      "cell_type": "code",
      "metadata": {
        "cell_style": "split",
        "id": "CYtt9mgsaqAW",
        "outputId": "295fc6c2-3124-4783-c746-6c54bffebb5c"
      },
      "source": [
        "df.isnull().sum().any()"
      ],
      "execution_count": null,
      "outputs": [
        {
          "data": {
            "text/plain": [
              "False"
            ]
          },
          "execution_count": 65,
          "metadata": {},
          "output_type": "execute_result"
        }
      ]
    },
    {
      "cell_type": "code",
      "metadata": {
        "cell_style": "split",
        "scrolled": true,
        "id": "leku-57_aqAX",
        "outputId": "c28d184b-6fab-46d3-e3b1-c96c4cfe08a7"
      },
      "source": [
        "df.duplicated().sum()"
      ],
      "execution_count": null,
      "outputs": [
        {
          "data": {
            "text/plain": [
              "0"
            ]
          },
          "execution_count": 66,
          "metadata": {},
          "output_type": "execute_result"
        }
      ]
    },
    {
      "cell_type": "code",
      "metadata": {
        "cell_style": "center",
        "colab": {
          "base_uri": "https://localhost:8080/",
          "height": 1000
        },
        "id": "mdUkgZD-gCUx",
        "scrolled": false,
        "outputId": "cd4f6662-e8c3-4a6f-93d5-26fed83d8a82"
      },
      "source": [
        "df.describe().T\n",
        "\n"
      ],
      "execution_count": null,
      "outputs": [
        {
          "data": {
            "text/html": [
              "<div>\n",
              "<style scoped>\n",
              "    .dataframe tbody tr th:only-of-type {\n",
              "        vertical-align: middle;\n",
              "    }\n",
              "\n",
              "    .dataframe tbody tr th {\n",
              "        vertical-align: top;\n",
              "    }\n",
              "\n",
              "    .dataframe thead th {\n",
              "        text-align: right;\n",
              "    }\n",
              "</style>\n",
              "<table border=\"1\" class=\"dataframe\">\n",
              "  <thead>\n",
              "    <tr style=\"text-align: right;\">\n",
              "      <th></th>\n",
              "      <th>count</th>\n",
              "      <th>mean</th>\n",
              "      <th>std</th>\n",
              "      <th>min</th>\n",
              "      <th>25%</th>\n",
              "      <th>50%</th>\n",
              "      <th>75%</th>\n",
              "      <th>max</th>\n",
              "    </tr>\n",
              "  </thead>\n",
              "  <tbody>\n",
              "    <tr>\n",
              "      <th>CustomerId</th>\n",
              "      <td>10000.000</td>\n",
              "      <td>15690940.569</td>\n",
              "      <td>71936.186</td>\n",
              "      <td>15565701.000</td>\n",
              "      <td>15628528.250</td>\n",
              "      <td>15690738.000</td>\n",
              "      <td>15753233.750</td>\n",
              "      <td>15815690.000</td>\n",
              "    </tr>\n",
              "    <tr>\n",
              "      <th>CreditScore</th>\n",
              "      <td>10000.000</td>\n",
              "      <td>650.529</td>\n",
              "      <td>96.653</td>\n",
              "      <td>350.000</td>\n",
              "      <td>584.000</td>\n",
              "      <td>652.000</td>\n",
              "      <td>718.000</td>\n",
              "      <td>850.000</td>\n",
              "    </tr>\n",
              "    <tr>\n",
              "      <th>Age</th>\n",
              "      <td>10000.000</td>\n",
              "      <td>38.922</td>\n",
              "      <td>10.488</td>\n",
              "      <td>18.000</td>\n",
              "      <td>32.000</td>\n",
              "      <td>37.000</td>\n",
              "      <td>44.000</td>\n",
              "      <td>92.000</td>\n",
              "    </tr>\n",
              "    <tr>\n",
              "      <th>Tenure</th>\n",
              "      <td>10000.000</td>\n",
              "      <td>5.013</td>\n",
              "      <td>2.892</td>\n",
              "      <td>0.000</td>\n",
              "      <td>3.000</td>\n",
              "      <td>5.000</td>\n",
              "      <td>7.000</td>\n",
              "      <td>10.000</td>\n",
              "    </tr>\n",
              "    <tr>\n",
              "      <th>Balance</th>\n",
              "      <td>10000.000</td>\n",
              "      <td>76485.889</td>\n",
              "      <td>62397.405</td>\n",
              "      <td>0.000</td>\n",
              "      <td>0.000</td>\n",
              "      <td>97198.540</td>\n",
              "      <td>127644.240</td>\n",
              "      <td>250898.090</td>\n",
              "    </tr>\n",
              "    <tr>\n",
              "      <th>NumOfProducts</th>\n",
              "      <td>10000.000</td>\n",
              "      <td>1.530</td>\n",
              "      <td>0.582</td>\n",
              "      <td>1.000</td>\n",
              "      <td>1.000</td>\n",
              "      <td>1.000</td>\n",
              "      <td>2.000</td>\n",
              "      <td>4.000</td>\n",
              "    </tr>\n",
              "    <tr>\n",
              "      <th>HasCrCard</th>\n",
              "      <td>10000.000</td>\n",
              "      <td>0.706</td>\n",
              "      <td>0.456</td>\n",
              "      <td>0.000</td>\n",
              "      <td>0.000</td>\n",
              "      <td>1.000</td>\n",
              "      <td>1.000</td>\n",
              "      <td>1.000</td>\n",
              "    </tr>\n",
              "    <tr>\n",
              "      <th>IsActiveMember</th>\n",
              "      <td>10000.000</td>\n",
              "      <td>0.515</td>\n",
              "      <td>0.500</td>\n",
              "      <td>0.000</td>\n",
              "      <td>0.000</td>\n",
              "      <td>1.000</td>\n",
              "      <td>1.000</td>\n",
              "      <td>1.000</td>\n",
              "    </tr>\n",
              "    <tr>\n",
              "      <th>EstimatedSalary</th>\n",
              "      <td>10000.000</td>\n",
              "      <td>100090.240</td>\n",
              "      <td>57510.493</td>\n",
              "      <td>11.580</td>\n",
              "      <td>51002.110</td>\n",
              "      <td>100193.915</td>\n",
              "      <td>149388.247</td>\n",
              "      <td>199992.480</td>\n",
              "    </tr>\n",
              "    <tr>\n",
              "      <th>Exited</th>\n",
              "      <td>10000.000</td>\n",
              "      <td>0.204</td>\n",
              "      <td>0.403</td>\n",
              "      <td>0.000</td>\n",
              "      <td>0.000</td>\n",
              "      <td>0.000</td>\n",
              "      <td>0.000</td>\n",
              "      <td>1.000</td>\n",
              "    </tr>\n",
              "  </tbody>\n",
              "</table>\n",
              "</div>"
            ],
            "text/plain": [
              "                    count         mean       std          min          25%  \\\n",
              "CustomerId      10000.000 15690940.569 71936.186 15565701.000 15628528.250   \n",
              "CreditScore     10000.000      650.529    96.653      350.000      584.000   \n",
              "Age             10000.000       38.922    10.488       18.000       32.000   \n",
              "Tenure          10000.000        5.013     2.892        0.000        3.000   \n",
              "Balance         10000.000    76485.889 62397.405        0.000        0.000   \n",
              "NumOfProducts   10000.000        1.530     0.582        1.000        1.000   \n",
              "HasCrCard       10000.000        0.706     0.456        0.000        0.000   \n",
              "IsActiveMember  10000.000        0.515     0.500        0.000        0.000   \n",
              "EstimatedSalary 10000.000   100090.240 57510.493       11.580    51002.110   \n",
              "Exited          10000.000        0.204     0.403        0.000        0.000   \n",
              "\n",
              "                         50%          75%          max  \n",
              "CustomerId      15690738.000 15753233.750 15815690.000  \n",
              "CreditScore          652.000      718.000      850.000  \n",
              "Age                   37.000       44.000       92.000  \n",
              "Tenure                 5.000        7.000       10.000  \n",
              "Balance            97198.540   127644.240   250898.090  \n",
              "NumOfProducts          1.000        2.000        4.000  \n",
              "HasCrCard              1.000        1.000        1.000  \n",
              "IsActiveMember         1.000        1.000        1.000  \n",
              "EstimatedSalary   100193.915   149388.247   199992.480  \n",
              "Exited                 0.000        0.000        1.000  "
            ]
          },
          "execution_count": 67,
          "metadata": {},
          "output_type": "execute_result"
        }
      ]
    },
    {
      "cell_type": "code",
      "metadata": {
        "id": "nHmuLfdwaqAa",
        "outputId": "986e6aff-c049-4861-baf6-beb6b097d5c2"
      },
      "source": [
        "df.Balance.plot(kind=\"box\")"
      ],
      "execution_count": null,
      "outputs": [
        {
          "data": {
            "text/plain": [
              "<AxesSubplot:>"
            ]
          },
          "execution_count": 68,
          "metadata": {},
          "output_type": "execute_result"
        },
        {
          "data": {
            "image/png": "[encoded data removed]",
            "text/plain": [
              "<Figure size 864x432 with 1 Axes>"
            ]
          },
          "metadata": {},
          "output_type": "display_data"
        }
      ]
    },
    {
      "cell_type": "code",
      "metadata": {
        "id": "3AUubd4vaqAb"
      },
      "source": [
        "df.drop(['CustomerId', 'Surname'], axis=1, inplace=True)"
      ],
      "execution_count": null,
      "outputs": []
    },
    {
      "cell_type": "code",
      "metadata": {
        "cell_style": "split",
        "colab": {
          "base_uri": "https://localhost:8080/",
          "height": 297
        },
        "id": "_7vHUi5Hgldj",
        "scrolled": false,
        "outputId": "0018aaa8-d479-40c3-f973-161c63e7a77b"
      },
      "source": [
        "print(df.Exited.value_counts())\n",
        "sns.countplot(df[\"Exited\"]);"
      ],
      "execution_count": null,
      "outputs": [
        {
          "name": "stdout",
          "output_type": "stream",
          "text": [
            "0    7963\n",
            "1    2037\n",
            "Name: Exited, dtype: int64\n"
          ]
        },
        {
          "data": {
            "image/png": "[encoded data removed]",
            "text/plain": [
              "<Figure size 864x432 with 1 Axes>"
            ]
          },
          "metadata": {},
          "output_type": "display_data"
        }
      ]
    },
    {
      "cell_type": "code",
      "metadata": {
        "cell_style": "split",
        "scrolled": false,
        "id": "P-ezEZhIaqAd",
        "outputId": "6cbadacf-f4e3-40b8-e3e6-63826ecd12b7"
      },
      "source": [
        "df.hist(figsize=(15, 12), bins=15);\n"
      ],
      "execution_count": null,
      "outputs": [
        {
          "data": {
            "image/png": "[encoded data removed]",
            "text/plain": [
              "<Figure size 1080x864 with 9 Axes>"
            ]
          },
          "metadata": {},
          "output_type": "display_data"
        }
      ]
    },
    {
      "cell_type": "code",
      "metadata": {
        "scrolled": true,
        "id": "Uq-GJEMAaqAe",
        "outputId": "5503146d-bde2-4099-e0df-cf2ed3351d1a"
      },
      "source": [
        "cat_list = [\"Gender\", \"HasCrCard\", \"IsActiveMember\", \"Geography\"]\n",
        "index = 0\n",
        "plt.figure(figsize=(16, 12))\n",
        "for i in cat_list:\n",
        "    index += 1\n",
        "    plt.subplot(2, 2, index)\n",
        "    sns.countplot(data=df, x=i, hue=\"Exited\")"
      ],
      "execution_count": null,
      "outputs": [
        {
          "data": {
            "image/png": "[encoded data removed]",
            "text/plain": [
              "<Figure size 1152x864 with 4 Axes>"
            ]
          },
          "metadata": {},
          "output_type": "display_data"
        }
      ]
    },
    {
      "cell_type": "code",
      "metadata": {
        "cell_style": "split",
        "scrolled": true,
        "id": "xtdr-_CyaqAf",
        "outputId": "840764ef-bd3f-4c77-ee1d-a33a4d61ab85"
      },
      "source": [
        "df.groupby(\"Age\")[\"Exited\"].value_counts()\n"
      ],
      "execution_count": null,
      "outputs": [
        {
          "data": {
            "text/plain": [
              "Age  Exited\n",
              "18   0         20\n",
              "     1          2\n",
              "19   0         26\n",
              "     1          1\n",
              "20   0         38\n",
              "               ..\n",
              "84   0          1\n",
              "     1          1\n",
              "85   0          1\n",
              "88   0          1\n",
              "92   0          2\n",
              "Name: Exited, Length: 128, dtype: int64"
            ]
          },
          "execution_count": 73,
          "metadata": {},
          "output_type": "execute_result"
        }
      ]
    },
    {
      "cell_type": "code",
      "metadata": {
        "cell_style": "split",
        "scrolled": true,
        "id": "mOnwsHwqaqAg",
        "outputId": "d4431d91-8472-42d9-a0c4-ace824165ce8"
      },
      "source": [
        "plt.figure(figsize=(20, 7))\n",
        "sns.countplot(df.Age, hue=df.Exited);"
      ],
      "execution_count": null,
      "outputs": [
        {
          "data": {
            "image/png": "[encoded data removed]",
            "text/plain": [
              "<Figure size 1440x504 with 1 Axes>"
            ]
          },
          "metadata": {},
          "output_type": "display_data"
        }
      ]
    },
    {
      "cell_type": "code",
      "metadata": {
        "id": "GN12t7vfaqAh",
        "outputId": "e0b1830f-6401-477a-c719-373a8277dfbe"
      },
      "source": [
        "df.CreditScore.describe()"
      ],
      "execution_count": null,
      "outputs": [
        {
          "data": {
            "text/plain": [
              "count   10000.000\n",
              "mean      650.529\n",
              "std        96.653\n",
              "min       350.000\n",
              "25%       584.000\n",
              "50%       652.000\n",
              "75%       718.000\n",
              "max       850.000\n",
              "Name: CreditScore, dtype: float64"
            ]
          },
          "execution_count": 75,
          "metadata": {},
          "output_type": "execute_result"
        }
      ]
    },
    {
      "cell_type": "code",
      "metadata": {
        "id": "YGkFTsf2aqAi"
      },
      "source": [
        "def credit_transformer(x, y):\n",
        "    if x < 584 and y == 0:\n",
        "        return 0\n",
        "    if x < 584 and y == 1:\n",
        "        return 1\n",
        "    if 584 < x < 718 and y == 0:\n",
        "        return 2\n",
        "    if 584 < x < 718 and y == 1:\n",
        "        return 3\n",
        "    else:\n",
        "        return 4"
      ],
      "execution_count": null,
      "outputs": []
    },
    {
      "cell_type": "code",
      "metadata": {
        "scrolled": true,
        "id": "1a-XB54LaqAj",
        "outputId": "613d7b67-780c-4044-e507-71f7f4b82dfa"
      },
      "source": [
        "customer_value = [\n",
        "    credit_transformer(x, y) for x, y in zip(df.CreditScore, df.HasCrCard)\n",
        "]\n",
        "customer_value[:10]"
      ],
      "execution_count": null,
      "outputs": [
        {
          "data": {
            "text/plain": [
              "[3, 2, 1, 2, 4, 3, 4, 1, 0, 3]"
            ]
          },
          "execution_count": 77,
          "metadata": {},
          "output_type": "execute_result"
        }
      ]
    },
    {
      "cell_type": "code",
      "metadata": {
        "id": "hPkkg2xDaqAk",
        "outputId": "1c7d994c-f88e-49f6-b8c0-28b0d638d1c3"
      },
      "source": [
        "set(customer_value)"
      ],
      "execution_count": null,
      "outputs": [
        {
          "data": {
            "text/plain": [
              "{0, 1, 2, 3, 4}"
            ]
          },
          "execution_count": 78,
          "metadata": {},
          "output_type": "execute_result"
        }
      ]
    },
    {
      "cell_type": "code",
      "metadata": {
        "scrolled": false,
        "id": "hKGOE2akaqAl",
        "outputId": "ea1f613d-acdc-4c0b-d8c8-8d9f4cc7a9bd"
      },
      "source": [
        "df"
      ],
      "execution_count": null,
      "outputs": [
        {
          "data": {
            "text/html": [
              "<div>\n",
              "<style scoped>\n",
              "    .dataframe tbody tr th:only-of-type {\n",
              "        vertical-align: middle;\n",
              "    }\n",
              "\n",
              "    .dataframe tbody tr th {\n",
              "        vertical-align: top;\n",
              "    }\n",
              "\n",
              "    .dataframe thead th {\n",
              "        text-align: right;\n",
              "    }\n",
              "</style>\n",
              "<table border=\"1\" class=\"dataframe\">\n",
              "  <thead>\n",
              "    <tr style=\"text-align: right;\">\n",
              "      <th></th>\n",
              "      <th>CreditScore</th>\n",
              "      <th>Geography</th>\n",
              "      <th>Gender</th>\n",
              "      <th>Age</th>\n",
              "      <th>Tenure</th>\n",
              "      <th>Balance</th>\n",
              "      <th>NumOfProducts</th>\n",
              "      <th>HasCrCard</th>\n",
              "      <th>IsActiveMember</th>\n",
              "      <th>EstimatedSalary</th>\n",
              "      <th>Exited</th>\n",
              "    </tr>\n",
              "    <tr>\n",
              "      <th>RowNumber</th>\n",
              "      <th></th>\n",
              "      <th></th>\n",
              "      <th></th>\n",
              "      <th></th>\n",
              "      <th></th>\n",
              "      <th></th>\n",
              "      <th></th>\n",
              "      <th></th>\n",
              "      <th></th>\n",
              "      <th></th>\n",
              "      <th></th>\n",
              "    </tr>\n",
              "  </thead>\n",
              "  <tbody>\n",
              "    <tr>\n",
              "      <th>1</th>\n",
              "      <td>619</td>\n",
              "      <td>France</td>\n",
              "      <td>Female</td>\n",
              "      <td>42</td>\n",
              "      <td>2</td>\n",
              "      <td>0.000</td>\n",
              "      <td>1</td>\n",
              "      <td>1</td>\n",
              "      <td>1</td>\n",
              "      <td>101348.880</td>\n",
              "      <td>1</td>\n",
              "    </tr>\n",
              "    <tr>\n",
              "      <th>2</th>\n",
              "      <td>608</td>\n",
              "      <td>Spain</td>\n",
              "      <td>Female</td>\n",
              "      <td>41</td>\n",
              "      <td>1</td>\n",
              "      <td>83807.860</td>\n",
              "      <td>1</td>\n",
              "      <td>0</td>\n",
              "      <td>1</td>\n",
              "      <td>112542.580</td>\n",
              "      <td>0</td>\n",
              "    </tr>\n",
              "    <tr>\n",
              "      <th>3</th>\n",
              "      <td>502</td>\n",
              "      <td>France</td>\n",
              "      <td>Female</td>\n",
              "      <td>42</td>\n",
              "      <td>8</td>\n",
              "      <td>159660.800</td>\n",
              "      <td>3</td>\n",
              "      <td>1</td>\n",
              "      <td>0</td>\n",
              "      <td>113931.570</td>\n",
              "      <td>1</td>\n",
              "    </tr>\n",
              "    <tr>\n",
              "      <th>4</th>\n",
              "      <td>699</td>\n",
              "      <td>France</td>\n",
              "      <td>Female</td>\n",
              "      <td>39</td>\n",
              "      <td>1</td>\n",
              "      <td>0.000</td>\n",
              "      <td>2</td>\n",
              "      <td>0</td>\n",
              "      <td>0</td>\n",
              "      <td>93826.630</td>\n",
              "      <td>0</td>\n",
              "    </tr>\n",
              "    <tr>\n",
              "      <th>5</th>\n",
              "      <td>850</td>\n",
              "      <td>Spain</td>\n",
              "      <td>Female</td>\n",
              "      <td>43</td>\n",
              "      <td>2</td>\n",
              "      <td>125510.820</td>\n",
              "      <td>1</td>\n",
              "      <td>1</td>\n",
              "      <td>1</td>\n",
              "      <td>79084.100</td>\n",
              "      <td>0</td>\n",
              "    </tr>\n",
              "    <tr>\n",
              "      <th>...</th>\n",
              "      <td>...</td>\n",
              "      <td>...</td>\n",
              "      <td>...</td>\n",
              "      <td>...</td>\n",
              "      <td>...</td>\n",
              "      <td>...</td>\n",
              "      <td>...</td>\n",
              "      <td>...</td>\n",
              "      <td>...</td>\n",
              "      <td>...</td>\n",
              "      <td>...</td>\n",
              "    </tr>\n",
              "    <tr>\n",
              "      <th>9996</th>\n",
              "      <td>771</td>\n",
              "      <td>France</td>\n",
              "      <td>Male</td>\n",
              "      <td>39</td>\n",
              "      <td>5</td>\n",
              "      <td>0.000</td>\n",
              "      <td>2</td>\n",
              "      <td>1</td>\n",
              "      <td>0</td>\n",
              "      <td>96270.640</td>\n",
              "      <td>0</td>\n",
              "    </tr>\n",
              "    <tr>\n",
              "      <th>9997</th>\n",
              "      <td>516</td>\n",
              "      <td>France</td>\n",
              "      <td>Male</td>\n",
              "      <td>35</td>\n",
              "      <td>10</td>\n",
              "      <td>57369.610</td>\n",
              "      <td>1</td>\n",
              "      <td>1</td>\n",
              "      <td>1</td>\n",
              "      <td>101699.770</td>\n",
              "      <td>0</td>\n",
              "    </tr>\n",
              "    <tr>\n",
              "      <th>9998</th>\n",
              "      <td>709</td>\n",
              "      <td>France</td>\n",
              "      <td>Female</td>\n",
              "      <td>36</td>\n",
              "      <td>7</td>\n",
              "      <td>0.000</td>\n",
              "      <td>1</td>\n",
              "      <td>0</td>\n",
              "      <td>1</td>\n",
              "      <td>42085.580</td>\n",
              "      <td>1</td>\n",
              "    </tr>\n",
              "    <tr>\n",
              "      <th>9999</th>\n",
              "      <td>772</td>\n",
              "      <td>Germany</td>\n",
              "      <td>Male</td>\n",
              "      <td>42</td>\n",
              "      <td>3</td>\n",
              "      <td>75075.310</td>\n",
              "      <td>2</td>\n",
              "      <td>1</td>\n",
              "      <td>0</td>\n",
              "      <td>92888.520</td>\n",
              "      <td>1</td>\n",
              "    </tr>\n",
              "    <tr>\n",
              "      <th>10000</th>\n",
              "      <td>792</td>\n",
              "      <td>France</td>\n",
              "      <td>Female</td>\n",
              "      <td>28</td>\n",
              "      <td>4</td>\n",
              "      <td>130142.790</td>\n",
              "      <td>1</td>\n",
              "      <td>1</td>\n",
              "      <td>0</td>\n",
              "      <td>38190.780</td>\n",
              "      <td>0</td>\n",
              "    </tr>\n",
              "  </tbody>\n",
              "</table>\n",
              "<p>10000 rows × 11 columns</p>\n",
              "</div>"
            ],
            "text/plain": [
              "           CreditScore Geography  Gender  Age  Tenure    Balance  \\\n",
              "RowNumber                                                          \n",
              "1                  619    France  Female   42       2      0.000   \n",
              "2                  608     Spain  Female   41       1  83807.860   \n",
              "3                  502    France  Female   42       8 159660.800   \n",
              "4                  699    France  Female   39       1      0.000   \n",
              "5                  850     Spain  Female   43       2 125510.820   \n",
              "...                ...       ...     ...  ...     ...        ...   \n",
              "9996               771    France    Male   39       5      0.000   \n",
              "9997               516    France    Male   35      10  57369.610   \n",
              "9998               709    France  Female   36       7      0.000   \n",
              "9999               772   Germany    Male   42       3  75075.310   \n",
              "10000              792    France  Female   28       4 130142.790   \n",
              "\n",
              "           NumOfProducts  HasCrCard  IsActiveMember  EstimatedSalary  Exited  \n",
              "RowNumber                                                                     \n",
              "1                      1          1               1       101348.880       1  \n",
              "2                      1          0               1       112542.580       0  \n",
              "3                      3          1               0       113931.570       1  \n",
              "4                      2          0               0        93826.630       0  \n",
              "5                      1          1               1        79084.100       0  \n",
              "...                  ...        ...             ...              ...     ...  \n",
              "9996                   2          1               0        96270.640       0  \n",
              "9997                   1          1               1       101699.770       0  \n",
              "9998                   1          0               1        42085.580       1  \n",
              "9999                   2          1               0        92888.520       1  \n",
              "10000                  1          1               0        38190.780       0  \n",
              "\n",
              "[10000 rows x 11 columns]"
            ]
          },
          "execution_count": 79,
          "metadata": {},
          "output_type": "execute_result"
        }
      ]
    },
    {
      "cell_type": "code",
      "metadata": {
        "id": "5aPuTeSWaqAl"
      },
      "source": [
        "df.insert(10, \"customer_value\", customer_value)"
      ],
      "execution_count": null,
      "outputs": []
    },
    {
      "cell_type": "code",
      "metadata": {
        "scrolled": true,
        "id": "G4dq5bw3aqAm",
        "outputId": "268811b6-7e18-4e07-bfc5-9b4347352971"
      },
      "source": [
        "df.customer_value"
      ],
      "execution_count": null,
      "outputs": [
        {
          "data": {
            "text/plain": [
              "RowNumber\n",
              "1        3\n",
              "2        2\n",
              "3        1\n",
              "4        2\n",
              "5        4\n",
              "        ..\n",
              "9996     4\n",
              "9997     1\n",
              "9998     2\n",
              "9999     4\n",
              "10000    4\n",
              "Name: customer_value, Length: 10000, dtype: int64"
            ]
          },
          "execution_count": 81,
          "metadata": {},
          "output_type": "execute_result"
        }
      ]
    },
    {
      "cell_type": "markdown",
      "metadata": {
        "id": "mnoKVMApaqAm"
      },
      "source": [
        "from sklearn.preprocessing import OrdinalEncoder\n",
        "\n",
        "encoder = OrdinalEncoder()\n",
        "\n",
        "result = encoder.fit_transform(df.customer_value.values.reshape(-1, 1))\n",
        "print(result)\n"
      ]
    },
    {
      "cell_type": "markdown",
      "metadata": {
        "id": "8yiGMALSaqAn"
      },
      "source": [
        "df.customer_value = result\n",
        "df.customer_value"
      ]
    },
    {
      "cell_type": "code",
      "metadata": {
        "scrolled": true,
        "id": "WSXhtnOTaqAn",
        "outputId": "bacff4e1-72bd-4268-872d-49c978bac5c6"
      },
      "source": [
        "df"
      ],
      "execution_count": null,
      "outputs": [
        {
          "data": {
            "text/html": [
              "<div>\n",
              "<style scoped>\n",
              "    .dataframe tbody tr th:only-of-type {\n",
              "        vertical-align: middle;\n",
              "    }\n",
              "\n",
              "    .dataframe tbody tr th {\n",
              "        vertical-align: top;\n",
              "    }\n",
              "\n",
              "    .dataframe thead th {\n",
              "        text-align: right;\n",
              "    }\n",
              "</style>\n",
              "<table border=\"1\" class=\"dataframe\">\n",
              "  <thead>\n",
              "    <tr style=\"text-align: right;\">\n",
              "      <th></th>\n",
              "      <th>CreditScore</th>\n",
              "      <th>Geography</th>\n",
              "      <th>Gender</th>\n",
              "      <th>Age</th>\n",
              "      <th>Tenure</th>\n",
              "      <th>Balance</th>\n",
              "      <th>NumOfProducts</th>\n",
              "      <th>HasCrCard</th>\n",
              "      <th>IsActiveMember</th>\n",
              "      <th>EstimatedSalary</th>\n",
              "      <th>customer_value</th>\n",
              "      <th>Exited</th>\n",
              "    </tr>\n",
              "    <tr>\n",
              "      <th>RowNumber</th>\n",
              "      <th></th>\n",
              "      <th></th>\n",
              "      <th></th>\n",
              "      <th></th>\n",
              "      <th></th>\n",
              "      <th></th>\n",
              "      <th></th>\n",
              "      <th></th>\n",
              "      <th></th>\n",
              "      <th></th>\n",
              "      <th></th>\n",
              "      <th></th>\n",
              "    </tr>\n",
              "  </thead>\n",
              "  <tbody>\n",
              "    <tr>\n",
              "      <th>1</th>\n",
              "      <td>619</td>\n",
              "      <td>France</td>\n",
              "      <td>Female</td>\n",
              "      <td>42</td>\n",
              "      <td>2</td>\n",
              "      <td>0.000</td>\n",
              "      <td>1</td>\n",
              "      <td>1</td>\n",
              "      <td>1</td>\n",
              "      <td>101348.880</td>\n",
              "      <td>3</td>\n",
              "      <td>1</td>\n",
              "    </tr>\n",
              "    <tr>\n",
              "      <th>2</th>\n",
              "      <td>608</td>\n",
              "      <td>Spain</td>\n",
              "      <td>Female</td>\n",
              "      <td>41</td>\n",
              "      <td>1</td>\n",
              "      <td>83807.860</td>\n",
              "      <td>1</td>\n",
              "      <td>0</td>\n",
              "      <td>1</td>\n",
              "      <td>112542.580</td>\n",
              "      <td>2</td>\n",
              "      <td>0</td>\n",
              "    </tr>\n",
              "    <tr>\n",
              "      <th>3</th>\n",
              "      <td>502</td>\n",
              "      <td>France</td>\n",
              "      <td>Female</td>\n",
              "      <td>42</td>\n",
              "      <td>8</td>\n",
              "      <td>159660.800</td>\n",
              "      <td>3</td>\n",
              "      <td>1</td>\n",
              "      <td>0</td>\n",
              "      <td>113931.570</td>\n",
              "      <td>1</td>\n",
              "      <td>1</td>\n",
              "    </tr>\n",
              "    <tr>\n",
              "      <th>4</th>\n",
              "      <td>699</td>\n",
              "      <td>France</td>\n",
              "      <td>Female</td>\n",
              "      <td>39</td>\n",
              "      <td>1</td>\n",
              "      <td>0.000</td>\n",
              "      <td>2</td>\n",
              "      <td>0</td>\n",
              "      <td>0</td>\n",
              "      <td>93826.630</td>\n",
              "      <td>2</td>\n",
              "      <td>0</td>\n",
              "    </tr>\n",
              "    <tr>\n",
              "      <th>5</th>\n",
              "      <td>850</td>\n",
              "      <td>Spain</td>\n",
              "      <td>Female</td>\n",
              "      <td>43</td>\n",
              "      <td>2</td>\n",
              "      <td>125510.820</td>\n",
              "      <td>1</td>\n",
              "      <td>1</td>\n",
              "      <td>1</td>\n",
              "      <td>79084.100</td>\n",
              "      <td>4</td>\n",
              "      <td>0</td>\n",
              "    </tr>\n",
              "    <tr>\n",
              "      <th>...</th>\n",
              "      <td>...</td>\n",
              "      <td>...</td>\n",
              "      <td>...</td>\n",
              "      <td>...</td>\n",
              "      <td>...</td>\n",
              "      <td>...</td>\n",
              "      <td>...</td>\n",
              "      <td>...</td>\n",
              "      <td>...</td>\n",
              "      <td>...</td>\n",
              "      <td>...</td>\n",
              "      <td>...</td>\n",
              "    </tr>\n",
              "    <tr>\n",
              "      <th>9996</th>\n",
              "      <td>771</td>\n",
              "      <td>France</td>\n",
              "      <td>Male</td>\n",
              "      <td>39</td>\n",
              "      <td>5</td>\n",
              "      <td>0.000</td>\n",
              "      <td>2</td>\n",
              "      <td>1</td>\n",
              "      <td>0</td>\n",
              "      <td>96270.640</td>\n",
              "      <td>4</td>\n",
              "      <td>0</td>\n",
              "    </tr>\n",
              "    <tr>\n",
              "      <th>9997</th>\n",
              "      <td>516</td>\n",
              "      <td>France</td>\n",
              "      <td>Male</td>\n",
              "      <td>35</td>\n",
              "      <td>10</td>\n",
              "      <td>57369.610</td>\n",
              "      <td>1</td>\n",
              "      <td>1</td>\n",
              "      <td>1</td>\n",
              "      <td>101699.770</td>\n",
              "      <td>1</td>\n",
              "      <td>0</td>\n",
              "    </tr>\n",
              "    <tr>\n",
              "      <th>9998</th>\n",
              "      <td>709</td>\n",
              "      <td>France</td>\n",
              "      <td>Female</td>\n",
              "      <td>36</td>\n",
              "      <td>7</td>\n",
              "      <td>0.000</td>\n",
              "      <td>1</td>\n",
              "      <td>0</td>\n",
              "      <td>1</td>\n",
              "      <td>42085.580</td>\n",
              "      <td>2</td>\n",
              "      <td>1</td>\n",
              "    </tr>\n",
              "    <tr>\n",
              "      <th>9999</th>\n",
              "      <td>772</td>\n",
              "      <td>Germany</td>\n",
              "      <td>Male</td>\n",
              "      <td>42</td>\n",
              "      <td>3</td>\n",
              "      <td>75075.310</td>\n",
              "      <td>2</td>\n",
              "      <td>1</td>\n",
              "      <td>0</td>\n",
              "      <td>92888.520</td>\n",
              "      <td>4</td>\n",
              "      <td>1</td>\n",
              "    </tr>\n",
              "    <tr>\n",
              "      <th>10000</th>\n",
              "      <td>792</td>\n",
              "      <td>France</td>\n",
              "      <td>Female</td>\n",
              "      <td>28</td>\n",
              "      <td>4</td>\n",
              "      <td>130142.790</td>\n",
              "      <td>1</td>\n",
              "      <td>1</td>\n",
              "      <td>0</td>\n",
              "      <td>38190.780</td>\n",
              "      <td>4</td>\n",
              "      <td>0</td>\n",
              "    </tr>\n",
              "  </tbody>\n",
              "</table>\n",
              "<p>10000 rows × 12 columns</p>\n",
              "</div>"
            ],
            "text/plain": [
              "           CreditScore Geography  Gender  Age  Tenure    Balance  \\\n",
              "RowNumber                                                          \n",
              "1                  619    France  Female   42       2      0.000   \n",
              "2                  608     Spain  Female   41       1  83807.860   \n",
              "3                  502    France  Female   42       8 159660.800   \n",
              "4                  699    France  Female   39       1      0.000   \n",
              "5                  850     Spain  Female   43       2 125510.820   \n",
              "...                ...       ...     ...  ...     ...        ...   \n",
              "9996               771    France    Male   39       5      0.000   \n",
              "9997               516    France    Male   35      10  57369.610   \n",
              "9998               709    France  Female   36       7      0.000   \n",
              "9999               772   Germany    Male   42       3  75075.310   \n",
              "10000              792    France  Female   28       4 130142.790   \n",
              "\n",
              "           NumOfProducts  HasCrCard  IsActiveMember  EstimatedSalary  \\\n",
              "RowNumber                                                              \n",
              "1                      1          1               1       101348.880   \n",
              "2                      1          0               1       112542.580   \n",
              "3                      3          1               0       113931.570   \n",
              "4                      2          0               0        93826.630   \n",
              "5                      1          1               1        79084.100   \n",
              "...                  ...        ...             ...              ...   \n",
              "9996                   2          1               0        96270.640   \n",
              "9997                   1          1               1       101699.770   \n",
              "9998                   1          0               1        42085.580   \n",
              "9999                   2          1               0        92888.520   \n",
              "10000                  1          1               0        38190.780   \n",
              "\n",
              "           customer_value  Exited  \n",
              "RowNumber                          \n",
              "1                       3       1  \n",
              "2                       2       0  \n",
              "3                       1       1  \n",
              "4                       2       0  \n",
              "5                       4       0  \n",
              "...                   ...     ...  \n",
              "9996                    4       0  \n",
              "9997                    1       0  \n",
              "9998                    2       1  \n",
              "9999                    4       1  \n",
              "10000                   4       0  \n",
              "\n",
              "[10000 rows x 12 columns]"
            ]
          },
          "execution_count": 82,
          "metadata": {},
          "output_type": "execute_result"
        }
      ]
    },
    {
      "cell_type": "code",
      "metadata": {
        "cell_style": "split",
        "colab": {
          "base_uri": "https://localhost:8080/",
          "height": 981
        },
        "id": "fNDK3HprhSU3",
        "scrolled": true,
        "outputId": "98fe8eba-dc36-4cc7-96ad-ff61182d12a2"
      },
      "source": [
        "plt.figure(figsize=(16, 12))\n",
        "sns.heatmap(df.corr(), annot=True, cmap='viridis')"
      ],
      "execution_count": null,
      "outputs": [
        {
          "data": {
            "text/plain": [
              "<AxesSubplot:>"
            ]
          },
          "execution_count": 83,
          "metadata": {},
          "output_type": "execute_result"
        },
        {
          "data": {
            "image/png": "[encoded data removed]",
            "text/plain": [
              "<Figure size 1152x864 with 2 Axes>"
            ]
          },
          "metadata": {},
          "output_type": "display_data"
        }
      ]
    },
    {
      "cell_type": "code",
      "metadata": {
        "cell_style": "split",
        "colab": {
          "base_uri": "https://localhost:8080/",
          "height": 391
        },
        "id": "IasR3c8ajeC0",
        "outputId": "4742bedb-e6bc-4967-f1cd-c36f7610f33e"
      },
      "source": [
        "df.corr()['Exited'][:-1].sort_values().plot.barh();"
      ],
      "execution_count": null,
      "outputs": [
        {
          "data": {
            "image/png": "[encoded data removed]",
            "text/plain": [
              "<Figure size 864x432 with 1 Axes>"
            ]
          },
          "metadata": {},
          "output_type": "display_data"
        }
      ]
    },
    {
      "cell_type": "code",
      "metadata": {
        "id": "4K9yWvbjaqAp"
      },
      "source": [
        ""
      ],
      "execution_count": null,
      "outputs": []
    },
    {
      "cell_type": "code",
      "metadata": {
        "scrolled": true,
        "id": "Jaha6ct5aqAq",
        "outputId": "b27e918d-8561-4469-8d3f-87a1927a793b"
      },
      "source": [
        "df = pd.get_dummies(df)\n",
        "df.head()"
      ],
      "execution_count": null,
      "outputs": [
        {
          "data": {
            "text/html": [
              "<div>\n",
              "<style scoped>\n",
              "    .dataframe tbody tr th:only-of-type {\n",
              "        vertical-align: middle;\n",
              "    }\n",
              "\n",
              "    .dataframe tbody tr th {\n",
              "        vertical-align: top;\n",
              "    }\n",
              "\n",
              "    .dataframe thead th {\n",
              "        text-align: right;\n",
              "    }\n",
              "</style>\n",
              "<table border=\"1\" class=\"dataframe\">\n",
              "  <thead>\n",
              "    <tr style=\"text-align: right;\">\n",
              "      <th></th>\n",
              "      <th>CreditScore</th>\n",
              "      <th>Age</th>\n",
              "      <th>Tenure</th>\n",
              "      <th>Balance</th>\n",
              "      <th>NumOfProducts</th>\n",
              "      <th>HasCrCard</th>\n",
              "      <th>IsActiveMember</th>\n",
              "      <th>EstimatedSalary</th>\n",
              "      <th>customer_value</th>\n",
              "      <th>Exited</th>\n",
              "      <th>Geography_France</th>\n",
              "      <th>Geography_Germany</th>\n",
              "      <th>Geography_Spain</th>\n",
              "      <th>Gender_Female</th>\n",
              "      <th>Gender_Male</th>\n",
              "    </tr>\n",
              "    <tr>\n",
              "      <th>RowNumber</th>\n",
              "      <th></th>\n",
              "      <th></th>\n",
              "      <th></th>\n",
              "      <th></th>\n",
              "      <th></th>\n",
              "      <th></th>\n",
              "      <th></th>\n",
              "      <th></th>\n",
              "      <th></th>\n",
              "      <th></th>\n",
              "      <th></th>\n",
              "      <th></th>\n",
              "      <th></th>\n",
              "      <th></th>\n",
              "      <th></th>\n",
              "    </tr>\n",
              "  </thead>\n",
              "  <tbody>\n",
              "    <tr>\n",
              "      <th>1</th>\n",
              "      <td>619</td>\n",
              "      <td>42</td>\n",
              "      <td>2</td>\n",
              "      <td>0.000</td>\n",
              "      <td>1</td>\n",
              "      <td>1</td>\n",
              "      <td>1</td>\n",
              "      <td>101348.880</td>\n",
              "      <td>3</td>\n",
              "      <td>1</td>\n",
              "      <td>1</td>\n",
              "      <td>0</td>\n",
              "      <td>0</td>\n",
              "      <td>1</td>\n",
              "      <td>0</td>\n",
              "    </tr>\n",
              "    <tr>\n",
              "      <th>2</th>\n",
              "      <td>608</td>\n",
              "      <td>41</td>\n",
              "      <td>1</td>\n",
              "      <td>83807.860</td>\n",
              "      <td>1</td>\n",
              "      <td>0</td>\n",
              "      <td>1</td>\n",
              "      <td>112542.580</td>\n",
              "      <td>2</td>\n",
              "      <td>0</td>\n",
              "      <td>0</td>\n",
              "      <td>0</td>\n",
              "      <td>1</td>\n",
              "      <td>1</td>\n",
              "      <td>0</td>\n",
              "    </tr>\n",
              "    <tr>\n",
              "      <th>3</th>\n",
              "      <td>502</td>\n",
              "      <td>42</td>\n",
              "      <td>8</td>\n",
              "      <td>159660.800</td>\n",
              "      <td>3</td>\n",
              "      <td>1</td>\n",
              "      <td>0</td>\n",
              "      <td>113931.570</td>\n",
              "      <td>1</td>\n",
              "      <td>1</td>\n",
              "      <td>1</td>\n",
              "      <td>0</td>\n",
              "      <td>0</td>\n",
              "      <td>1</td>\n",
              "      <td>0</td>\n",
              "    </tr>\n",
              "    <tr>\n",
              "      <th>4</th>\n",
              "      <td>699</td>\n",
              "      <td>39</td>\n",
              "      <td>1</td>\n",
              "      <td>0.000</td>\n",
              "      <td>2</td>\n",
              "      <td>0</td>\n",
              "      <td>0</td>\n",
              "      <td>93826.630</td>\n",
              "      <td>2</td>\n",
              "      <td>0</td>\n",
              "      <td>1</td>\n",
              "      <td>0</td>\n",
              "      <td>0</td>\n",
              "      <td>1</td>\n",
              "      <td>0</td>\n",
              "    </tr>\n",
              "    <tr>\n",
              "      <th>5</th>\n",
              "      <td>850</td>\n",
              "      <td>43</td>\n",
              "      <td>2</td>\n",
              "      <td>125510.820</td>\n",
              "      <td>1</td>\n",
              "      <td>1</td>\n",
              "      <td>1</td>\n",
              "      <td>79084.100</td>\n",
              "      <td>4</td>\n",
              "      <td>0</td>\n",
              "      <td>0</td>\n",
              "      <td>0</td>\n",
              "      <td>1</td>\n",
              "      <td>1</td>\n",
              "      <td>0</td>\n",
              "    </tr>\n",
              "  </tbody>\n",
              "</table>\n",
              "</div>"
            ],
            "text/plain": [
              "           CreditScore  Age  Tenure    Balance  NumOfProducts  HasCrCard  \\\n",
              "RowNumber                                                                  \n",
              "1                  619   42       2      0.000              1          1   \n",
              "2                  608   41       1  83807.860              1          0   \n",
              "3                  502   42       8 159660.800              3          1   \n",
              "4                  699   39       1      0.000              2          0   \n",
              "5                  850   43       2 125510.820              1          1   \n",
              "\n",
              "           IsActiveMember  EstimatedSalary  customer_value  Exited  \\\n",
              "RowNumber                                                            \n",
              "1                       1       101348.880               3       1   \n",
              "2                       1       112542.580               2       0   \n",
              "3                       0       113931.570               1       1   \n",
              "4                       0        93826.630               2       0   \n",
              "5                       1        79084.100               4       0   \n",
              "\n",
              "           Geography_France  Geography_Germany  Geography_Spain  \\\n",
              "RowNumber                                                         \n",
              "1                         1                  0                0   \n",
              "2                         0                  0                1   \n",
              "3                         1                  0                0   \n",
              "4                         1                  0                0   \n",
              "5                         0                  0                1   \n",
              "\n",
              "           Gender_Female  Gender_Male  \n",
              "RowNumber                              \n",
              "1                      1            0  \n",
              "2                      1            0  \n",
              "3                      1            0  \n",
              "4                      1            0  \n",
              "5                      1            0  "
            ]
          },
          "execution_count": 85,
          "metadata": {},
          "output_type": "execute_result"
        }
      ]
    },
    {
      "cell_type": "markdown",
      "metadata": {
        "id": "tBfCuWbHaqAr"
      },
      "source": [
        "## Preprocessing of Data"
      ]
    },
    {
      "cell_type": "code",
      "metadata": {
        "id": "DjY-ZSPWka7D"
      },
      "source": [
        "from sklearn.model_selection import train_test_split\n",
        "from sklearn.preprocessing import MinMaxScaler"
      ],
      "execution_count": null,
      "outputs": []
    },
    {
      "cell_type": "code",
      "metadata": {
        "cell_style": "center",
        "id": "kjyTH753lq7M"
      },
      "source": [
        "X = df.drop('Exited', axis=1)\n",
        "y = df['Exited'].values\n",
        "\n",
        "X_train, X_test, y_train, y_test = train_test_split(X,\n",
        "                                                    y,\n",
        "                                                    stratify=y,\n",
        "                                                    test_size=0.1,\n",
        "                                                    random_state=42)\n"
      ],
      "execution_count": null,
      "outputs": []
    },
    {
      "cell_type": "code",
      "metadata": {
        "cell_style": "split",
        "id": "KEymqlr5aqAs"
      },
      "source": [
        "scaler = MinMaxScaler()\n"
      ],
      "execution_count": null,
      "outputs": []
    },
    {
      "cell_type": "code",
      "metadata": {
        "cell_style": "split",
        "id": "Fgy3D9SBmWcq"
      },
      "source": [
        "X_train = scaler.fit_transform(X_train)\n",
        "X_test = scaler.transform(X_test)"
      ],
      "execution_count": null,
      "outputs": []
    },
    {
      "cell_type": "markdown",
      "metadata": {
        "id": "Ha9hDt_AoGaE"
      },
      "source": [
        "## Modelling & Model Performance"
      ]
    },
    {
      "cell_type": "markdown",
      "metadata": {
        "id": "2-IBE6C3aqAu"
      },
      "source": [
        "<span class=\"mark\">How many hidden layers should I use? : http://www.faqs.org/faqs/ai-faq/neural-nets/part3/section-9.html (mirror: http://francky.me/aifaq/FAQ-comp.ai.neural-net.pdf)\n",
        "How many hidden units should I use? : http://www.faqs.org/faqs/ai-faq/neural-nets/part3/section-10.html (mirror: http://francky.me/aifaq/FAQ-comp.ai.neural-net.pdf)\n",
        "What is genetic algorithm? : https://www.researchgate.net/post/What_is_genetic_algorithm1\n",
        "Genetic algorithm + neural networks: http://francky.me/doc/mrf2011-HEC-ISIR-ENS_en.pdf (chapter 2.2)</span>"
      ]
    },
    {
      "cell_type": "markdown",
      "metadata": {
        "id": "vDw5Yd3FaqAv"
      },
      "source": [
        "### without class_weigth"
      ]
    },
    {
      "cell_type": "code",
      "metadata": {
        "cell_style": "split",
        "id": "Ik2r_xIoaqAv"
      },
      "source": [
        "model = Sequential()\n",
        "\n",
        "model.add(Dense(30, activation=\"relu\"))\n",
        "model.add(Dropout(0.5))\n",
        "model.add(Dense(15, activation=\"relu\"))\n",
        "model.add(Dropout(0.5))\n",
        "model.add(Dense(1, activation=\"sigmoid\"))\n",
        "\n",
        "opt = Adam(lr=0.001)\n",
        "model.compile(optimizer=opt, \n",
        "              loss=\"binary_crossentropy\",\n",
        "              metrics=[\"Recall\"])"
      ],
      "execution_count": null,
      "outputs": []
    },
    {
      "cell_type": "markdown",
      "metadata": {
        "cell_style": "split",
        "id": "fpL5Cs5YaqAw"
      },
      "source": [
        "<span class=\"burk\">The patience is often set somewhere between 10 and 100 (10 or 20 is more common), but it really depends on your dataset and network.</span>"
      ]
    },
    {
      "cell_type": "code",
      "metadata": {
        "cell_style": "split",
        "id": "njSt-CZHaqAx"
      },
      "source": [
        "early_stop = EarlyStopping(monitor=\"val_loss\",\n",
        "                           mode=\"auto\",\n",
        "                           verbose=1,\n",
        "                           patience=30)"
      ],
      "execution_count": null,
      "outputs": []
    },
    {
      "cell_type": "code",
      "metadata": {
        "cell_style": "center",
        "scrolled": true,
        "id": "jJuR6xWvaqAy",
        "outputId": "ea53b06b-c87b-4b18-df92-116b7d524197"
      },
      "source": [
        "model.fit(x=X_train,\n",
        "          y=y_train,\n",
        "          validation_split=.1,\n",
        "          batch_size=128,\n",
        "          epochs=500,\n",
        "          verbose=1,\n",
        "          callbacks=[early_stop])"
      ],
      "execution_count": null,
      "outputs": [
        {
          "name": "stdout",
          "output_type": "stream",
          "text": [
            "Epoch 1/500\n",
            "64/64 [==============================] - 3s 16ms/step - loss: 0.6931 - recall: 0.3747 - val_loss: 0.5348 - val_recall: 0.0000e+00\n",
            "Epoch 2/500\n",
            "64/64 [==============================] - 0s 5ms/step - loss: 0.5567 - recall: 0.0745 - val_loss: 0.4860 - val_recall: 0.0000e+00\n",
            "Epoch 3/500\n",
            "64/64 [==============================] - 0s 6ms/step - loss: 0.5396 - recall: 0.0357 - val_loss: 0.4736 - val_recall: 0.0000e+00\n",
            "Epoch 4/500\n",
            "64/64 [==============================] - 0s 5ms/step - loss: 0.5291 - recall: 0.0278 - val_loss: 0.4679 - val_recall: 0.0000e+00\n",
            "Epoch 5/500\n",
            "64/64 [==============================] - 0s 7ms/step - loss: 0.5205 - recall: 0.0212 - val_loss: 0.4660 - val_recall: 0.0000e+00\n",
            "Epoch 6/500\n",
            "64/64 [==============================] - 0s 6ms/step - loss: 0.5139 - recall: 0.0163 - val_loss: 0.4593 - val_recall: 0.0000e+00\n",
            "Epoch 7/500\n",
            "64/64 [==============================] - 0s 7ms/step - loss: 0.5099 - recall: 0.0097 - val_loss: 0.4558 - val_recall: 0.0000e+00\n",
            "Epoch 8/500\n",
            "64/64 [==============================] - 0s 6ms/step - loss: 0.5034 - recall: 0.0097 - val_loss: 0.4532 - val_recall: 0.0000e+00\n",
            "Epoch 9/500\n",
            "64/64 [==============================] - 0s 6ms/step - loss: 0.5026 - recall: 0.0151 - val_loss: 0.4512 - val_recall: 0.0000e+00\n",
            "Epoch 10/500\n",
            "64/64 [==============================] - 0s 6ms/step - loss: 0.4996 - recall: 0.0061 - val_loss: 0.4503 - val_recall: 0.0000e+00\n",
            "Epoch 11/500\n",
            "64/64 [==============================] - 0s 7ms/step - loss: 0.4912 - recall: 0.0048 - val_loss: 0.4487 - val_recall: 0.0000e+00\n",
            "Epoch 12/500\n",
            "64/64 [==============================] - 0s 7ms/step - loss: 0.4922 - recall: 0.0097 - val_loss: 0.4462 - val_recall: 0.0000e+00\n",
            "Epoch 13/500\n",
            "64/64 [==============================] - 0s 6ms/step - loss: 0.4923 - recall: 0.0163 - val_loss: 0.4448 - val_recall: 0.0000e+00\n",
            "Epoch 14/500\n",
            "64/64 [==============================] - 0s 6ms/step - loss: 0.4873 - recall: 0.0133 - val_loss: 0.4419 - val_recall: 0.0000e+00\n",
            "Epoch 15/500\n",
            "64/64 [==============================] - 0s 7ms/step - loss: 0.4815 - recall: 0.0182 - val_loss: 0.4412 - val_recall: 0.0000e+00\n",
            "Epoch 16/500\n",
            "64/64 [==============================] - 0s 6ms/step - loss: 0.4811 - recall: 0.0042 - val_loss: 0.4405 - val_recall: 0.0000e+00\n",
            "Epoch 17/500\n",
            "64/64 [==============================] - 0s 6ms/step - loss: 0.4837 - recall: 0.0145 - val_loss: 0.4383 - val_recall: 0.0000e+00\n",
            "Epoch 18/500\n",
            "64/64 [==============================] - 0s 6ms/step - loss: 0.4728 - recall: 0.0200 - val_loss: 0.4333 - val_recall: 0.0000e+00\n",
            "Epoch 19/500\n",
            "64/64 [==============================] - 0s 6ms/step - loss: 0.4759 - recall: 0.0363 - val_loss: 0.4356 - val_recall: 0.0000e+00\n",
            "Epoch 20/500\n",
            "64/64 [==============================] - 0s 6ms/step - loss: 0.4680 - recall: 0.0448 - val_loss: 0.4282 - val_recall: 0.0000e+00\n",
            "Epoch 21/500\n",
            "64/64 [==============================] - 0s 4ms/step - loss: 0.4642 - recall: 0.0545 - val_loss: 0.4264 - val_recall: 0.0000e+00\n",
            "Epoch 22/500\n",
            "64/64 [==============================] - 0s 5ms/step - loss: 0.4622 - recall: 0.0654 - val_loss: 0.4237 - val_recall: 0.0000e+00\n",
            "Epoch 23/500\n",
            "64/64 [==============================] - 0s 5ms/step - loss: 0.4644 - recall: 0.0660 - val_loss: 0.4226 - val_recall: 0.0000e+00\n",
            "Epoch 24/500\n",
            "64/64 [==============================] - 0s 6ms/step - loss: 0.4654 - recall: 0.0720 - val_loss: 0.4206 - val_recall: 0.0000e+00\n",
            "Epoch 25/500\n",
            "64/64 [==============================] - 0s 5ms/step - loss: 0.4620 - recall: 0.0726 - val_loss: 0.4196 - val_recall: 0.0000e+00\n",
            "Epoch 26/500\n",
            "64/64 [==============================] - 0s 5ms/step - loss: 0.4577 - recall: 0.0799 - val_loss: 0.4143 - val_recall: 0.0166\n",
            "Epoch 27/500\n",
            "64/64 [==============================] - 0s 6ms/step - loss: 0.4481 - recall: 0.0993 - val_loss: 0.4083 - val_recall: 0.0387\n",
            "Epoch 28/500\n",
            "64/64 [==============================] - 0s 6ms/step - loss: 0.4528 - recall: 0.1102 - val_loss: 0.4080 - val_recall: 0.0442\n",
            "Epoch 29/500\n",
            "64/64 [==============================] - 0s 6ms/step - loss: 0.4536 - recall: 0.1077 - val_loss: 0.4029 - val_recall: 0.0552\n",
            "Epoch 30/500\n",
            "64/64 [==============================] - 0s 6ms/step - loss: 0.4459 - recall: 0.1356 - val_loss: 0.3975 - val_recall: 0.0829\n",
            "Epoch 31/500\n",
            "64/64 [==============================] - 0s 6ms/step - loss: 0.4362 - recall: 0.1489 - val_loss: 0.3896 - val_recall: 0.1381\n",
            "Epoch 32/500\n",
            "64/64 [==============================] - 0s 6ms/step - loss: 0.4379 - recall: 0.1653 - val_loss: 0.3857 - val_recall: 0.1768\n",
            "Epoch 33/500\n",
            "64/64 [==============================] - 0s 6ms/step - loss: 0.4406 - recall: 0.1695 - val_loss: 0.3808 - val_recall: 0.2044\n",
            "Epoch 34/500\n",
            "64/64 [==============================] - 0s 6ms/step - loss: 0.4316 - recall: 0.1955 - val_loss: 0.3774 - val_recall: 0.2376\n",
            "Epoch 35/500\n",
            "64/64 [==============================] - 0s 6ms/step - loss: 0.4341 - recall: 0.1889 - val_loss: 0.3727 - val_recall: 0.2928\n",
            "Epoch 36/500\n",
            "64/64 [==============================] - 0s 7ms/step - loss: 0.4289 - recall: 0.2070 - val_loss: 0.3693 - val_recall: 0.2928\n",
            "Epoch 37/500\n",
            "64/64 [==============================] - 0s 5ms/step - loss: 0.4241 - recall: 0.2167 - val_loss: 0.3676 - val_recall: 0.3923\n",
            "Epoch 38/500\n",
            "64/64 [==============================] - 0s 3ms/step - loss: 0.4226 - recall: 0.2209 - val_loss: 0.3626 - val_recall: 0.3425\n",
            "Epoch 39/500\n",
            "64/64 [==============================] - 0s 3ms/step - loss: 0.4253 - recall: 0.2246 - val_loss: 0.3621 - val_recall: 0.3536\n",
            "Epoch 40/500\n",
            "64/64 [==============================] - 0s 3ms/step - loss: 0.4231 - recall: 0.2367 - val_loss: 0.3608 - val_recall: 0.3149\n",
            "Epoch 41/500\n",
            "64/64 [==============================] - 0s 4ms/step - loss: 0.4208 - recall: 0.2240 - val_loss: 0.3551 - val_recall: 0.4144\n",
            "Epoch 42/500\n",
            "64/64 [==============================] - 0s 4ms/step - loss: 0.4233 - recall: 0.2488 - val_loss: 0.3575 - val_recall: 0.3812\n",
            "Epoch 43/500\n",
            "64/64 [==============================] - 0s 3ms/step - loss: 0.4206 - recall: 0.2367 - val_loss: 0.3550 - val_recall: 0.4309\n",
            "Epoch 44/500\n",
            "64/64 [==============================] - 0s 3ms/step - loss: 0.4158 - recall: 0.2542 - val_loss: 0.3529 - val_recall: 0.3867\n",
            "Epoch 45/500\n",
            "64/64 [==============================] - 0s 4ms/step - loss: 0.4176 - recall: 0.2433 - val_loss: 0.3525 - val_recall: 0.4033\n",
            "Epoch 46/500\n",
            "64/64 [==============================] - 0s 3ms/step - loss: 0.4171 - recall: 0.2524 - val_loss: 0.3514 - val_recall: 0.4199\n",
            "Epoch 47/500\n",
            "64/64 [==============================] - 0s 4ms/step - loss: 0.4161 - recall: 0.2561 - val_loss: 0.3475 - val_recall: 0.4254\n",
            "Epoch 48/500\n",
            "64/64 [==============================] - 0s 4ms/step - loss: 0.4126 - recall: 0.2567 - val_loss: 0.3489 - val_recall: 0.4309\n",
            "Epoch 49/500\n",
            "64/64 [==============================] - 0s 4ms/step - loss: 0.4099 - recall: 0.2778 - val_loss: 0.3470 - val_recall: 0.4033\n",
            "Epoch 50/500\n",
            "64/64 [==============================] - 0s 3ms/step - loss: 0.4095 - recall: 0.2669 - val_loss: 0.3478 - val_recall: 0.4144\n",
            "Epoch 51/500\n",
            "64/64 [==============================] - 0s 3ms/step - loss: 0.4095 - recall: 0.2554 - val_loss: 0.3444 - val_recall: 0.4365\n",
            "Epoch 52/500\n",
            "64/64 [==============================] - 0s 3ms/step - loss: 0.4099 - recall: 0.2682 - val_loss: 0.3406 - val_recall: 0.4530\n",
            "Epoch 53/500\n",
            "64/64 [==============================] - 0s 4ms/step - loss: 0.4069 - recall: 0.2857 - val_loss: 0.3405 - val_recall: 0.4420\n",
            "Epoch 54/500\n",
            "64/64 [==============================] - 0s 3ms/step - loss: 0.4065 - recall: 0.2760 - val_loss: 0.3375 - val_recall: 0.4586\n",
            "Epoch 55/500\n",
            "64/64 [==============================] - 0s 4ms/step - loss: 0.4026 - recall: 0.2766 - val_loss: 0.3371 - val_recall: 0.4475\n",
            "Epoch 56/500\n",
            "64/64 [==============================] - 0s 3ms/step - loss: 0.4049 - recall: 0.2785 - val_loss: 0.3404 - val_recall: 0.4530\n",
            "Epoch 57/500\n",
            "64/64 [==============================] - 0s 3ms/step - loss: 0.4013 - recall: 0.2936 - val_loss: 0.3411 - val_recall: 0.4309\n",
            "Epoch 58/500\n",
            "64/64 [==============================] - 0s 4ms/step - loss: 0.4002 - recall: 0.2827 - val_loss: 0.3370 - val_recall: 0.4365\n",
            "Epoch 59/500\n",
            "64/64 [==============================] - 0s 4ms/step - loss: 0.4005 - recall: 0.2827 - val_loss: 0.3397 - val_recall: 0.4530\n"
          ]
        },
        {
          "name": "stdout",
          "output_type": "stream",
          "text": [
            "Epoch 60/500\n",
            "64/64 [==============================] - 0s 4ms/step - loss: 0.4015 - recall: 0.2863 - val_loss: 0.3368 - val_recall: 0.4309\n",
            "Epoch 61/500\n",
            "64/64 [==============================] - 0s 3ms/step - loss: 0.4005 - recall: 0.2778 - val_loss: 0.3333 - val_recall: 0.4420\n",
            "Epoch 62/500\n",
            "64/64 [==============================] - 0s 4ms/step - loss: 0.3982 - recall: 0.2809 - val_loss: 0.3337 - val_recall: 0.4530\n",
            "Epoch 63/500\n",
            "64/64 [==============================] - 0s 5ms/step - loss: 0.3966 - recall: 0.2887 - val_loss: 0.3368 - val_recall: 0.3867\n",
            "Epoch 64/500\n",
            "64/64 [==============================] - 0s 6ms/step - loss: 0.3994 - recall: 0.2778 - val_loss: 0.3338 - val_recall: 0.4475\n",
            "Epoch 65/500\n",
            "64/64 [==============================] - 0s 3ms/step - loss: 0.3954 - recall: 0.2881 - val_loss: 0.3295 - val_recall: 0.4641\n",
            "Epoch 66/500\n",
            "64/64 [==============================] - 0s 4ms/step - loss: 0.3965 - recall: 0.2918 - val_loss: 0.3324 - val_recall: 0.4309\n",
            "Epoch 67/500\n",
            "64/64 [==============================] - 0s 4ms/step - loss: 0.3962 - recall: 0.2845 - val_loss: 0.3318 - val_recall: 0.4365\n",
            "Epoch 68/500\n",
            "64/64 [==============================] - 0s 3ms/step - loss: 0.3914 - recall: 0.3033 - val_loss: 0.3270 - val_recall: 0.4751\n",
            "Epoch 69/500\n",
            "64/64 [==============================] - 0s 3ms/step - loss: 0.3941 - recall: 0.2887 - val_loss: 0.3288 - val_recall: 0.4420\n",
            "Epoch 70/500\n",
            "64/64 [==============================] - 0s 3ms/step - loss: 0.3971 - recall: 0.2821 - val_loss: 0.3281 - val_recall: 0.4530\n",
            "Epoch 71/500\n",
            "64/64 [==============================] - 0s 3ms/step - loss: 0.3916 - recall: 0.3081 - val_loss: 0.3277 - val_recall: 0.4475\n",
            "Epoch 72/500\n",
            "64/64 [==============================] - 0s 3ms/step - loss: 0.3953 - recall: 0.2785 - val_loss: 0.3252 - val_recall: 0.4530\n",
            "Epoch 73/500\n",
            "64/64 [==============================] - 0s 5ms/step - loss: 0.3917 - recall: 0.3002 - val_loss: 0.3220 - val_recall: 0.4751\n",
            "Epoch 74/500\n",
            "64/64 [==============================] - 0s 4ms/step - loss: 0.3969 - recall: 0.3008 - val_loss: 0.3246 - val_recall: 0.4586\n",
            "Epoch 75/500\n",
            "64/64 [==============================] - 0s 3ms/step - loss: 0.3969 - recall: 0.2906 - val_loss: 0.3233 - val_recall: 0.4586\n",
            "Epoch 76/500\n",
            "64/64 [==============================] - 0s 4ms/step - loss: 0.3875 - recall: 0.3208 - val_loss: 0.3268 - val_recall: 0.4641\n",
            "Epoch 77/500\n",
            "64/64 [==============================] - 0s 3ms/step - loss: 0.3939 - recall: 0.2893 - val_loss: 0.3254 - val_recall: 0.4420\n",
            "Epoch 78/500\n",
            "64/64 [==============================] - 0s 4ms/step - loss: 0.3892 - recall: 0.3045 - val_loss: 0.3257 - val_recall: 0.4475\n",
            "Epoch 79/500\n",
            "64/64 [==============================] - 0s 5ms/step - loss: 0.3925 - recall: 0.3093 - val_loss: 0.3258 - val_recall: 0.4475\n",
            "Epoch 80/500\n",
            "64/64 [==============================] - 0s 3ms/step - loss: 0.3910 - recall: 0.2863 - val_loss: 0.3234 - val_recall: 0.4475\n",
            "Epoch 81/500\n",
            "64/64 [==============================] - 0s 3ms/step - loss: 0.3894 - recall: 0.2912 - val_loss: 0.3279 - val_recall: 0.4475\n",
            "Epoch 82/500\n",
            "64/64 [==============================] - 0s 3ms/step - loss: 0.3893 - recall: 0.3027 - val_loss: 0.3238 - val_recall: 0.4530\n",
            "Epoch 83/500\n",
            "64/64 [==============================] - 0s 3ms/step - loss: 0.3874 - recall: 0.2912 - val_loss: 0.3233 - val_recall: 0.4530\n",
            "Epoch 84/500\n",
            "64/64 [==============================] - 0s 3ms/step - loss: 0.3851 - recall: 0.3136 - val_loss: 0.3210 - val_recall: 0.4586\n",
            "Epoch 85/500\n",
            "64/64 [==============================] - 0s 4ms/step - loss: 0.3930 - recall: 0.2984 - val_loss: 0.3260 - val_recall: 0.4420\n",
            "Epoch 86/500\n",
            "64/64 [==============================] - 0s 4ms/step - loss: 0.3861 - recall: 0.2984 - val_loss: 0.3199 - val_recall: 0.4641\n",
            "Epoch 87/500\n",
            "64/64 [==============================] - 0s 4ms/step - loss: 0.3868 - recall: 0.3196 - val_loss: 0.3227 - val_recall: 0.4475\n",
            "Epoch 88/500\n",
            "64/64 [==============================] - 0s 3ms/step - loss: 0.3882 - recall: 0.2948 - val_loss: 0.3246 - val_recall: 0.4420\n",
            "Epoch 89/500\n",
            "64/64 [==============================] - 0s 4ms/step - loss: 0.3897 - recall: 0.2948 - val_loss: 0.3212 - val_recall: 0.4475\n",
            "Epoch 90/500\n",
            "64/64 [==============================] - 0s 4ms/step - loss: 0.3879 - recall: 0.3154 - val_loss: 0.3211 - val_recall: 0.4530\n",
            "Epoch 91/500\n",
            "64/64 [==============================] - 0s 3ms/step - loss: 0.3877 - recall: 0.3099 - val_loss: 0.3200 - val_recall: 0.4641\n",
            "Epoch 92/500\n",
            "64/64 [==============================] - 0s 3ms/step - loss: 0.3903 - recall: 0.3160 - val_loss: 0.3210 - val_recall: 0.4420\n",
            "Epoch 93/500\n",
            "64/64 [==============================] - 0s 3ms/step - loss: 0.3890 - recall: 0.2972 - val_loss: 0.3202 - val_recall: 0.4586\n",
            "Epoch 94/500\n",
            "64/64 [==============================] - 0s 3ms/step - loss: 0.3861 - recall: 0.3214 - val_loss: 0.3208 - val_recall: 0.4586\n",
            "Epoch 95/500\n",
            "64/64 [==============================] - 0s 4ms/step - loss: 0.3871 - recall: 0.3063 - val_loss: 0.3176 - val_recall: 0.4586\n",
            "Epoch 96/500\n",
            "64/64 [==============================] - 0s 4ms/step - loss: 0.3872 - recall: 0.3057 - val_loss: 0.3183 - val_recall: 0.4530\n",
            "Epoch 97/500\n",
            "64/64 [==============================] - 0s 3ms/step - loss: 0.3850 - recall: 0.3154 - val_loss: 0.3199 - val_recall: 0.4365\n",
            "Epoch 98/500\n",
            "64/64 [==============================] - 0s 5ms/step - loss: 0.3869 - recall: 0.3045 - val_loss: 0.3213 - val_recall: 0.4199\n",
            "Epoch 99/500\n",
            "64/64 [==============================] - 0s 3ms/step - loss: 0.3864 - recall: 0.2966 - val_loss: 0.3185 - val_recall: 0.4530\n",
            "Epoch 100/500\n",
            "64/64 [==============================] - 0s 3ms/step - loss: 0.3876 - recall: 0.3008 - val_loss: 0.3182 - val_recall: 0.4530\n",
            "Epoch 101/500\n",
            "64/64 [==============================] - 0s 3ms/step - loss: 0.3901 - recall: 0.3142 - val_loss: 0.3207 - val_recall: 0.4365\n",
            "Epoch 102/500\n",
            "64/64 [==============================] - 0s 3ms/step - loss: 0.3861 - recall: 0.2996 - val_loss: 0.3178 - val_recall: 0.4586\n",
            "Epoch 103/500\n",
            "64/64 [==============================] - 0s 4ms/step - loss: 0.3857 - recall: 0.3166 - val_loss: 0.3234 - val_recall: 0.4475\n",
            "Epoch 104/500\n",
            "64/64 [==============================] - 0s 4ms/step - loss: 0.3839 - recall: 0.3008 - val_loss: 0.3221 - val_recall: 0.4475\n",
            "Epoch 105/500\n",
            "64/64 [==============================] - 0s 4ms/step - loss: 0.3850 - recall: 0.2990 - val_loss: 0.3197 - val_recall: 0.4586\n",
            "Epoch 106/500\n",
            "64/64 [==============================] - 0s 4ms/step - loss: 0.3865 - recall: 0.3184 - val_loss: 0.3208 - val_recall: 0.4420\n",
            "Epoch 107/500\n",
            "64/64 [==============================] - 0s 4ms/step - loss: 0.3826 - recall: 0.3136 - val_loss: 0.3169 - val_recall: 0.4751\n",
            "Epoch 108/500\n",
            "64/64 [==============================] - 0s 3ms/step - loss: 0.3839 - recall: 0.3293 - val_loss: 0.3176 - val_recall: 0.4586\n",
            "Epoch 109/500\n",
            "64/64 [==============================] - 0s 3ms/step - loss: 0.3838 - recall: 0.3263 - val_loss: 0.3178 - val_recall: 0.4586\n",
            "Epoch 110/500\n",
            "64/64 [==============================] - 0s 3ms/step - loss: 0.3816 - recall: 0.3251 - val_loss: 0.3181 - val_recall: 0.4420\n",
            "Epoch 111/500\n",
            "64/64 [==============================] - 0s 3ms/step - loss: 0.3830 - recall: 0.3057 - val_loss: 0.3158 - val_recall: 0.4641\n",
            "Epoch 112/500\n",
            "64/64 [==============================] - 0s 5ms/step - loss: 0.3820 - recall: 0.3299 - val_loss: 0.3159 - val_recall: 0.4696\n",
            "Epoch 113/500\n",
            "64/64 [==============================] - 0s 3ms/step - loss: 0.3827 - recall: 0.3232 - val_loss: 0.3151 - val_recall: 0.4696\n",
            "Epoch 114/500\n",
            "64/64 [==============================] - 0s 4ms/step - loss: 0.3802 - recall: 0.3323 - val_loss: 0.3181 - val_recall: 0.4586\n",
            "Epoch 115/500\n",
            "64/64 [==============================] - 0s 4ms/step - loss: 0.3830 - recall: 0.3142 - val_loss: 0.3196 - val_recall: 0.4586\n",
            "Epoch 116/500\n",
            "64/64 [==============================] - 0s 3ms/step - loss: 0.3837 - recall: 0.3196 - val_loss: 0.3180 - val_recall: 0.4475\n",
            "Epoch 117/500\n",
            "64/64 [==============================] - 0s 4ms/step - loss: 0.3806 - recall: 0.3251 - val_loss: 0.3190 - val_recall: 0.4420\n",
            "Epoch 118/500\n",
            "64/64 [==============================] - 0s 4ms/step - loss: 0.3828 - recall: 0.3081 - val_loss: 0.3165 - val_recall: 0.4586\n",
            "Epoch 119/500\n"
          ]
        },
        {
          "name": "stdout",
          "output_type": "stream",
          "text": [
            "64/64 [==============================] - 0s 4ms/step - loss: 0.3815 - recall: 0.3335 - val_loss: 0.3176 - val_recall: 0.4475\n",
            "Epoch 120/500\n",
            "64/64 [==============================] - 0s 5ms/step - loss: 0.3816 - recall: 0.3335 - val_loss: 0.3159 - val_recall: 0.4530\n",
            "Epoch 121/500\n",
            "64/64 [==============================] - 0s 4ms/step - loss: 0.3839 - recall: 0.3293 - val_loss: 0.3197 - val_recall: 0.4420\n",
            "Epoch 122/500\n",
            "64/64 [==============================] - 0s 4ms/step - loss: 0.3840 - recall: 0.3075 - val_loss: 0.3179 - val_recall: 0.4420\n",
            "Epoch 123/500\n",
            "64/64 [==============================] - 0s 3ms/step - loss: 0.3803 - recall: 0.3281 - val_loss: 0.3184 - val_recall: 0.4475\n",
            "Epoch 124/500\n",
            "64/64 [==============================] - 0s 3ms/step - loss: 0.3831 - recall: 0.3166 - val_loss: 0.3182 - val_recall: 0.4586\n",
            "Epoch 125/500\n",
            "64/64 [==============================] - 0s 5ms/step - loss: 0.3786 - recall: 0.3335 - val_loss: 0.3188 - val_recall: 0.4530\n",
            "Epoch 126/500\n",
            "64/64 [==============================] - 0s 6ms/step - loss: 0.3839 - recall: 0.3033 - val_loss: 0.3191 - val_recall: 0.4420\n",
            "Epoch 127/500\n",
            "64/64 [==============================] - 0s 3ms/step - loss: 0.3844 - recall: 0.3093 - val_loss: 0.3164 - val_recall: 0.4751\n",
            "Epoch 128/500\n",
            "64/64 [==============================] - 0s 3ms/step - loss: 0.3809 - recall: 0.3196 - val_loss: 0.3145 - val_recall: 0.4530\n",
            "Epoch 129/500\n",
            "64/64 [==============================] - 0s 3ms/step - loss: 0.3821 - recall: 0.3335 - val_loss: 0.3157 - val_recall: 0.4641\n",
            "Epoch 130/500\n",
            "64/64 [==============================] - 0s 3ms/step - loss: 0.3838 - recall: 0.3257 - val_loss: 0.3162 - val_recall: 0.4586\n",
            "Epoch 131/500\n",
            "64/64 [==============================] - 0s 3ms/step - loss: 0.3898 - recall: 0.3130 - val_loss: 0.3208 - val_recall: 0.4365\n",
            "Epoch 132/500\n",
            "64/64 [==============================] - 0s 3ms/step - loss: 0.3794 - recall: 0.3226 - val_loss: 0.3159 - val_recall: 0.4641\n",
            "Epoch 133/500\n",
            "64/64 [==============================] - 0s 3ms/step - loss: 0.3824 - recall: 0.3293 - val_loss: 0.3180 - val_recall: 0.4530\n",
            "Epoch 134/500\n",
            "64/64 [==============================] - 0s 3ms/step - loss: 0.3809 - recall: 0.3311 - val_loss: 0.3183 - val_recall: 0.4530\n",
            "Epoch 135/500\n",
            "64/64 [==============================] - 0s 4ms/step - loss: 0.3851 - recall: 0.3136 - val_loss: 0.3187 - val_recall: 0.4751\n",
            "Epoch 136/500\n",
            "64/64 [==============================] - 0s 3ms/step - loss: 0.3831 - recall: 0.3251 - val_loss: 0.3155 - val_recall: 0.4586\n",
            "Epoch 137/500\n",
            "64/64 [==============================] - 0s 3ms/step - loss: 0.3792 - recall: 0.3238 - val_loss: 0.3136 - val_recall: 0.4586\n",
            "Epoch 138/500\n",
            "64/64 [==============================] - 0s 3ms/step - loss: 0.3808 - recall: 0.3245 - val_loss: 0.3146 - val_recall: 0.4530\n",
            "Epoch 139/500\n",
            "64/64 [==============================] - 0s 3ms/step - loss: 0.3827 - recall: 0.3232 - val_loss: 0.3115 - val_recall: 0.4807\n",
            "Epoch 140/500\n",
            "64/64 [==============================] - 0s 6ms/step - loss: 0.3772 - recall: 0.3414 - val_loss: 0.3178 - val_recall: 0.4475\n",
            "Epoch 141/500\n",
            "64/64 [==============================] - 0s 4ms/step - loss: 0.3763 - recall: 0.3251 - val_loss: 0.3148 - val_recall: 0.4586\n",
            "Epoch 142/500\n",
            "64/64 [==============================] - 0s 4ms/step - loss: 0.3858 - recall: 0.3027 - val_loss: 0.3150 - val_recall: 0.4586\n",
            "Epoch 143/500\n",
            "64/64 [==============================] - 0s 4ms/step - loss: 0.3765 - recall: 0.3360 - val_loss: 0.3133 - val_recall: 0.4586\n",
            "Epoch 144/500\n",
            "64/64 [==============================] - 0s 3ms/step - loss: 0.3788 - recall: 0.3317 - val_loss: 0.3163 - val_recall: 0.4420\n",
            "Epoch 145/500\n",
            "64/64 [==============================] - 0s 3ms/step - loss: 0.3798 - recall: 0.3178 - val_loss: 0.3117 - val_recall: 0.4641\n",
            "Epoch 146/500\n",
            "64/64 [==============================] - 0s 3ms/step - loss: 0.3797 - recall: 0.3172 - val_loss: 0.3146 - val_recall: 0.4696\n",
            "Epoch 147/500\n",
            "64/64 [==============================] - 0s 4ms/step - loss: 0.3804 - recall: 0.3329 - val_loss: 0.3142 - val_recall: 0.4862\n",
            "Epoch 148/500\n",
            "64/64 [==============================] - 0s 3ms/step - loss: 0.3773 - recall: 0.3456 - val_loss: 0.3146 - val_recall: 0.4530\n",
            "Epoch 149/500\n",
            "64/64 [==============================] - 0s 4ms/step - loss: 0.3799 - recall: 0.3226 - val_loss: 0.3160 - val_recall: 0.4641\n",
            "Epoch 150/500\n",
            "64/64 [==============================] - 0s 4ms/step - loss: 0.3828 - recall: 0.3220 - val_loss: 0.3167 - val_recall: 0.4475\n",
            "Epoch 151/500\n",
            "64/64 [==============================] - 0s 4ms/step - loss: 0.3790 - recall: 0.3269 - val_loss: 0.3143 - val_recall: 0.4696\n",
            "Epoch 152/500\n",
            "64/64 [==============================] - 0s 4ms/step - loss: 0.3781 - recall: 0.3354 - val_loss: 0.3118 - val_recall: 0.4696\n",
            "Epoch 153/500\n",
            "64/64 [==============================] - 0s 3ms/step - loss: 0.3835 - recall: 0.3184 - val_loss: 0.3152 - val_recall: 0.4530\n",
            "Epoch 154/500\n",
            "64/64 [==============================] - 0s 3ms/step - loss: 0.3801 - recall: 0.3136 - val_loss: 0.3152 - val_recall: 0.4586\n",
            "Epoch 155/500\n",
            "64/64 [==============================] - 0s 3ms/step - loss: 0.3809 - recall: 0.3142 - val_loss: 0.3102 - val_recall: 0.4751\n",
            "Epoch 156/500\n",
            "64/64 [==============================] - 0s 4ms/step - loss: 0.3775 - recall: 0.3317 - val_loss: 0.3134 - val_recall: 0.4586\n",
            "Epoch 157/500\n",
            "64/64 [==============================] - 0s 4ms/step - loss: 0.3790 - recall: 0.3323 - val_loss: 0.3122 - val_recall: 0.4641\n",
            "Epoch 158/500\n",
            "64/64 [==============================] - 0s 3ms/step - loss: 0.3761 - recall: 0.3287 - val_loss: 0.3101 - val_recall: 0.4696\n",
            "Epoch 159/500\n",
            "64/64 [==============================] - 0s 3ms/step - loss: 0.3784 - recall: 0.3396 - val_loss: 0.3139 - val_recall: 0.4696\n",
            "Epoch 160/500\n",
            "64/64 [==============================] - 0s 3ms/step - loss: 0.3845 - recall: 0.3069 - val_loss: 0.3148 - val_recall: 0.4586\n",
            "Epoch 161/500\n",
            "64/64 [==============================] - 0s 3ms/step - loss: 0.3781 - recall: 0.3269 - val_loss: 0.3123 - val_recall: 0.4586\n",
            "Epoch 162/500\n",
            "64/64 [==============================] - 0s 3ms/step - loss: 0.3771 - recall: 0.3287 - val_loss: 0.3137 - val_recall: 0.4586\n",
            "Epoch 163/500\n",
            "64/64 [==============================] - 0s 4ms/step - loss: 0.3816 - recall: 0.3245 - val_loss: 0.3123 - val_recall: 0.4475\n",
            "Epoch 164/500\n",
            "64/64 [==============================] - 0s 4ms/step - loss: 0.3786 - recall: 0.3293 - val_loss: 0.3126 - val_recall: 0.4475\n",
            "Epoch 165/500\n",
            "64/64 [==============================] - 0s 3ms/step - loss: 0.3846 - recall: 0.3105 - val_loss: 0.3146 - val_recall: 0.4530\n",
            "Epoch 166/500\n",
            "64/64 [==============================] - 0s 4ms/step - loss: 0.3854 - recall: 0.3111 - val_loss: 0.3158 - val_recall: 0.4475\n",
            "Epoch 167/500\n",
            "64/64 [==============================] - 0s 3ms/step - loss: 0.3714 - recall: 0.3402 - val_loss: 0.3119 - val_recall: 0.4641\n",
            "Epoch 168/500\n",
            "64/64 [==============================] - 0s 3ms/step - loss: 0.3794 - recall: 0.3438 - val_loss: 0.3145 - val_recall: 0.4530\n",
            "Epoch 169/500\n",
            "64/64 [==============================] - 0s 3ms/step - loss: 0.3745 - recall: 0.3414 - val_loss: 0.3156 - val_recall: 0.4586\n",
            "Epoch 170/500\n",
            "64/64 [==============================] - 0s 3ms/step - loss: 0.3810 - recall: 0.3269 - val_loss: 0.3119 - val_recall: 0.4641\n",
            "Epoch 171/500\n",
            "64/64 [==============================] - 0s 5ms/step - loss: 0.3789 - recall: 0.3420 - val_loss: 0.3140 - val_recall: 0.4696\n",
            "Epoch 172/500\n",
            "64/64 [==============================] - 0s 4ms/step - loss: 0.3805 - recall: 0.3317 - val_loss: 0.3169 - val_recall: 0.4641\n",
            "Epoch 173/500\n",
            "64/64 [==============================] - 0s 4ms/step - loss: 0.3731 - recall: 0.3281 - val_loss: 0.3146 - val_recall: 0.4862\n",
            "Epoch 174/500\n",
            "64/64 [==============================] - 0s 3ms/step - loss: 0.3804 - recall: 0.3420 - val_loss: 0.3122 - val_recall: 0.4586\n",
            "Epoch 175/500\n",
            "64/64 [==============================] - 0s 3ms/step - loss: 0.3798 - recall: 0.3263 - val_loss: 0.3128 - val_recall: 0.4475\n",
            "Epoch 176/500\n",
            "64/64 [==============================] - 0s 3ms/step - loss: 0.3785 - recall: 0.3287 - val_loss: 0.3124 - val_recall: 0.4586\n",
            "Epoch 177/500\n",
            "64/64 [==============================] - 0s 3ms/step - loss: 0.3787 - recall: 0.3232 - val_loss: 0.3109 - val_recall: 0.4641\n",
            "Epoch 178/500\n"
          ]
        },
        {
          "name": "stdout",
          "output_type": "stream",
          "text": [
            "64/64 [==============================] - 0s 3ms/step - loss: 0.3821 - recall: 0.3166 - val_loss: 0.3130 - val_recall: 0.4696\n",
            "Epoch 179/500\n",
            "64/64 [==============================] - 0s 5ms/step - loss: 0.3777 - recall: 0.3390 - val_loss: 0.3143 - val_recall: 0.4530\n",
            "Epoch 180/500\n",
            "64/64 [==============================] - 0s 3ms/step - loss: 0.3767 - recall: 0.3487 - val_loss: 0.3138 - val_recall: 0.4696\n",
            "Epoch 181/500\n",
            "64/64 [==============================] - 0s 5ms/step - loss: 0.3753 - recall: 0.3293 - val_loss: 0.3092 - val_recall: 0.4696\n",
            "Epoch 182/500\n",
            "64/64 [==============================] - 0s 4ms/step - loss: 0.3797 - recall: 0.3487 - val_loss: 0.3161 - val_recall: 0.4530\n",
            "Epoch 183/500\n",
            "64/64 [==============================] - 0s 3ms/step - loss: 0.3766 - recall: 0.3335 - val_loss: 0.3102 - val_recall: 0.4641\n",
            "Epoch 184/500\n",
            "64/64 [==============================] - 0s 3ms/step - loss: 0.3775 - recall: 0.3317 - val_loss: 0.3128 - val_recall: 0.4420\n",
            "Epoch 185/500\n",
            "64/64 [==============================] - 0s 3ms/step - loss: 0.3773 - recall: 0.3366 - val_loss: 0.3107 - val_recall: 0.4641\n",
            "Epoch 186/500\n",
            "64/64 [==============================] - 0s 4ms/step - loss: 0.3811 - recall: 0.3220 - val_loss: 0.3171 - val_recall: 0.4365\n",
            "Epoch 187/500\n",
            "64/64 [==============================] - 0s 3ms/step - loss: 0.3801 - recall: 0.3202 - val_loss: 0.3116 - val_recall: 0.4751\n",
            "Epoch 188/500\n",
            "64/64 [==============================] - 0s 4ms/step - loss: 0.3754 - recall: 0.3481 - val_loss: 0.3132 - val_recall: 0.4475\n",
            "Epoch 189/500\n",
            "64/64 [==============================] - 0s 3ms/step - loss: 0.3768 - recall: 0.3432 - val_loss: 0.3128 - val_recall: 0.4530\n",
            "Epoch 190/500\n",
            "64/64 [==============================] - 0s 3ms/step - loss: 0.3773 - recall: 0.3390 - val_loss: 0.3154 - val_recall: 0.4420\n",
            "Epoch 191/500\n",
            "64/64 [==============================] - 0s 3ms/step - loss: 0.3790 - recall: 0.3263 - val_loss: 0.3144 - val_recall: 0.4365\n",
            "Epoch 192/500\n",
            "64/64 [==============================] - 0s 6ms/step - loss: 0.3760 - recall: 0.3323 - val_loss: 0.3119 - val_recall: 0.4530\n",
            "Epoch 193/500\n",
            "64/64 [==============================] - 0s 6ms/step - loss: 0.3796 - recall: 0.3257 - val_loss: 0.3129 - val_recall: 0.4586\n",
            "Epoch 194/500\n",
            "64/64 [==============================] - 0s 3ms/step - loss: 0.3791 - recall: 0.3299 - val_loss: 0.3137 - val_recall: 0.4475\n",
            "Epoch 195/500\n",
            "64/64 [==============================] - 0s 3ms/step - loss: 0.3798 - recall: 0.3366 - val_loss: 0.3132 - val_recall: 0.4475\n",
            "Epoch 196/500\n",
            "64/64 [==============================] - 0s 3ms/step - loss: 0.3794 - recall: 0.3293 - val_loss: 0.3100 - val_recall: 0.4862\n",
            "Epoch 197/500\n",
            "64/64 [==============================] - 0s 4ms/step - loss: 0.3791 - recall: 0.3360 - val_loss: 0.3117 - val_recall: 0.4530\n",
            "Epoch 198/500\n",
            "64/64 [==============================] - 0s 4ms/step - loss: 0.3754 - recall: 0.3396 - val_loss: 0.3109 - val_recall: 0.4586\n",
            "Epoch 199/500\n",
            "64/64 [==============================] - 0s 3ms/step - loss: 0.3796 - recall: 0.3384 - val_loss: 0.3154 - val_recall: 0.4365\n",
            "Epoch 200/500\n",
            "64/64 [==============================] - 0s 3ms/step - loss: 0.3809 - recall: 0.3335 - val_loss: 0.3147 - val_recall: 0.4475\n",
            "Epoch 201/500\n",
            "64/64 [==============================] - 0s 3ms/step - loss: 0.3776 - recall: 0.3190 - val_loss: 0.3151 - val_recall: 0.4420\n",
            "Epoch 202/500\n",
            "64/64 [==============================] - 0s 4ms/step - loss: 0.3816 - recall: 0.3341 - val_loss: 0.3124 - val_recall: 0.4530\n",
            "Epoch 203/500\n",
            "64/64 [==============================] - 0s 5ms/step - loss: 0.3795 - recall: 0.3360 - val_loss: 0.3153 - val_recall: 0.4420\n",
            "Epoch 204/500\n",
            "64/64 [==============================] - 0s 3ms/step - loss: 0.3778 - recall: 0.3475 - val_loss: 0.3123 - val_recall: 0.4530\n",
            "Epoch 205/500\n",
            "64/64 [==============================] - 0s 3ms/step - loss: 0.3816 - recall: 0.3220 - val_loss: 0.3141 - val_recall: 0.4475\n",
            "Epoch 206/500\n",
            "64/64 [==============================] - 0s 5ms/step - loss: 0.3747 - recall: 0.3571 - val_loss: 0.3122 - val_recall: 0.4530\n",
            "Epoch 207/500\n",
            "64/64 [==============================] - 0s 3ms/step - loss: 0.3810 - recall: 0.3323 - val_loss: 0.3121 - val_recall: 0.4586\n",
            "Epoch 208/500\n",
            "64/64 [==============================] - 0s 3ms/step - loss: 0.3796 - recall: 0.3184 - val_loss: 0.3144 - val_recall: 0.4696\n",
            "Epoch 209/500\n",
            "64/64 [==============================] - 0s 4ms/step - loss: 0.3787 - recall: 0.3305 - val_loss: 0.3158 - val_recall: 0.4586\n",
            "Epoch 210/500\n",
            "64/64 [==============================] - 0s 5ms/step - loss: 0.3792 - recall: 0.3287 - val_loss: 0.3124 - val_recall: 0.4530\n",
            "Epoch 211/500\n",
            "64/64 [==============================] - 0s 3ms/step - loss: 0.3775 - recall: 0.3565 - val_loss: 0.3155 - val_recall: 0.4420\n",
            "Epoch 00211: early stopping\n"
          ]
        },
        {
          "data": {
            "text/plain": [
              "<keras.callbacks.History at 0x139045b12e0>"
            ]
          },
          "execution_count": 92,
          "metadata": {},
          "output_type": "execute_result"
        }
      ]
    },
    {
      "cell_type": "code",
      "metadata": {
        "cell_style": "center",
        "scrolled": true,
        "id": "GjlFNxbsaqAz",
        "outputId": "a97f77df-d609-4a7f-eb7e-dbf9413563b3"
      },
      "source": [
        "model.summary()"
      ],
      "execution_count": null,
      "outputs": [
        {
          "name": "stdout",
          "output_type": "stream",
          "text": [
            "Model: \"sequential_3\"\n",
            "_________________________________________________________________\n",
            "Layer (type)                 Output Shape              Param #   \n",
            "=================================================================\n",
            "dense_9 (Dense)              (None, 30)                450       \n",
            "_________________________________________________________________\n",
            "dropout_6 (Dropout)          (None, 30)                0         \n",
            "_________________________________________________________________\n",
            "dense_10 (Dense)             (None, 15)                465       \n",
            "_________________________________________________________________\n",
            "dropout_7 (Dropout)          (None, 15)                0         \n",
            "_________________________________________________________________\n",
            "dense_11 (Dense)             (None, 1)                 16        \n",
            "=================================================================\n",
            "Total params: 931\n",
            "Trainable params: 931\n",
            "Non-trainable params: 0\n",
            "_________________________________________________________________\n"
          ]
        }
      ]
    },
    {
      "cell_type": "code",
      "metadata": {
        "cell_style": "split",
        "id": "vQIbjGQduQpQ",
        "scrolled": true,
        "outputId": "792fdaf2-5e58-445e-d22a-7e5d25c6d44f"
      },
      "source": [
        "loss_df = pd.DataFrame(model.history.history)\n",
        "loss_df.plot()"
      ],
      "execution_count": null,
      "outputs": [
        {
          "data": {
            "text/plain": [
              "<AxesSubplot:>"
            ]
          },
          "execution_count": 94,
          "metadata": {},
          "output_type": "execute_result"
        },
        {
          "data": {
            "image/png": "[encoded data removed]",
            "text/plain": [
              "<Figure size 864x432 with 1 Axes>"
            ]
          },
          "metadata": {},
          "output_type": "display_data"
        }
      ]
    },
    {
      "cell_type": "code",
      "metadata": {
        "scrolled": false,
        "id": "-LIAvmNPaqA0",
        "outputId": "3f215c71-2da9-4591-99e5-3cbca9fa4e6b"
      },
      "source": [
        "loss_df.nlargest(10, \"val_recall\")"
      ],
      "execution_count": null,
      "outputs": [
        {
          "data": {
            "text/html": [
              "<div>\n",
              "<style scoped>\n",
              "    .dataframe tbody tr th:only-of-type {\n",
              "        vertical-align: middle;\n",
              "    }\n",
              "\n",
              "    .dataframe tbody tr th {\n",
              "        vertical-align: top;\n",
              "    }\n",
              "\n",
              "    .dataframe thead th {\n",
              "        text-align: right;\n",
              "    }\n",
              "</style>\n",
              "<table border=\"1\" class=\"dataframe\">\n",
              "  <thead>\n",
              "    <tr style=\"text-align: right;\">\n",
              "      <th></th>\n",
              "      <th>loss</th>\n",
              "      <th>recall</th>\n",
              "      <th>val_loss</th>\n",
              "      <th>val_recall</th>\n",
              "    </tr>\n",
              "  </thead>\n",
              "  <tbody>\n",
              "    <tr>\n",
              "      <th>146</th>\n",
              "      <td>0.380</td>\n",
              "      <td>0.333</td>\n",
              "      <td>0.314</td>\n",
              "      <td>0.486</td>\n",
              "    </tr>\n",
              "    <tr>\n",
              "      <th>172</th>\n",
              "      <td>0.373</td>\n",
              "      <td>0.328</td>\n",
              "      <td>0.315</td>\n",
              "      <td>0.486</td>\n",
              "    </tr>\n",
              "    <tr>\n",
              "      <th>195</th>\n",
              "      <td>0.379</td>\n",
              "      <td>0.329</td>\n",
              "      <td>0.310</td>\n",
              "      <td>0.486</td>\n",
              "    </tr>\n",
              "    <tr>\n",
              "      <th>138</th>\n",
              "      <td>0.383</td>\n",
              "      <td>0.323</td>\n",
              "      <td>0.311</td>\n",
              "      <td>0.481</td>\n",
              "    </tr>\n",
              "    <tr>\n",
              "      <th>67</th>\n",
              "      <td>0.391</td>\n",
              "      <td>0.303</td>\n",
              "      <td>0.327</td>\n",
              "      <td>0.475</td>\n",
              "    </tr>\n",
              "    <tr>\n",
              "      <th>72</th>\n",
              "      <td>0.392</td>\n",
              "      <td>0.300</td>\n",
              "      <td>0.322</td>\n",
              "      <td>0.475</td>\n",
              "    </tr>\n",
              "    <tr>\n",
              "      <th>106</th>\n",
              "      <td>0.383</td>\n",
              "      <td>0.314</td>\n",
              "      <td>0.317</td>\n",
              "      <td>0.475</td>\n",
              "    </tr>\n",
              "    <tr>\n",
              "      <th>126</th>\n",
              "      <td>0.384</td>\n",
              "      <td>0.309</td>\n",
              "      <td>0.316</td>\n",
              "      <td>0.475</td>\n",
              "    </tr>\n",
              "    <tr>\n",
              "      <th>134</th>\n",
              "      <td>0.385</td>\n",
              "      <td>0.314</td>\n",
              "      <td>0.319</td>\n",
              "      <td>0.475</td>\n",
              "    </tr>\n",
              "    <tr>\n",
              "      <th>154</th>\n",
              "      <td>0.381</td>\n",
              "      <td>0.314</td>\n",
              "      <td>0.310</td>\n",
              "      <td>0.475</td>\n",
              "    </tr>\n",
              "  </tbody>\n",
              "</table>\n",
              "</div>"
            ],
            "text/plain": [
              "     loss  recall  val_loss  val_recall\n",
              "146 0.380   0.333     0.314       0.486\n",
              "172 0.373   0.328     0.315       0.486\n",
              "195 0.379   0.329     0.310       0.486\n",
              "138 0.383   0.323     0.311       0.481\n",
              "67  0.391   0.303     0.327       0.475\n",
              "72  0.392   0.300     0.322       0.475\n",
              "106 0.383   0.314     0.317       0.475\n",
              "126 0.384   0.309     0.316       0.475\n",
              "134 0.385   0.314     0.319       0.475\n",
              "154 0.381   0.314     0.310       0.475"
            ]
          },
          "execution_count": 95,
          "metadata": {},
          "output_type": "execute_result"
        }
      ]
    },
    {
      "cell_type": "code",
      "metadata": {
        "id": "WdsAHxGoaqA1",
        "outputId": "c8dfb53a-7197-41ca-872b-256208b2874c"
      },
      "source": [
        "loss_df"
      ],
      "execution_count": null,
      "outputs": [
        {
          "data": {
            "text/html": [
              "<div>\n",
              "<style scoped>\n",
              "    .dataframe tbody tr th:only-of-type {\n",
              "        vertical-align: middle;\n",
              "    }\n",
              "\n",
              "    .dataframe tbody tr th {\n",
              "        vertical-align: top;\n",
              "    }\n",
              "\n",
              "    .dataframe thead th {\n",
              "        text-align: right;\n",
              "    }\n",
              "</style>\n",
              "<table border=\"1\" class=\"dataframe\">\n",
              "  <thead>\n",
              "    <tr style=\"text-align: right;\">\n",
              "      <th></th>\n",
              "      <th>loss</th>\n",
              "      <th>recall</th>\n",
              "      <th>val_loss</th>\n",
              "      <th>val_recall</th>\n",
              "    </tr>\n",
              "  </thead>\n",
              "  <tbody>\n",
              "    <tr>\n",
              "      <th>0</th>\n",
              "      <td>0.693</td>\n",
              "      <td>0.375</td>\n",
              "      <td>0.535</td>\n",
              "      <td>0.000</td>\n",
              "    </tr>\n",
              "    <tr>\n",
              "      <th>1</th>\n",
              "      <td>0.557</td>\n",
              "      <td>0.074</td>\n",
              "      <td>0.486</td>\n",
              "      <td>0.000</td>\n",
              "    </tr>\n",
              "    <tr>\n",
              "      <th>2</th>\n",
              "      <td>0.540</td>\n",
              "      <td>0.036</td>\n",
              "      <td>0.474</td>\n",
              "      <td>0.000</td>\n",
              "    </tr>\n",
              "    <tr>\n",
              "      <th>3</th>\n",
              "      <td>0.529</td>\n",
              "      <td>0.028</td>\n",
              "      <td>0.468</td>\n",
              "      <td>0.000</td>\n",
              "    </tr>\n",
              "    <tr>\n",
              "      <th>4</th>\n",
              "      <td>0.520</td>\n",
              "      <td>0.021</td>\n",
              "      <td>0.466</td>\n",
              "      <td>0.000</td>\n",
              "    </tr>\n",
              "    <tr>\n",
              "      <th>...</th>\n",
              "      <td>...</td>\n",
              "      <td>...</td>\n",
              "      <td>...</td>\n",
              "      <td>...</td>\n",
              "    </tr>\n",
              "    <tr>\n",
              "      <th>206</th>\n",
              "      <td>0.381</td>\n",
              "      <td>0.332</td>\n",
              "      <td>0.312</td>\n",
              "      <td>0.459</td>\n",
              "    </tr>\n",
              "    <tr>\n",
              "      <th>207</th>\n",
              "      <td>0.380</td>\n",
              "      <td>0.318</td>\n",
              "      <td>0.314</td>\n",
              "      <td>0.470</td>\n",
              "    </tr>\n",
              "    <tr>\n",
              "      <th>208</th>\n",
              "      <td>0.379</td>\n",
              "      <td>0.331</td>\n",
              "      <td>0.316</td>\n",
              "      <td>0.459</td>\n",
              "    </tr>\n",
              "    <tr>\n",
              "      <th>209</th>\n",
              "      <td>0.379</td>\n",
              "      <td>0.329</td>\n",
              "      <td>0.312</td>\n",
              "      <td>0.453</td>\n",
              "    </tr>\n",
              "    <tr>\n",
              "      <th>210</th>\n",
              "      <td>0.378</td>\n",
              "      <td>0.357</td>\n",
              "      <td>0.316</td>\n",
              "      <td>0.442</td>\n",
              "    </tr>\n",
              "  </tbody>\n",
              "</table>\n",
              "<p>211 rows × 4 columns</p>\n",
              "</div>"
            ],
            "text/plain": [
              "     loss  recall  val_loss  val_recall\n",
              "0   0.693   0.375     0.535       0.000\n",
              "1   0.557   0.074     0.486       0.000\n",
              "2   0.540   0.036     0.474       0.000\n",
              "3   0.529   0.028     0.468       0.000\n",
              "4   0.520   0.021     0.466       0.000\n",
              "..    ...     ...       ...         ...\n",
              "206 0.381   0.332     0.312       0.459\n",
              "207 0.380   0.318     0.314       0.470\n",
              "208 0.379   0.331     0.316       0.459\n",
              "209 0.379   0.329     0.312       0.453\n",
              "210 0.378   0.357     0.316       0.442\n",
              "\n",
              "[211 rows x 4 columns]"
            ]
          },
          "execution_count": 96,
          "metadata": {},
          "output_type": "execute_result"
        }
      ]
    },
    {
      "cell_type": "code",
      "metadata": {
        "cell_style": "split",
        "scrolled": false,
        "tags": [],
        "id": "xJsbOcpiaqA2",
        "outputId": "4d670039-15fa-4747-9f0b-b692cff5a3f6"
      },
      "source": [
        "y_test_pred = (model.predict(X_test) > 0.5).astype(\"int32\")\n",
        "print(confusion_matrix(y_test, y_pred))\n",
        "print(classification_report(y_test, y_test_pred))"
      ],
      "execution_count": null,
      "outputs": [
        {
          "ename": "NameError",
          "evalue": "name 'y_pred' is not defined",
          "output_type": "error",
          "traceback": [
            "\u001b[1;31m---------------------------------------------------------------------------\u001b[0m",
            "\u001b[1;31mNameError\u001b[0m                                 Traceback (most recent call last)",
            "\u001b[1;32m<ipython-input-57-2cec64a49f0b>\u001b[0m in \u001b[0;36m<module>\u001b[1;34m\u001b[0m\n\u001b[0;32m      1\u001b[0m \u001b[0my_test_pred\u001b[0m \u001b[1;33m=\u001b[0m \u001b[1;33m(\u001b[0m\u001b[0mmodel\u001b[0m\u001b[1;33m.\u001b[0m\u001b[0mpredict\u001b[0m\u001b[1;33m(\u001b[0m\u001b[0mX_test\u001b[0m\u001b[1;33m)\u001b[0m \u001b[1;33m>\u001b[0m \u001b[1;36m0.5\u001b[0m\u001b[1;33m)\u001b[0m\u001b[1;33m.\u001b[0m\u001b[0mastype\u001b[0m\u001b[1;33m(\u001b[0m\u001b[1;34m\"int32\"\u001b[0m\u001b[1;33m)\u001b[0m\u001b[1;33m\u001b[0m\u001b[1;33m\u001b[0m\u001b[0m\n\u001b[1;32m----> 2\u001b[1;33m \u001b[0mprint\u001b[0m\u001b[1;33m(\u001b[0m\u001b[0mconfusion_matrix\u001b[0m\u001b[1;33m(\u001b[0m\u001b[0my_test\u001b[0m\u001b[1;33m,\u001b[0m \u001b[0my_pred\u001b[0m\u001b[1;33m)\u001b[0m\u001b[1;33m)\u001b[0m\u001b[1;33m\u001b[0m\u001b[1;33m\u001b[0m\u001b[0m\n\u001b[0m\u001b[0;32m      3\u001b[0m \u001b[0mprint\u001b[0m\u001b[1;33m(\u001b[0m\u001b[0mclassification_report\u001b[0m\u001b[1;33m(\u001b[0m\u001b[0my_test\u001b[0m\u001b[1;33m,\u001b[0m \u001b[0my_test_pred\u001b[0m\u001b[1;33m)\u001b[0m\u001b[1;33m)\u001b[0m\u001b[1;33m\u001b[0m\u001b[1;33m\u001b[0m\u001b[0m\n",
            "\u001b[1;31mNameError\u001b[0m: name 'y_pred' is not defined"
          ]
        }
      ]
    },
    {
      "cell_type": "markdown",
      "metadata": {
        "tags": [],
        "id": "l0JwSmd6aqA3"
      },
      "source": [
        "### ROC (Receiver Operating Curve) and AUC (Area Under Curve) for model"
      ]
    },
    {
      "cell_type": "code",
      "metadata": {
        "cell_style": "split",
        "scrolled": true,
        "id": "ln1v5FYQaqA3"
      },
      "source": [
        "y_pred_proba = model.predict(X_test)\n",
        "fpr, tpr, thresholds = roc_curve(y_test, y_pred_proba)\n",
        "plt.plot([0,1],[0,1],'k--')\n",
        "plt.plot(fpr,tpr, label='ANN')\n",
        "plt.xlabel('False Positive Rate')\n",
        "plt.ylabel('True Positive Rate')\n",
        "plt.title('ROC Curve for Keras Model')\n",
        "plt.show()"
      ],
      "execution_count": null,
      "outputs": []
    },
    {
      "cell_type": "code",
      "metadata": {
        "cell_style": "split",
        "scrolled": true,
        "id": "y3uZuwxPaqA3",
        "outputId": "ac8b02b3-9471-4dc8-8f4e-17668cb5d46b"
      },
      "source": [
        "average_precision_score(y_test, y_pred_proba)"
      ],
      "execution_count": null,
      "outputs": [
        {
          "data": {
            "text/plain": [
              "0.6781085311675284"
            ]
          },
          "execution_count": 122,
          "metadata": {},
          "output_type": "execute_result"
        }
      ]
    },
    {
      "cell_type": "markdown",
      "metadata": {
        "id": "_AhAFlbUaqA4"
      },
      "source": [
        "### with class_weigth"
      ]
    },
    {
      "cell_type": "code",
      "metadata": {
        "cell_style": "split",
        "id": "ezDCIck6aqA4"
      },
      "source": [
        "model_weighted = Sequential()\n",
        "\n",
        "model_weighted.add(Dense(30, activation=\"relu\"))\n",
        "model_weighted.add(Dropout(0.5))\n",
        "model_weighted.add(Dense(15, activation=\"relu\"))\n",
        "model_weighted.add(Dropout(0.5))\n",
        "model_weighted.add(Dense(1, activation=\"sigmoid\"))\n",
        "\n",
        "opt = Adam(lr=0.001)\n",
        "model_weighted.compile(optimizer=opt, \n",
        "                       loss=\"binary_crossentropy\",\n",
        "                       metrics=[\"Recall\"])"
      ],
      "execution_count": null,
      "outputs": []
    },
    {
      "cell_type": "code",
      "metadata": {
        "cell_style": "split",
        "id": "rZxdDT5RaqA5"
      },
      "source": [
        "early_stop = EarlyStopping(monitor=\"val_loss\",\n",
        "                           mode=\"auto\",\n",
        "                           verbose=1,\n",
        "                           patience=30)"
      ],
      "execution_count": null,
      "outputs": []
    },
    {
      "cell_type": "code",
      "metadata": {
        "id": "RG4KU1k4aqA6",
        "outputId": "850eb0c9-409e-4330-de69-16f2710bd306"
      },
      "source": [
        "from sklearn.utils import class_weight\n",
        "\n",
        "class_weights = class_weight.compute_class_weight('balanced',\n",
        "                                                   classes=np.unique(y_train),\n",
        "                                                   y=y_train)\n",
        "\n",
        "class_weights = {0: class_weights[0], 1: class_weights[1]}\n",
        "class_weights"
      ],
      "execution_count": null,
      "outputs": [
        {
          "data": {
            "text/plain": [
              "{0: 0.6278777731268314, 1: 2.454991816693944}"
            ]
          },
          "execution_count": 128,
          "metadata": {},
          "output_type": "execute_result"
        }
      ]
    },
    {
      "cell_type": "code",
      "metadata": {
        "scrolled": false,
        "id": "5gWtQNeQaqA6",
        "outputId": "d8a28aa8-e2ce-4c29-d1e0-2316df81b6da"
      },
      "source": [
        "model_weighted.fit(x=X_train,\n",
        "                   y=y_train,\n",
        "                   validation_split=.1,\n",
        "                   batch_size=128,\n",
        "                   epochs=200,\n",
        "                   verbose=1,\n",
        "                   callbacks=[early_stop],\n",
        "                   class_weight=class_weights)"
      ],
      "execution_count": null,
      "outputs": [
        {
          "name": "stdout",
          "output_type": "stream",
          "text": [
            "Epoch 1/200\n",
            "64/64 [==============================] - 4s 20ms/step - loss: 0.7135 - recall: 0.4546 - val_loss: 0.6911 - val_recall: 0.6961\n",
            "Epoch 2/200\n",
            "64/64 [==============================] - 0s 7ms/step - loss: 0.6908 - recall: 0.4903 - val_loss: 0.6733 - val_recall: 0.6685\n",
            "Epoch 3/200\n",
            "64/64 [==============================] - 0s 7ms/step - loss: 0.6786 - recall: 0.5024 - val_loss: 0.6790 - val_recall: 0.7735\n",
            "Epoch 4/200\n",
            "64/64 [==============================] - 0s 8ms/step - loss: 0.6748 - recall: 0.5811 - val_loss: 0.6606 - val_recall: 0.7072\n",
            "Epoch 5/200\n",
            "64/64 [==============================] - 0s 7ms/step - loss: 0.6630 - recall: 0.6047 - val_loss: 0.6469 - val_recall: 0.6906\n",
            "Epoch 6/200\n",
            "64/64 [==============================] - 1s 8ms/step - loss: 0.6626 - recall: 0.6253 - val_loss: 0.6458 - val_recall: 0.6906\n",
            "Epoch 7/200\n",
            "64/64 [==============================] - 0s 7ms/step - loss: 0.6573 - recall: 0.6519 - val_loss: 0.6434 - val_recall: 0.7293\n",
            "Epoch 8/200\n",
            "64/64 [==============================] - 0s 7ms/step - loss: 0.6536 - recall: 0.6344 - val_loss: 0.6366 - val_recall: 0.7238\n",
            "Epoch 9/200\n",
            "64/64 [==============================] - 1s 8ms/step - loss: 0.6488 - recall: 0.6525 - val_loss: 0.6299 - val_recall: 0.7238\n",
            "Epoch 10/200\n",
            "64/64 [==============================] - 0s 7ms/step - loss: 0.6485 - recall: 0.6477 - val_loss: 0.6182 - val_recall: 0.7127\n",
            "Epoch 11/200\n",
            "64/64 [==============================] - 0s 7ms/step - loss: 0.6447 - recall: 0.6386 - val_loss: 0.6259 - val_recall: 0.7293\n",
            "Epoch 12/200\n",
            "64/64 [==============================] - 0s 7ms/step - loss: 0.6378 - recall: 0.6568 - val_loss: 0.6313 - val_recall: 0.7790\n",
            "Epoch 13/200\n",
            "64/64 [==============================] - 0s 7ms/step - loss: 0.6354 - recall: 0.6713 - val_loss: 0.5985 - val_recall: 0.7293\n",
            "Epoch 14/200\n",
            "64/64 [==============================] - 1s 8ms/step - loss: 0.6274 - recall: 0.6544 - val_loss: 0.6043 - val_recall: 0.7845\n",
            "Epoch 15/200\n",
            "64/64 [==============================] - 0s 7ms/step - loss: 0.6262 - recall: 0.6653 - val_loss: 0.5974 - val_recall: 0.7845\n",
            "Epoch 16/200\n",
            "64/64 [==============================] - 0s 7ms/step - loss: 0.6213 - recall: 0.6628 - val_loss: 0.5916 - val_recall: 0.7790\n",
            "Epoch 17/200\n",
            "64/64 [==============================] - 0s 7ms/step - loss: 0.6148 - recall: 0.6798 - val_loss: 0.5763 - val_recall: 0.7624\n",
            "Epoch 18/200\n",
            "64/64 [==============================] - 0s 7ms/step - loss: 0.6167 - recall: 0.6725 - val_loss: 0.5753 - val_recall: 0.7624\n",
            "Epoch 19/200\n",
            "64/64 [==============================] - 1s 10ms/step - loss: 0.6114 - recall: 0.6749 - val_loss: 0.5590 - val_recall: 0.7459\n",
            "Epoch 20/200\n",
            "64/64 [==============================] - 0s 7ms/step - loss: 0.6063 - recall: 0.6719 - val_loss: 0.5548 - val_recall: 0.7569\n",
            "Epoch 21/200\n",
            "64/64 [==============================] - 0s 6ms/step - loss: 0.6006 - recall: 0.6870 - val_loss: 0.5505 - val_recall: 0.7680\n",
            "Epoch 22/200\n",
            "64/64 [==============================] - 0s 7ms/step - loss: 0.6004 - recall: 0.6762 - val_loss: 0.5639 - val_recall: 0.8066\n",
            "Epoch 23/200\n",
            "64/64 [==============================] - 0s 8ms/step - loss: 0.5983 - recall: 0.6955 - val_loss: 0.5536 - val_recall: 0.8011\n",
            "Epoch 24/200\n",
            "64/64 [==============================] - 0s 7ms/step - loss: 0.5917 - recall: 0.7107 - val_loss: 0.5339 - val_recall: 0.7956\n",
            "Epoch 25/200\n",
            "64/64 [==============================] - 0s 7ms/step - loss: 0.5835 - recall: 0.7100 - val_loss: 0.5199 - val_recall: 0.7790\n",
            "Epoch 26/200\n",
            "64/64 [==============================] - 0s 7ms/step - loss: 0.5809 - recall: 0.7028 - val_loss: 0.5280 - val_recall: 0.8066\n",
            "Epoch 27/200\n",
            "64/64 [==============================] - 0s 7ms/step - loss: 0.5751 - recall: 0.7022 - val_loss: 0.5080 - val_recall: 0.7901\n",
            "Epoch 28/200\n",
            "64/64 [==============================] - 0s 7ms/step - loss: 0.5770 - recall: 0.7082 - val_loss: 0.5030 - val_recall: 0.8011\n",
            "Epoch 29/200\n",
            "64/64 [==============================] - 0s 6ms/step - loss: 0.5632 - recall: 0.6998 - val_loss: 0.4999 - val_recall: 0.8066\n",
            "Epoch 30/200\n",
            "64/64 [==============================] - 0s 6ms/step - loss: 0.5597 - recall: 0.7016 - val_loss: 0.5185 - val_recall: 0.8232\n",
            "Epoch 31/200\n",
            "64/64 [==============================] - 0s 7ms/step - loss: 0.5633 - recall: 0.7016 - val_loss: 0.4743 - val_recall: 0.7735\n",
            "Epoch 32/200\n",
            "64/64 [==============================] - 0s 7ms/step - loss: 0.5595 - recall: 0.7119 - val_loss: 0.4909 - val_recall: 0.7956\n",
            "Epoch 33/200\n",
            "64/64 [==============================] - 0s 7ms/step - loss: 0.5575 - recall: 0.7010 - val_loss: 0.4968 - val_recall: 0.8122\n",
            "Epoch 34/200\n",
            "64/64 [==============================] - 0s 7ms/step - loss: 0.5562 - recall: 0.7161 - val_loss: 0.5113 - val_recall: 0.8343\n",
            "Epoch 35/200\n",
            "64/64 [==============================] - 0s 7ms/step - loss: 0.5583 - recall: 0.7276 - val_loss: 0.4883 - val_recall: 0.8177\n",
            "Epoch 36/200\n",
            "64/64 [==============================] - 0s 6ms/step - loss: 0.5409 - recall: 0.7258 - val_loss: 0.4733 - val_recall: 0.8122\n",
            "Epoch 37/200\n",
            "64/64 [==============================] - 0s 7ms/step - loss: 0.5477 - recall: 0.7034 - val_loss: 0.4851 - val_recall: 0.8232\n",
            "Epoch 38/200\n",
            "64/64 [==============================] - 0s 7ms/step - loss: 0.5498 - recall: 0.7113 - val_loss: 0.4778 - val_recall: 0.8177\n",
            "Epoch 39/200\n",
            "64/64 [==============================] - 0s 7ms/step - loss: 0.5433 - recall: 0.7246 - val_loss: 0.4768 - val_recall: 0.8232\n",
            "Epoch 40/200\n",
            "64/64 [==============================] - 0s 8ms/step - loss: 0.5486 - recall: 0.7246 - val_loss: 0.4611 - val_recall: 0.8066\n",
            "Epoch 41/200\n",
            "64/64 [==============================] - 0s 7ms/step - loss: 0.5423 - recall: 0.7143 - val_loss: 0.4806 - val_recall: 0.8232\n",
            "Epoch 42/200\n",
            "64/64 [==============================] - 0s 7ms/step - loss: 0.5440 - recall: 0.7288 - val_loss: 0.4599 - val_recall: 0.8177\n",
            "Epoch 43/200\n",
            "64/64 [==============================] - 0s 8ms/step - loss: 0.5404 - recall: 0.7258 - val_loss: 0.4897 - val_recall: 0.8398\n",
            "Epoch 44/200\n",
            "64/64 [==============================] - 0s 7ms/step - loss: 0.5403 - recall: 0.7349 - val_loss: 0.4581 - val_recall: 0.8011\n",
            "Epoch 45/200\n",
            "64/64 [==============================] - 0s 7ms/step - loss: 0.5363 - recall: 0.7215 - val_loss: 0.4790 - val_recall: 0.8343\n",
            "Epoch 46/200\n",
            "64/64 [==============================] - 1s 9ms/step - loss: 0.5396 - recall: 0.7367 - val_loss: 0.5001 - val_recall: 0.8287\n",
            "Epoch 47/200\n",
            "64/64 [==============================] - 0s 6ms/step - loss: 0.5430 - recall: 0.7197 - val_loss: 0.4657 - val_recall: 0.8066\n",
            "Epoch 48/200\n",
            "64/64 [==============================] - 0s 7ms/step - loss: 0.5390 - recall: 0.7288 - val_loss: 0.4761 - val_recall: 0.8398\n",
            "Epoch 49/200\n",
            "64/64 [==============================] - 0s 7ms/step - loss: 0.5325 - recall: 0.7300 - val_loss: 0.4812 - val_recall: 0.8398\n",
            "Epoch 50/200\n",
            "64/64 [==============================] - 0s 8ms/step - loss: 0.5306 - recall: 0.7276 - val_loss: 0.4561 - val_recall: 0.8232\n",
            "Epoch 51/200\n",
            "64/64 [==============================] - 0s 7ms/step - loss: 0.5330 - recall: 0.7209 - val_loss: 0.4801 - val_recall: 0.8453\n",
            "Epoch 52/200\n",
            "64/64 [==============================] - 1s 8ms/step - loss: 0.5304 - recall: 0.7379 - val_loss: 0.4760 - val_recall: 0.8343\n",
            "Epoch 53/200\n",
            "64/64 [==============================] - 0s 7ms/step - loss: 0.5275 - recall: 0.7542 - val_loss: 0.4868 - val_recall: 0.8564\n",
            "Epoch 54/200\n",
            "64/64 [==============================] - 0s 7ms/step - loss: 0.5251 - recall: 0.7591 - val_loss: 0.4674 - val_recall: 0.8453\n",
            "Epoch 55/200\n",
            "64/64 [==============================] - 0s 6ms/step - loss: 0.5249 - recall: 0.7421 - val_loss: 0.4538 - val_recall: 0.8287\n",
            "Epoch 56/200\n",
            "64/64 [==============================] - 0s 7ms/step - loss: 0.5383 - recall: 0.7536 - val_loss: 0.4812 - val_recall: 0.8564\n",
            "Epoch 57/200\n",
            "64/64 [==============================] - 0s 7ms/step - loss: 0.5328 - recall: 0.7464 - val_loss: 0.4743 - val_recall: 0.8508\n",
            "Epoch 58/200\n",
            "64/64 [==============================] - 0s 7ms/step - loss: 0.5338 - recall: 0.7500 - val_loss: 0.4693 - val_recall: 0.8287\n",
            "Epoch 59/200\n",
            "64/64 [==============================] - 0s 7ms/step - loss: 0.5275 - recall: 0.7403 - val_loss: 0.4740 - val_recall: 0.8398\n",
            "Epoch 60/200\n",
            "64/64 [==============================] - 0s 7ms/step - loss: 0.5288 - recall: 0.7433 - val_loss: 0.4748 - val_recall: 0.8398\n",
            "Epoch 61/200\n",
            "64/64 [==============================] - 0s 7ms/step - loss: 0.5302 - recall: 0.7385 - val_loss: 0.4411 - val_recall: 0.8011\n",
            "Epoch 62/200\n",
            "64/64 [==============================] - 0s 7ms/step - loss: 0.5280 - recall: 0.7367 - val_loss: 0.4586 - val_recall: 0.8398\n",
            "Epoch 63/200\n",
            "64/64 [==============================] - 0s 7ms/step - loss: 0.5279 - recall: 0.7446 - val_loss: 0.4648 - val_recall: 0.8508\n",
            "Epoch 64/200\n",
            "64/64 [==============================] - 0s 7ms/step - loss: 0.5189 - recall: 0.7512 - val_loss: 0.4653 - val_recall: 0.8398\n",
            "Epoch 65/200\n",
            "64/64 [==============================] - 0s 7ms/step - loss: 0.5209 - recall: 0.7367 - val_loss: 0.4804 - val_recall: 0.8564\n",
            "Epoch 66/200\n",
            "64/64 [==============================] - 0s 6ms/step - loss: 0.5249 - recall: 0.7536 - val_loss: 0.4706 - val_recall: 0.8398\n",
            "Epoch 67/200\n",
            "64/64 [==============================] - 0s 7ms/step - loss: 0.5271 - recall: 0.7488 - val_loss: 0.4774 - val_recall: 0.8508\n",
            "Epoch 68/200\n",
            "64/64 [==============================] - 0s 7ms/step - loss: 0.5274 - recall: 0.7439 - val_loss: 0.4569 - val_recall: 0.8398\n",
            "Epoch 69/200\n",
            "64/64 [==============================] - 0s 6ms/step - loss: 0.5145 - recall: 0.7530 - val_loss: 0.4405 - val_recall: 0.8343\n",
            "Epoch 70/200\n",
            "64/64 [==============================] - 0s 7ms/step - loss: 0.5230 - recall: 0.7524 - val_loss: 0.4547 - val_recall: 0.8287\n",
            "Epoch 71/200\n",
            "64/64 [==============================] - 0s 6ms/step - loss: 0.5286 - recall: 0.7470 - val_loss: 0.4819 - val_recall: 0.8564\n",
            "Epoch 72/200\n",
            "64/64 [==============================] - 0s 6ms/step - loss: 0.5230 - recall: 0.7536 - val_loss: 0.4862 - val_recall: 0.8674\n",
            "Epoch 73/200\n",
            "64/64 [==============================] - 0s 6ms/step - loss: 0.5261 - recall: 0.7439 - val_loss: 0.4673 - val_recall: 0.8453\n",
            "Epoch 74/200\n",
            "64/64 [==============================] - 0s 6ms/step - loss: 0.5293 - recall: 0.7476 - val_loss: 0.4713 - val_recall: 0.8398\n",
            "Epoch 75/200\n",
            "64/64 [==============================] - 0s 7ms/step - loss: 0.5182 - recall: 0.7464 - val_loss: 0.4688 - val_recall: 0.8508\n",
            "Epoch 76/200\n",
            "64/64 [==============================] - 0s 6ms/step - loss: 0.5212 - recall: 0.7609 - val_loss: 0.4596 - val_recall: 0.8508\n",
            "Epoch 77/200\n",
            "64/64 [==============================] - 0s 7ms/step - loss: 0.5144 - recall: 0.7627 - val_loss: 0.4412 - val_recall: 0.8287\n",
            "Epoch 78/200\n",
            "64/64 [==============================] - 0s 7ms/step - loss: 0.5208 - recall: 0.7512 - val_loss: 0.4652 - val_recall: 0.8508\n",
            "Epoch 79/200\n",
            "64/64 [==============================] - 0s 7ms/step - loss: 0.5179 - recall: 0.7536 - val_loss: 0.4331 - val_recall: 0.8177\n",
            "Epoch 80/200\n",
            "64/64 [==============================] - 0s 7ms/step - loss: 0.5196 - recall: 0.7651 - val_loss: 0.4673 - val_recall: 0.8508\n",
            "Epoch 81/200\n",
            "64/64 [==============================] - 0s 7ms/step - loss: 0.5198 - recall: 0.7609 - val_loss: 0.4493 - val_recall: 0.8398\n",
            "Epoch 82/200\n",
            "64/64 [==============================] - 0s 7ms/step - loss: 0.5148 - recall: 0.7530 - val_loss: 0.4645 - val_recall: 0.8508\n",
            "Epoch 83/200\n",
            "64/64 [==============================] - 0s 6ms/step - loss: 0.5184 - recall: 0.7603 - val_loss: 0.4620 - val_recall: 0.8508\n",
            "Epoch 84/200\n",
            "64/64 [==============================] - 0s 7ms/step - loss: 0.5110 - recall: 0.7688 - val_loss: 0.4432 - val_recall: 0.8453\n",
            "Epoch 85/200\n",
            "64/64 [==============================] - 0s 7ms/step - loss: 0.5175 - recall: 0.7573 - val_loss: 0.4544 - val_recall: 0.8508\n",
            "Epoch 86/200\n",
            "64/64 [==============================] - 0s 7ms/step - loss: 0.5167 - recall: 0.7688 - val_loss: 0.4402 - val_recall: 0.8343\n",
            "Epoch 87/200\n",
            "64/64 [==============================] - 0s 6ms/step - loss: 0.5198 - recall: 0.7524 - val_loss: 0.4656 - val_recall: 0.8508\n",
            "Epoch 88/200\n",
            "64/64 [==============================] - 0s 6ms/step - loss: 0.5163 - recall: 0.7458 - val_loss: 0.4770 - val_recall: 0.8508\n",
            "Epoch 89/200\n",
            "64/64 [==============================] - 0s 7ms/step - loss: 0.5136 - recall: 0.7609 - val_loss: 0.4647 - val_recall: 0.8564\n",
            "Epoch 90/200\n",
            "64/64 [==============================] - 0s 6ms/step - loss: 0.5234 - recall: 0.7615 - val_loss: 0.4486 - val_recall: 0.8343\n",
            "Epoch 91/200\n",
            "64/64 [==============================] - 0s 6ms/step - loss: 0.5140 - recall: 0.7645 - val_loss: 0.4617 - val_recall: 0.8508\n",
            "Epoch 92/200\n",
            "64/64 [==============================] - 0s 7ms/step - loss: 0.5166 - recall: 0.7585 - val_loss: 0.4521 - val_recall: 0.8398\n",
            "Epoch 93/200\n",
            "64/64 [==============================] - 0s 6ms/step - loss: 0.5175 - recall: 0.7494 - val_loss: 0.4421 - val_recall: 0.8287\n",
            "Epoch 94/200\n",
            "64/64 [==============================] - 0s 6ms/step - loss: 0.5172 - recall: 0.7688 - val_loss: 0.4683 - val_recall: 0.8564\n",
            "Epoch 95/200\n",
            "64/64 [==============================] - 0s 6ms/step - loss: 0.5139 - recall: 0.7651 - val_loss: 0.4543 - val_recall: 0.8508\n",
            "Epoch 96/200\n",
            "64/64 [==============================] - 0s 6ms/step - loss: 0.5139 - recall: 0.7688 - val_loss: 0.4455 - val_recall: 0.8453\n",
            "Epoch 97/200\n",
            "64/64 [==============================] - 0s 7ms/step - loss: 0.5155 - recall: 0.7657 - val_loss: 0.4499 - val_recall: 0.8453\n",
            "Epoch 98/200\n",
            "64/64 [==============================] - 0s 8ms/step - loss: 0.5214 - recall: 0.7609 - val_loss: 0.4496 - val_recall: 0.8453\n",
            "Epoch 99/200\n",
            "64/64 [==============================] - 0s 7ms/step - loss: 0.5153 - recall: 0.7524 - val_loss: 0.4576 - val_recall: 0.8453\n",
            "Epoch 100/200\n",
            "64/64 [==============================] - 0s 7ms/step - loss: 0.5069 - recall: 0.7700 - val_loss: 0.4379 - val_recall: 0.8343\n",
            "Epoch 101/200\n",
            "64/64 [==============================] - 0s 7ms/step - loss: 0.5141 - recall: 0.7712 - val_loss: 0.4507 - val_recall: 0.8453\n",
            "Epoch 102/200\n",
            "64/64 [==============================] - 0s 6ms/step - loss: 0.5114 - recall: 0.7585 - val_loss: 0.4659 - val_recall: 0.8508\n",
            "Epoch 103/200\n",
            "64/64 [==============================] - 0s 7ms/step - loss: 0.5089 - recall: 0.7754 - val_loss: 0.4556 - val_recall: 0.8508\n",
            "Epoch 104/200\n",
            "64/64 [==============================] - 0s 6ms/step - loss: 0.5124 - recall: 0.7712 - val_loss: 0.4627 - val_recall: 0.8564\n",
            "Epoch 105/200\n",
            "64/64 [==============================] - 0s 6ms/step - loss: 0.5063 - recall: 0.7772 - val_loss: 0.4340 - val_recall: 0.8453\n",
            "Epoch 106/200\n",
            "64/64 [==============================] - 0s 6ms/step - loss: 0.5144 - recall: 0.7651 - val_loss: 0.4508 - val_recall: 0.8564\n",
            "Epoch 107/200\n",
            "64/64 [==============================] - 0s 6ms/step - loss: 0.5116 - recall: 0.7712 - val_loss: 0.4310 - val_recall: 0.8453\n",
            "Epoch 108/200\n",
            "64/64 [==============================] - 0s 6ms/step - loss: 0.5160 - recall: 0.7688 - val_loss: 0.4589 - val_recall: 0.8508\n",
            "Epoch 109/200\n",
            "64/64 [==============================] - 0s 6ms/step - loss: 0.5111 - recall: 0.7657 - val_loss: 0.4748 - val_recall: 0.8564\n",
            "Epoch 110/200\n",
            "64/64 [==============================] - 0s 6ms/step - loss: 0.5109 - recall: 0.7760 - val_loss: 0.4363 - val_recall: 0.8453\n",
            "Epoch 111/200\n",
            "64/64 [==============================] - 0s 6ms/step - loss: 0.5102 - recall: 0.7573 - val_loss: 0.4472 - val_recall: 0.8453\n",
            "Epoch 112/200\n",
            "64/64 [==============================] - 0s 6ms/step - loss: 0.5149 - recall: 0.7724 - val_loss: 0.4494 - val_recall: 0.8453\n",
            "Epoch 113/200\n",
            "64/64 [==============================] - 0s 6ms/step - loss: 0.5070 - recall: 0.7772 - val_loss: 0.4581 - val_recall: 0.8564\n",
            "Epoch 114/200\n",
            "64/64 [==============================] - 0s 6ms/step - loss: 0.5098 - recall: 0.7669 - val_loss: 0.4438 - val_recall: 0.8453\n",
            "Epoch 115/200\n",
            "64/64 [==============================] - 0s 6ms/step - loss: 0.5043 - recall: 0.7548 - val_loss: 0.4599 - val_recall: 0.8619\n",
            "Epoch 116/200\n",
            "64/64 [==============================] - 0s 6ms/step - loss: 0.5135 - recall: 0.7694 - val_loss: 0.4551 - val_recall: 0.8508\n",
            "Epoch 117/200\n",
            "64/64 [==============================] - 0s 6ms/step - loss: 0.5113 - recall: 0.7621 - val_loss: 0.4394 - val_recall: 0.8453\n",
            "Epoch 118/200\n",
            "64/64 [==============================] - 0s 6ms/step - loss: 0.5087 - recall: 0.7682 - val_loss: 0.4396 - val_recall: 0.8564\n",
            "Epoch 119/200\n"
          ]
        },
        {
          "name": "stdout",
          "output_type": "stream",
          "text": [
            "64/64 [==============================] - 0s 6ms/step - loss: 0.5065 - recall: 0.7712 - val_loss: 0.4547 - val_recall: 0.8619\n",
            "Epoch 120/200\n",
            "64/64 [==============================] - 0s 6ms/step - loss: 0.5078 - recall: 0.7694 - val_loss: 0.4425 - val_recall: 0.8564\n",
            "Epoch 121/200\n",
            "64/64 [==============================] - 0s 6ms/step - loss: 0.5074 - recall: 0.7633 - val_loss: 0.4346 - val_recall: 0.8398\n",
            "Epoch 122/200\n",
            "64/64 [==============================] - 0s 6ms/step - loss: 0.5108 - recall: 0.7609 - val_loss: 0.4568 - val_recall: 0.8619\n",
            "Epoch 123/200\n",
            "64/64 [==============================] - 0s 6ms/step - loss: 0.5050 - recall: 0.7663 - val_loss: 0.4619 - val_recall: 0.8674\n",
            "Epoch 124/200\n",
            "64/64 [==============================] - 0s 6ms/step - loss: 0.5078 - recall: 0.7772 - val_loss: 0.4296 - val_recall: 0.8398\n",
            "Epoch 125/200\n",
            "64/64 [==============================] - ETA: 0s - loss: 0.5139 - recall: 0.76 - 0s 6ms/step - loss: 0.5139 - recall: 0.7633 - val_loss: 0.4593 - val_recall: 0.8619\n",
            "Epoch 126/200\n",
            "64/64 [==============================] - 0s 6ms/step - loss: 0.5065 - recall: 0.7706 - val_loss: 0.4522 - val_recall: 0.8508\n",
            "Epoch 127/200\n",
            "64/64 [==============================] - 0s 6ms/step - loss: 0.5117 - recall: 0.7754 - val_loss: 0.4435 - val_recall: 0.8508\n",
            "Epoch 128/200\n",
            "64/64 [==============================] - 0s 6ms/step - loss: 0.5178 - recall: 0.7651 - val_loss: 0.4718 - val_recall: 0.8619\n",
            "Epoch 129/200\n",
            "64/64 [==============================] - 0s 6ms/step - loss: 0.5085 - recall: 0.7718 - val_loss: 0.4496 - val_recall: 0.8564\n",
            "Epoch 130/200\n",
            "64/64 [==============================] - 0s 6ms/step - loss: 0.5134 - recall: 0.7730 - val_loss: 0.4629 - val_recall: 0.8674\n",
            "Epoch 131/200\n",
            "64/64 [==============================] - 0s 6ms/step - loss: 0.5097 - recall: 0.7712 - val_loss: 0.4453 - val_recall: 0.8508\n",
            "Epoch 132/200\n",
            "64/64 [==============================] - 0s 6ms/step - loss: 0.5106 - recall: 0.7797 - val_loss: 0.4590 - val_recall: 0.8619\n",
            "Epoch 133/200\n",
            "64/64 [==============================] - 0s 6ms/step - loss: 0.5071 - recall: 0.7718 - val_loss: 0.4511 - val_recall: 0.8508\n",
            "Epoch 134/200\n",
            "64/64 [==============================] - 0s 7ms/step - loss: 0.5115 - recall: 0.7754 - val_loss: 0.4522 - val_recall: 0.8508\n",
            "Epoch 135/200\n",
            "64/64 [==============================] - 0s 6ms/step - loss: 0.5060 - recall: 0.7833 - val_loss: 0.4410 - val_recall: 0.8398\n",
            "Epoch 136/200\n",
            "64/64 [==============================] - 0s 6ms/step - loss: 0.5111 - recall: 0.7633 - val_loss: 0.4561 - val_recall: 0.8508\n",
            "Epoch 137/200\n",
            "64/64 [==============================] - 0s 6ms/step - loss: 0.5046 - recall: 0.7736 - val_loss: 0.4685 - val_recall: 0.8674\n",
            "Epoch 138/200\n",
            "64/64 [==============================] - 0s 6ms/step - loss: 0.5147 - recall: 0.7718 - val_loss: 0.4470 - val_recall: 0.8619\n",
            "Epoch 139/200\n",
            "64/64 [==============================] - 0s 6ms/step - loss: 0.5090 - recall: 0.7954 - val_loss: 0.4646 - val_recall: 0.8619\n",
            "Epoch 140/200\n",
            "64/64 [==============================] - 0s 6ms/step - loss: 0.5023 - recall: 0.7676 - val_loss: 0.4558 - val_recall: 0.8619\n",
            "Epoch 141/200\n",
            "64/64 [==============================] - 0s 6ms/step - loss: 0.5077 - recall: 0.7694 - val_loss: 0.4365 - val_recall: 0.8508\n",
            "Epoch 142/200\n",
            "64/64 [==============================] - 0s 6ms/step - loss: 0.5068 - recall: 0.7778 - val_loss: 0.4244 - val_recall: 0.8398\n",
            "Epoch 143/200\n",
            "64/64 [==============================] - 0s 6ms/step - loss: 0.5069 - recall: 0.7724 - val_loss: 0.4363 - val_recall: 0.8398\n",
            "Epoch 144/200\n",
            "64/64 [==============================] - 0s 6ms/step - loss: 0.5039 - recall: 0.7730 - val_loss: 0.4474 - val_recall: 0.8564\n",
            "Epoch 145/200\n",
            "64/64 [==============================] - 0s 6ms/step - loss: 0.5058 - recall: 0.7918 - val_loss: 0.4317 - val_recall: 0.8453\n",
            "Epoch 146/200\n",
            "64/64 [==============================] - 0s 7ms/step - loss: 0.5072 - recall: 0.7694 - val_loss: 0.4391 - val_recall: 0.8674\n",
            "Epoch 147/200\n",
            "64/64 [==============================] - ETA: 0s - loss: 0.5003 - recall: 0.78 - 0s 6ms/step - loss: 0.5054 - recall: 0.7815 - val_loss: 0.4620 - val_recall: 0.8674\n",
            "Epoch 148/200\n",
            "64/64 [==============================] - 0s 6ms/step - loss: 0.5116 - recall: 0.7651 - val_loss: 0.4587 - val_recall: 0.8785\n",
            "Epoch 149/200\n",
            "64/64 [==============================] - 0s 6ms/step - loss: 0.5054 - recall: 0.7724 - val_loss: 0.4381 - val_recall: 0.8453\n",
            "Epoch 150/200\n",
            "64/64 [==============================] - 0s 6ms/step - loss: 0.5098 - recall: 0.7736 - val_loss: 0.4585 - val_recall: 0.8729\n",
            "Epoch 151/200\n",
            "64/64 [==============================] - 0s 6ms/step - loss: 0.5042 - recall: 0.7851 - val_loss: 0.4532 - val_recall: 0.8619\n",
            "Epoch 152/200\n",
            "64/64 [==============================] - 0s 6ms/step - loss: 0.5104 - recall: 0.7827 - val_loss: 0.4683 - val_recall: 0.8729\n",
            "Epoch 153/200\n",
            "64/64 [==============================] - 0s 6ms/step - loss: 0.5028 - recall: 0.7827 - val_loss: 0.4491 - val_recall: 0.8564\n",
            "Epoch 154/200\n",
            "64/64 [==============================] - 0s 6ms/step - loss: 0.5013 - recall: 0.7766 - val_loss: 0.4520 - val_recall: 0.8674\n",
            "Epoch 155/200\n",
            "64/64 [==============================] - 0s 6ms/step - loss: 0.5017 - recall: 0.7791 - val_loss: 0.4470 - val_recall: 0.8619\n",
            "Epoch 156/200\n",
            "64/64 [==============================] - 0s 7ms/step - loss: 0.5057 - recall: 0.7803 - val_loss: 0.4486 - val_recall: 0.8674\n",
            "Epoch 157/200\n",
            "64/64 [==============================] - 0s 7ms/step - loss: 0.4974 - recall: 0.7881 - val_loss: 0.4400 - val_recall: 0.8564\n",
            "Epoch 158/200\n",
            "64/64 [==============================] - 0s 6ms/step - loss: 0.5006 - recall: 0.7730 - val_loss: 0.4267 - val_recall: 0.8287\n",
            "Epoch 159/200\n",
            "64/64 [==============================] - 0s 7ms/step - loss: 0.5041 - recall: 0.7785 - val_loss: 0.4473 - val_recall: 0.8619\n",
            "Epoch 160/200\n",
            "64/64 [==============================] - 1s 9ms/step - loss: 0.5011 - recall: 0.7845 - val_loss: 0.4408 - val_recall: 0.8619\n",
            "Epoch 161/200\n",
            "64/64 [==============================] - 0s 6ms/step - loss: 0.5029 - recall: 0.7863 - val_loss: 0.4471 - val_recall: 0.8619\n",
            "Epoch 162/200\n",
            "64/64 [==============================] - 0s 7ms/step - loss: 0.5050 - recall: 0.7754 - val_loss: 0.4424 - val_recall: 0.8674\n",
            "Epoch 163/200\n",
            "64/64 [==============================] - 0s 8ms/step - loss: 0.5136 - recall: 0.7676 - val_loss: 0.4530 - val_recall: 0.8729\n",
            "Epoch 164/200\n",
            "64/64 [==============================] - 0s 7ms/step - loss: 0.5103 - recall: 0.7748 - val_loss: 0.4405 - val_recall: 0.8508\n",
            "Epoch 165/200\n",
            "64/64 [==============================] - 0s 6ms/step - loss: 0.4990 - recall: 0.7785 - val_loss: 0.4373 - val_recall: 0.8674\n",
            "Epoch 166/200\n",
            "64/64 [==============================] - 0s 7ms/step - loss: 0.5079 - recall: 0.7851 - val_loss: 0.4344 - val_recall: 0.8564\n",
            "Epoch 167/200\n",
            "64/64 [==============================] - 0s 6ms/step - loss: 0.5008 - recall: 0.7821 - val_loss: 0.4524 - val_recall: 0.8674\n",
            "Epoch 168/200\n",
            "64/64 [==============================] - 0s 7ms/step - loss: 0.5056 - recall: 0.7803 - val_loss: 0.4497 - val_recall: 0.8619\n",
            "Epoch 169/200\n",
            "64/64 [==============================] - 0s 6ms/step - loss: 0.5054 - recall: 0.7688 - val_loss: 0.4440 - val_recall: 0.8674\n",
            "Epoch 170/200\n",
            "64/64 [==============================] - 0s 6ms/step - loss: 0.5024 - recall: 0.7785 - val_loss: 0.4369 - val_recall: 0.8729\n",
            "Epoch 171/200\n",
            "64/64 [==============================] - 0s 6ms/step - loss: 0.4966 - recall: 0.7857 - val_loss: 0.4596 - val_recall: 0.8785\n",
            "Epoch 172/200\n",
            "64/64 [==============================] - 0s 7ms/step - loss: 0.5027 - recall: 0.7815 - val_loss: 0.4598 - val_recall: 0.8729\n",
            "Epoch 00172: early stopping\n"
          ]
        },
        {
          "data": {
            "text/plain": [
              "<keras.callbacks.History at 0x1f106e3a408>"
            ]
          },
          "execution_count": 129,
          "metadata": {},
          "output_type": "execute_result"
        }
      ]
    },
    {
      "cell_type": "code",
      "metadata": {
        "cell_style": "split",
        "scrolled": true,
        "id": "9CxHoT8jaqA7",
        "outputId": "b19d5f4c-8708-4f47-f2be-30d90cbfce26"
      },
      "source": [
        "loss_df = pd.DataFrame(model_weighted.history.history)\n",
        "loss_df.plot()"
      ],
      "execution_count": null,
      "outputs": [
        {
          "data": {
            "text/plain": [
              "<AxesSubplot:>"
            ]
          },
          "execution_count": 131,
          "metadata": {},
          "output_type": "execute_result"
        },
        {
          "data": {
            "image/png": "[encoded data removed]",
            "text/plain": [
              "<Figure size 864x432 with 1 Axes>"
            ]
          },
          "metadata": {},
          "output_type": "display_data"
        }
      ]
    },
    {
      "cell_type": "code",
      "metadata": {
        "id": "tvCNeyJXaqA8",
        "outputId": "14d2d3f8-6a64-4ee7-9270-2af0a9df19cb"
      },
      "source": [
        "loss_df.nlargest(10, \"val_recall\")"
      ],
      "execution_count": null,
      "outputs": [
        {
          "data": {
            "text/html": [
              "<div>\n",
              "<style scoped>\n",
              "    .dataframe tbody tr th:only-of-type {\n",
              "        vertical-align: middle;\n",
              "    }\n",
              "\n",
              "    .dataframe tbody tr th {\n",
              "        vertical-align: top;\n",
              "    }\n",
              "\n",
              "    .dataframe thead th {\n",
              "        text-align: right;\n",
              "    }\n",
              "</style>\n",
              "<table border=\"1\" class=\"dataframe\">\n",
              "  <thead>\n",
              "    <tr style=\"text-align: right;\">\n",
              "      <th></th>\n",
              "      <th>loss</th>\n",
              "      <th>recall</th>\n",
              "      <th>val_loss</th>\n",
              "      <th>val_recall</th>\n",
              "    </tr>\n",
              "  </thead>\n",
              "  <tbody>\n",
              "    <tr>\n",
              "      <th>147</th>\n",
              "      <td>0.512</td>\n",
              "      <td>0.765</td>\n",
              "      <td>0.459</td>\n",
              "      <td>0.878</td>\n",
              "    </tr>\n",
              "    <tr>\n",
              "      <th>170</th>\n",
              "      <td>0.497</td>\n",
              "      <td>0.786</td>\n",
              "      <td>0.460</td>\n",
              "      <td>0.878</td>\n",
              "    </tr>\n",
              "    <tr>\n",
              "      <th>149</th>\n",
              "      <td>0.510</td>\n",
              "      <td>0.774</td>\n",
              "      <td>0.458</td>\n",
              "      <td>0.873</td>\n",
              "    </tr>\n",
              "    <tr>\n",
              "      <th>151</th>\n",
              "      <td>0.510</td>\n",
              "      <td>0.783</td>\n",
              "      <td>0.468</td>\n",
              "      <td>0.873</td>\n",
              "    </tr>\n",
              "    <tr>\n",
              "      <th>162</th>\n",
              "      <td>0.514</td>\n",
              "      <td>0.768</td>\n",
              "      <td>0.453</td>\n",
              "      <td>0.873</td>\n",
              "    </tr>\n",
              "    <tr>\n",
              "      <th>169</th>\n",
              "      <td>0.502</td>\n",
              "      <td>0.778</td>\n",
              "      <td>0.437</td>\n",
              "      <td>0.873</td>\n",
              "    </tr>\n",
              "    <tr>\n",
              "      <th>171</th>\n",
              "      <td>0.503</td>\n",
              "      <td>0.781</td>\n",
              "      <td>0.460</td>\n",
              "      <td>0.873</td>\n",
              "    </tr>\n",
              "    <tr>\n",
              "      <th>71</th>\n",
              "      <td>0.523</td>\n",
              "      <td>0.754</td>\n",
              "      <td>0.486</td>\n",
              "      <td>0.867</td>\n",
              "    </tr>\n",
              "    <tr>\n",
              "      <th>122</th>\n",
              "      <td>0.505</td>\n",
              "      <td>0.766</td>\n",
              "      <td>0.462</td>\n",
              "      <td>0.867</td>\n",
              "    </tr>\n",
              "    <tr>\n",
              "      <th>129</th>\n",
              "      <td>0.513</td>\n",
              "      <td>0.773</td>\n",
              "      <td>0.463</td>\n",
              "      <td>0.867</td>\n",
              "    </tr>\n",
              "  </tbody>\n",
              "</table>\n",
              "</div>"
            ],
            "text/plain": [
              "     loss  recall  val_loss  val_recall\n",
              "147 0.512   0.765     0.459       0.878\n",
              "170 0.497   0.786     0.460       0.878\n",
              "149 0.510   0.774     0.458       0.873\n",
              "151 0.510   0.783     0.468       0.873\n",
              "162 0.514   0.768     0.453       0.873\n",
              "169 0.502   0.778     0.437       0.873\n",
              "171 0.503   0.781     0.460       0.873\n",
              "71  0.523   0.754     0.486       0.867\n",
              "122 0.505   0.766     0.462       0.867\n",
              "129 0.513   0.773     0.463       0.867"
            ]
          },
          "execution_count": 132,
          "metadata": {},
          "output_type": "execute_result"
        }
      ]
    },
    {
      "cell_type": "code",
      "metadata": {
        "id": "zfAKRY9taqA8",
        "outputId": "ce67a1cf-12e2-4729-f400-bfa72b37c6f9"
      },
      "source": [
        "loss_df "
      ],
      "execution_count": null,
      "outputs": [
        {
          "data": {
            "text/html": [
              "<div>\n",
              "<style scoped>\n",
              "    .dataframe tbody tr th:only-of-type {\n",
              "        vertical-align: middle;\n",
              "    }\n",
              "\n",
              "    .dataframe tbody tr th {\n",
              "        vertical-align: top;\n",
              "    }\n",
              "\n",
              "    .dataframe thead th {\n",
              "        text-align: right;\n",
              "    }\n",
              "</style>\n",
              "<table border=\"1\" class=\"dataframe\">\n",
              "  <thead>\n",
              "    <tr style=\"text-align: right;\">\n",
              "      <th></th>\n",
              "      <th>loss</th>\n",
              "      <th>recall</th>\n",
              "      <th>val_loss</th>\n",
              "      <th>val_recall</th>\n",
              "    </tr>\n",
              "  </thead>\n",
              "  <tbody>\n",
              "    <tr>\n",
              "      <th>0</th>\n",
              "      <td>0.713</td>\n",
              "      <td>0.455</td>\n",
              "      <td>0.691</td>\n",
              "      <td>0.696</td>\n",
              "    </tr>\n",
              "    <tr>\n",
              "      <th>1</th>\n",
              "      <td>0.691</td>\n",
              "      <td>0.490</td>\n",
              "      <td>0.673</td>\n",
              "      <td>0.669</td>\n",
              "    </tr>\n",
              "    <tr>\n",
              "      <th>2</th>\n",
              "      <td>0.679</td>\n",
              "      <td>0.502</td>\n",
              "      <td>0.679</td>\n",
              "      <td>0.773</td>\n",
              "    </tr>\n",
              "    <tr>\n",
              "      <th>3</th>\n",
              "      <td>0.675</td>\n",
              "      <td>0.581</td>\n",
              "      <td>0.661</td>\n",
              "      <td>0.707</td>\n",
              "    </tr>\n",
              "    <tr>\n",
              "      <th>4</th>\n",
              "      <td>0.663</td>\n",
              "      <td>0.605</td>\n",
              "      <td>0.647</td>\n",
              "      <td>0.691</td>\n",
              "    </tr>\n",
              "    <tr>\n",
              "      <th>...</th>\n",
              "      <td>...</td>\n",
              "      <td>...</td>\n",
              "      <td>...</td>\n",
              "      <td>...</td>\n",
              "    </tr>\n",
              "    <tr>\n",
              "      <th>167</th>\n",
              "      <td>0.506</td>\n",
              "      <td>0.780</td>\n",
              "      <td>0.450</td>\n",
              "      <td>0.862</td>\n",
              "    </tr>\n",
              "    <tr>\n",
              "      <th>168</th>\n",
              "      <td>0.505</td>\n",
              "      <td>0.769</td>\n",
              "      <td>0.444</td>\n",
              "      <td>0.867</td>\n",
              "    </tr>\n",
              "    <tr>\n",
              "      <th>169</th>\n",
              "      <td>0.502</td>\n",
              "      <td>0.778</td>\n",
              "      <td>0.437</td>\n",
              "      <td>0.873</td>\n",
              "    </tr>\n",
              "    <tr>\n",
              "      <th>170</th>\n",
              "      <td>0.497</td>\n",
              "      <td>0.786</td>\n",
              "      <td>0.460</td>\n",
              "      <td>0.878</td>\n",
              "    </tr>\n",
              "    <tr>\n",
              "      <th>171</th>\n",
              "      <td>0.503</td>\n",
              "      <td>0.781</td>\n",
              "      <td>0.460</td>\n",
              "      <td>0.873</td>\n",
              "    </tr>\n",
              "  </tbody>\n",
              "</table>\n",
              "<p>172 rows × 4 columns</p>\n",
              "</div>"
            ],
            "text/plain": [
              "     loss  recall  val_loss  val_recall\n",
              "0   0.713   0.455     0.691       0.696\n",
              "1   0.691   0.490     0.673       0.669\n",
              "2   0.679   0.502     0.679       0.773\n",
              "3   0.675   0.581     0.661       0.707\n",
              "4   0.663   0.605     0.647       0.691\n",
              "..    ...     ...       ...         ...\n",
              "167 0.506   0.780     0.450       0.862\n",
              "168 0.505   0.769     0.444       0.867\n",
              "169 0.502   0.778     0.437       0.873\n",
              "170 0.497   0.786     0.460       0.878\n",
              "171 0.503   0.781     0.460       0.873\n",
              "\n",
              "[172 rows x 4 columns]"
            ]
          },
          "execution_count": 133,
          "metadata": {},
          "output_type": "execute_result"
        }
      ]
    },
    {
      "cell_type": "code",
      "metadata": {
        "cell_style": "split",
        "id": "xNU-BUWNaqA9",
        "outputId": "7ccb6fd5-84ff-4b20-ca56-4ad329732993"
      },
      "source": [
        "y_test_pred = (model_weighted.predict(X_test) > 0.5).astype(\"int32\")\n",
        "print(confusion_matrix(y_test, y_test_pred))\n",
        "print(classification_report(y_test, y_test_pred))"
      ],
      "execution_count": null,
      "outputs": [
        {
          "name": "stdout",
          "output_type": "stream",
          "text": [
            "[[541 255]\n",
            " [ 39 165]]\n",
            "              precision    recall  f1-score   support\n",
            "\n",
            "           0       0.93      0.68      0.79       796\n",
            "           1       0.39      0.81      0.53       204\n",
            "\n",
            "    accuracy                           0.71      1000\n",
            "   macro avg       0.66      0.74      0.66      1000\n",
            "weighted avg       0.82      0.71      0.73      1000\n",
            "\n"
          ]
        }
      ]
    },
    {
      "cell_type": "markdown",
      "metadata": {
        "id": "3-tPXSqLaqA9"
      },
      "source": [
        "### ROC (Receiver Operating Curve) and AUC (Area Under Curve) for model"
      ]
    },
    {
      "cell_type": "code",
      "metadata": {
        "cell_style": "split",
        "scrolled": true,
        "id": "1l9BjzqTaqA-",
        "outputId": "9cab9a16-3513-428e-aefe-2df4e51e5449"
      },
      "source": [
        "y_pred_proba = model_weighted.predict(X_test)\n",
        "fpr, tpr, thresholds = roc_curve(y_test, y_pred_proba)\n",
        "plt.plot([0,1],[0,1],'k--')\n",
        "plt.plot(fpr,tpr, label='ANN')\n",
        "plt.xlabel('False Positive Rate')\n",
        "plt.ylabel('True Positive Rate')\n",
        "plt.title('ROC Curve for Keras Model')\n",
        "plt.show()"
      ],
      "execution_count": null,
      "outputs": [
        {
          "data": {
            "image/png": "[encoded data removed]",
            "text/plain": [
              "<Figure size 864x432 with 1 Axes>"
            ]
          },
          "metadata": {},
          "output_type": "display_data"
        }
      ]
    },
    {
      "cell_type": "code",
      "metadata": {
        "cell_style": "split",
        "id": "HJK6HadyaqA-",
        "outputId": "83317c37-cb1e-4886-8ee2-59262702303c"
      },
      "source": [
        "average_precision_score(y_test, y_pred_proba)"
      ],
      "execution_count": null,
      "outputs": [
        {
          "data": {
            "text/plain": [
              "0.6781085311675284"
            ]
          },
          "execution_count": 136,
          "metadata": {},
          "output_type": "execute_result"
        }
      ]
    },
    {
      "cell_type": "markdown",
      "metadata": {
        "id": "a4TZa4-PaqA_"
      },
      "source": [
        "## GridSearchCV"
      ]
    },
    {
      "cell_type": "code",
      "metadata": {
        "id": "odP21L7faqA_"
      },
      "source": [
        "from tensorflow.keras.wrappers.scikit_learn import KerasClassifier"
      ],
      "execution_count": null,
      "outputs": []
    },
    {
      "cell_type": "code",
      "metadata": {
        "id": "2nNsiAW2aqBA"
      },
      "source": [
        "def build_classifier(optimizer):\n",
        "    \n",
        "    classifier = Sequential()\n",
        "    classifier.add(Dense(30, activation=\"relu\"))\n",
        "    classifier.add(Dropout(0.5))\n",
        "    classifier.add(Dense(15, activation=\"relu\"))\n",
        "    classifier.add(Dropout(0.5))\n",
        "    classifier.add(Dense(1, activation=\"sigmoid\"))\n",
        "    \n",
        "    classifier.compile(optimizer=optimizer,\n",
        "                       loss='binary_crossentropy',\n",
        "                       metrics=['Recall'])\n",
        "    return classifier"
      ],
      "execution_count": null,
      "outputs": []
    },
    {
      "cell_type": "code",
      "metadata": {
        "id": "IhwiFmmiaqBA",
        "outputId": "3a1f8d26-2728-4cc1-8663-5d4a6769c1eb"
      },
      "source": [
        "class_weights"
      ],
      "execution_count": null,
      "outputs": [
        {
          "data": {
            "text/plain": [
              "{0: 0.6278777731268314, 1: 2.454991816693944}"
            ]
          },
          "execution_count": 142,
          "metadata": {},
          "output_type": "execute_result"
        }
      ]
    },
    {
      "cell_type": "code",
      "metadata": {
        "scrolled": true,
        "id": "6jsENi6maqBB",
        "outputId": "199d25b5-ea75-41af-a314-e12c59ecaa31"
      },
      "source": [
        "classifier = KerasClassifier(build_fn=build_classifier, epochs=150)\n",
        "parameters = {'batch_size': [128, 256],\n",
        "              'optimizer': [Adam, 'rmsprop', \"SGD\", \"adagrad\", \"adadelta\"]}\n",
        "\n",
        "grid_model = GridSearchCV(estimator=classifier,\n",
        "                          param_grid=parameters,\n",
        "                          scoring='recall',\n",
        "                          cv=5,\n",
        "                          n_jobs=-1,\n",
        "                          verbose=0).fit(X_train, y_train, class_weight=class_weights)"
      ],
      "execution_count": null,
      "outputs": [
        {
          "name": "stdout",
          "output_type": "stream",
          "text": [
            "Epoch 1/150\n",
            "71/71 [==============================] - 4s 6ms/step - loss: 0.7106 - recall: 0.4501\n",
            "Epoch 2/150\n",
            "71/71 [==============================] - 0s 5ms/step - loss: 0.6879 - recall: 0.5548\n",
            "Epoch 3/150\n",
            "71/71 [==============================] - 0s 5ms/step - loss: 0.6737 - recall: 0.6241\n",
            "Epoch 4/150\n",
            "71/71 [==============================] - 0s 5ms/step - loss: 0.6732 - recall: 0.6170\n",
            "Epoch 5/150\n",
            "71/71 [==============================] - 0s 5ms/step - loss: 0.6655 - recall: 0.6459\n",
            "Epoch 6/150\n",
            "71/71 [==============================] - 0s 5ms/step - loss: 0.6602 - recall: 0.6508\n",
            "Epoch 7/150\n",
            "71/71 [==============================] - 0s 5ms/step - loss: 0.6579 - recall: 0.6438\n",
            "Epoch 8/150\n",
            "71/71 [==============================] - 0s 5ms/step - loss: 0.6534 - recall: 0.6912\n",
            "Epoch 9/150\n",
            "71/71 [==============================] - 0s 5ms/step - loss: 0.6506 - recall: 0.6863\n",
            "Epoch 10/150\n",
            "71/71 [==============================] - 0s 5ms/step - loss: 0.6492 - recall: 0.6476\n",
            "Epoch 11/150\n",
            "71/71 [==============================] - 0s 5ms/step - loss: 0.6412 - recall: 0.6727\n",
            "Epoch 12/150\n",
            "71/71 [==============================] - 0s 5ms/step - loss: 0.6370 - recall: 0.6809\n",
            "Epoch 13/150\n",
            "71/71 [==============================] - 0s 5ms/step - loss: 0.6312 - recall: 0.6896\n",
            "Epoch 14/150\n",
            "71/71 [==============================] - 0s 5ms/step - loss: 0.6321 - recall: 0.6858\n",
            "Epoch 15/150\n",
            "71/71 [==============================] - 0s 5ms/step - loss: 0.6325 - recall: 0.6852\n",
            "Epoch 16/150\n",
            "71/71 [==============================] - 0s 5ms/step - loss: 0.6280 - recall: 0.6754\n",
            "Epoch 17/150\n",
            "71/71 [==============================] - 0s 5ms/step - loss: 0.6240 - recall: 0.6623\n",
            "Epoch 18/150\n",
            "71/71 [==============================] - 0s 5ms/step - loss: 0.6245 - recall: 0.6858\n",
            "Epoch 19/150\n",
            "71/71 [==============================] - 0s 5ms/step - loss: 0.6097 - recall: 0.6650\n",
            "Epoch 20/150\n",
            "71/71 [==============================] - 0s 5ms/step - loss: 0.6108 - recall: 0.6836\n",
            "Epoch 21/150\n",
            "71/71 [==============================] - 0s 5ms/step - loss: 0.6069 - recall: 0.6727\n",
            "Epoch 22/150\n",
            "71/71 [==============================] - 0s 5ms/step - loss: 0.6039 - recall: 0.6683\n",
            "Epoch 23/150\n",
            "71/71 [==============================] - 0s 6ms/step - loss: 0.5953 - recall: 0.6759\n",
            "Epoch 24/150\n",
            "71/71 [==============================] - 0s 5ms/step - loss: 0.5978 - recall: 0.6907\n",
            "Epoch 25/150\n",
            "71/71 [==============================] - 0s 5ms/step - loss: 0.5970 - recall: 0.6825\n",
            "Epoch 26/150\n",
            "71/71 [==============================] - 0s 4ms/step - loss: 0.5923 - recall: 0.6743\n",
            "Epoch 27/150\n",
            "71/71 [==============================] - 0s 4ms/step - loss: 0.5912 - recall: 0.6716\n",
            "Epoch 28/150\n",
            "71/71 [==============================] - 0s 4ms/step - loss: 0.5828 - recall: 0.6847\n",
            "Epoch 29/150\n",
            "71/71 [==============================] - 0s 4ms/step - loss: 0.5809 - recall: 0.7043\n",
            "Epoch 30/150\n",
            "71/71 [==============================] - 0s 4ms/step - loss: 0.5768 - recall: 0.6885\n",
            "Epoch 31/150\n",
            "71/71 [==============================] - 0s 4ms/step - loss: 0.5769 - recall: 0.6770\n",
            "Epoch 32/150\n",
            "71/71 [==============================] - 0s 4ms/step - loss: 0.5717 - recall: 0.6841\n",
            "Epoch 33/150\n",
            "71/71 [==============================] - 0s 4ms/step - loss: 0.5687 - recall: 0.6803\n",
            "Epoch 34/150\n",
            "71/71 [==============================] - 0s 4ms/step - loss: 0.5690 - recall: 0.6798\n",
            "Epoch 35/150\n",
            "71/71 [==============================] - 0s 4ms/step - loss: 0.5683 - recall: 0.6825\n",
            "Epoch 36/150\n",
            "71/71 [==============================] - 0s 4ms/step - loss: 0.5604 - recall: 0.6929\n",
            "Epoch 37/150\n",
            "71/71 [==============================] - 0s 5ms/step - loss: 0.5651 - recall: 0.6748\n",
            "Epoch 38/150\n",
            "71/71 [==============================] - 0s 4ms/step - loss: 0.5635 - recall: 0.6754\n",
            "Epoch 39/150\n",
            "71/71 [==============================] - 0s 4ms/step - loss: 0.5634 - recall: 0.6803\n",
            "Epoch 40/150\n",
            "71/71 [==============================] - 0s 4ms/step - loss: 0.5561 - recall: 0.6885\n",
            "Epoch 41/150\n",
            "71/71 [==============================] - 0s 4ms/step - loss: 0.5519 - recall: 0.6678\n",
            "Epoch 42/150\n",
            "71/71 [==============================] - 0s 5ms/step - loss: 0.5499 - recall: 0.6923\n",
            "Epoch 43/150\n",
            "71/71 [==============================] - 0s 4ms/step - loss: 0.5534 - recall: 0.6721\n",
            "Epoch 44/150\n",
            "71/71 [==============================] - 0s 5ms/step - loss: 0.5544 - recall: 0.6814\n",
            "Epoch 45/150\n",
            "71/71 [==============================] - 0s 5ms/step - loss: 0.5541 - recall: 0.6836\n",
            "Epoch 46/150\n",
            "71/71 [==============================] - 0s 5ms/step - loss: 0.5560 - recall: 0.6836\n",
            "Epoch 47/150\n",
            "71/71 [==============================] - 0s 4ms/step - loss: 0.5465 - recall: 0.6819\n",
            "Epoch 48/150\n",
            "71/71 [==============================] - 0s 4ms/step - loss: 0.5514 - recall: 0.6732\n",
            "Epoch 49/150\n",
            "71/71 [==============================] - 0s 4ms/step - loss: 0.5465 - recall: 0.6650\n",
            "Epoch 50/150\n",
            "71/71 [==============================] - 0s 5ms/step - loss: 0.5476 - recall: 0.6721\n",
            "Epoch 51/150\n",
            "71/71 [==============================] - 0s 4ms/step - loss: 0.5502 - recall: 0.6661\n",
            "Epoch 52/150\n",
            "71/71 [==============================] - 0s 4ms/step - loss: 0.5439 - recall: 0.6705\n",
            "Epoch 53/150\n",
            "71/71 [==============================] - 0s 5ms/step - loss: 0.5459 - recall: 0.6623\n",
            "Epoch 54/150\n",
            "71/71 [==============================] - 0s 5ms/step - loss: 0.5489 - recall: 0.6748\n",
            "Epoch 55/150\n",
            "71/71 [==============================] - 0s 5ms/step - loss: 0.5390 - recall: 0.6634\n",
            "Epoch 56/150\n",
            "71/71 [==============================] - 0s 5ms/step - loss: 0.5422 - recall: 0.6716\n",
            "Epoch 57/150\n",
            "71/71 [==============================] - 0s 5ms/step - loss: 0.5377 - recall: 0.6727\n",
            "Epoch 58/150\n",
            "71/71 [==============================] - 0s 5ms/step - loss: 0.5354 - recall: 0.6809\n",
            "Epoch 59/150\n",
            "71/71 [==============================] - 0s 5ms/step - loss: 0.5401 - recall: 0.6738\n",
            "Epoch 60/150\n",
            "71/71 [==============================] - 0s 5ms/step - loss: 0.5452 - recall: 0.6743\n",
            "Epoch 61/150\n",
            "71/71 [==============================] - 0s 4ms/step - loss: 0.5352 - recall: 0.6869\n",
            "Epoch 62/150\n",
            "71/71 [==============================] - 0s 5ms/step - loss: 0.5360 - recall: 0.6847\n",
            "Epoch 63/150\n",
            "71/71 [==============================] - 0s 5ms/step - loss: 0.5376 - recall: 0.6809\n",
            "Epoch 64/150\n",
            "71/71 [==============================] - 0s 5ms/step - loss: 0.5316 - recall: 0.6852\n",
            "Epoch 65/150\n",
            "71/71 [==============================] - 0s 5ms/step - loss: 0.5385 - recall: 0.6869\n",
            "Epoch 66/150\n",
            "71/71 [==============================] - 0s 5ms/step - loss: 0.5281 - recall: 0.6776\n",
            "Epoch 67/150\n",
            "71/71 [==============================] - 0s 5ms/step - loss: 0.5287 - recall: 0.6879\n",
            "Epoch 68/150\n",
            "71/71 [==============================] - 0s 5ms/step - loss: 0.5332 - recall: 0.6901\n",
            "Epoch 69/150\n",
            "71/71 [==============================] - 0s 5ms/step - loss: 0.5317 - recall: 0.6814\n",
            "Epoch 70/150\n",
            "71/71 [==============================] - 0s 5ms/step - loss: 0.5353 - recall: 0.6645\n",
            "Epoch 71/150\n",
            "71/71 [==============================] - 0s 5ms/step - loss: 0.5296 - recall: 0.6776\n",
            "Epoch 72/150\n",
            "71/71 [==============================] - 0s 5ms/step - loss: 0.5311 - recall: 0.6656\n",
            "Epoch 73/150\n",
            "71/71 [==============================] - 0s 5ms/step - loss: 0.5334 - recall: 0.6847\n",
            "Epoch 74/150\n",
            "71/71 [==============================] - 0s 6ms/step - loss: 0.5316 - recall: 0.6645\n",
            "Epoch 75/150\n",
            "71/71 [==============================] - 0s 5ms/step - loss: 0.5330 - recall: 0.6754: 0s - loss: 0.5311 - \n",
            "Epoch 76/150\n",
            "71/71 [==============================] - 0s 5ms/step - loss: 0.5307 - recall: 0.6803\n",
            "Epoch 77/150\n",
            "71/71 [==============================] - 0s 5ms/step - loss: 0.5339 - recall: 0.6836\n",
            "Epoch 78/150\n",
            "71/71 [==============================] - 0s 5ms/step - loss: 0.5270 - recall: 0.6874\n",
            "Epoch 79/150\n",
            "71/71 [==============================] - 0s 4ms/step - loss: 0.5248 - recall: 0.6710\n",
            "Epoch 80/150\n",
            "71/71 [==============================] - 0s 5ms/step - loss: 0.5325 - recall: 0.6748\n",
            "Epoch 81/150\n",
            "71/71 [==============================] - 0s 4ms/step - loss: 0.5340 - recall: 0.6683\n",
            "Epoch 82/150\n",
            "71/71 [==============================] - 0s 5ms/step - loss: 0.5244 - recall: 0.6803\n",
            "Epoch 83/150\n",
            "71/71 [==============================] - 0s 5ms/step - loss: 0.5242 - recall: 0.6858\n",
            "Epoch 84/150\n",
            "71/71 [==============================] - 0s 5ms/step - loss: 0.5229 - recall: 0.6770\n",
            "Epoch 85/150\n",
            "71/71 [==============================] - 0s 5ms/step - loss: 0.5300 - recall: 0.6650\n",
            "Epoch 86/150\n",
            "71/71 [==============================] - 0s 4ms/step - loss: 0.5287 - recall: 0.6623\n",
            "Epoch 87/150\n",
            "71/71 [==============================] - 0s 5ms/step - loss: 0.5305 - recall: 0.6618\n",
            "Epoch 88/150\n",
            "71/71 [==============================] - 0s 4ms/step - loss: 0.5257 - recall: 0.6901\n",
            "Epoch 89/150\n",
            "71/71 [==============================] - 0s 5ms/step - loss: 0.5233 - recall: 0.6918\n",
            "Epoch 90/150\n",
            "71/71 [==============================] - 0s 5ms/step - loss: 0.5257 - recall: 0.6661\n",
            "Epoch 91/150\n",
            "71/71 [==============================] - 0s 5ms/step - loss: 0.5263 - recall: 0.6787\n",
            "Epoch 92/150\n",
            "71/71 [==============================] - 0s 5ms/step - loss: 0.5280 - recall: 0.6809\n",
            "Epoch 93/150\n",
            "71/71 [==============================] - 0s 5ms/step - loss: 0.5167 - recall: 0.6852\n",
            "Epoch 94/150\n",
            "71/71 [==============================] - 0s 5ms/step - loss: 0.5241 - recall: 0.6847\n",
            "Epoch 95/150\n",
            "71/71 [==============================] - 0s 5ms/step - loss: 0.5231 - recall: 0.6667\n",
            "Epoch 96/150\n",
            "71/71 [==============================] - 0s 5ms/step - loss: 0.5253 - recall: 0.6945\n",
            "Epoch 97/150\n",
            "71/71 [==============================] - 0s 5ms/step - loss: 0.5230 - recall: 0.6721\n",
            "Epoch 98/150\n",
            "71/71 [==============================] - 0s 5ms/step - loss: 0.5276 - recall: 0.6819\n",
            "Epoch 99/150\n",
            "71/71 [==============================] - 0s 5ms/step - loss: 0.5262 - recall: 0.6809\n",
            "Epoch 100/150\n",
            "71/71 [==============================] - 0s 5ms/step - loss: 0.5282 - recall: 0.6525\n",
            "Epoch 101/150\n",
            "71/71 [==============================] - 0s 5ms/step - loss: 0.5270 - recall: 0.6754\n",
            "Epoch 102/150\n",
            "71/71 [==============================] - 0s 5ms/step - loss: 0.5232 - recall: 0.6650\n",
            "Epoch 103/150\n",
            "71/71 [==============================] - 0s 5ms/step - loss: 0.5248 - recall: 0.6628\n",
            "Epoch 104/150\n",
            "71/71 [==============================] - 0s 5ms/step - loss: 0.5258 - recall: 0.6803\n",
            "Epoch 105/150\n",
            "71/71 [==============================] - 0s 5ms/step - loss: 0.5204 - recall: 0.6803\n",
            "Epoch 106/150\n",
            "71/71 [==============================] - 0s 5ms/step - loss: 0.5255 - recall: 0.6841\n",
            "Epoch 107/150\n",
            "71/71 [==============================] - 0s 4ms/step - loss: 0.5270 - recall: 0.6639\n",
            "Epoch 108/150\n",
            "71/71 [==============================] - 0s 4ms/step - loss: 0.5223 - recall: 0.6830\n",
            "Epoch 109/150\n",
            "71/71 [==============================] - 0s 4ms/step - loss: 0.5211 - recall: 0.6656\n",
            "Epoch 110/150\n",
            "71/71 [==============================] - 0s 4ms/step - loss: 0.5251 - recall: 0.6656\n",
            "Epoch 111/150\n",
            "71/71 [==============================] - 0s 5ms/step - loss: 0.5233 - recall: 0.6770\n",
            "Epoch 112/150\n",
            "71/71 [==============================] - 0s 5ms/step - loss: 0.5241 - recall: 0.6792\n",
            "Epoch 113/150\n",
            "71/71 [==============================] - 0s 5ms/step - loss: 0.5265 - recall: 0.6765\n",
            "Epoch 114/150\n",
            "71/71 [==============================] - 0s 4ms/step - loss: 0.5227 - recall: 0.6776\n",
            "Epoch 115/150\n",
            "71/71 [==============================] - 0s 5ms/step - loss: 0.5258 - recall: 0.6776\n",
            "Epoch 116/150\n",
            "71/71 [==============================] - 0s 4ms/step - loss: 0.5362 - recall: 0.6699\n",
            "Epoch 117/150\n",
            "71/71 [==============================] - 0s 4ms/step - loss: 0.5304 - recall: 0.6710\n",
            "Epoch 118/150\n",
            "71/71 [==============================] - 0s 5ms/step - loss: 0.5258 - recall: 0.6841\n",
            "Epoch 119/150\n",
            "71/71 [==============================] - 0s 5ms/step - loss: 0.5277 - recall: 0.6628\n",
            "Epoch 120/150\n",
            "71/71 [==============================] - 0s 5ms/step - loss: 0.5259 - recall: 0.6743\n",
            "Epoch 121/150\n",
            "71/71 [==============================] - 0s 5ms/step - loss: 0.5220 - recall: 0.6819\n",
            "Epoch 122/150\n",
            "71/71 [==============================] - 0s 5ms/step - loss: 0.5249 - recall: 0.6901\n",
            "Epoch 123/150\n",
            "71/71 [==============================] - 0s 5ms/step - loss: 0.5191 - recall: 0.6896\n",
            "Epoch 124/150\n",
            "71/71 [==============================] - 0s 5ms/step - loss: 0.5245 - recall: 0.6814\n",
            "Epoch 125/150\n",
            "71/71 [==============================] - 0s 5ms/step - loss: 0.5241 - recall: 0.6798\n",
            "Epoch 126/150\n",
            "71/71 [==============================] - 0s 5ms/step - loss: 0.5222 - recall: 0.6705\n",
            "Epoch 127/150\n",
            "71/71 [==============================] - 0s 5ms/step - loss: 0.5252 - recall: 0.6798\n",
            "Epoch 128/150\n",
            "71/71 [==============================] - 0s 5ms/step - loss: 0.5174 - recall: 0.6798\n",
            "Epoch 129/150\n",
            "71/71 [==============================] - 0s 5ms/step - loss: 0.5218 - recall: 0.6852\n",
            "Epoch 130/150\n",
            "71/71 [==============================] - 0s 5ms/step - loss: 0.5211 - recall: 0.6825\n",
            "Epoch 131/150\n",
            "71/71 [==============================] - 0s 5ms/step - loss: 0.5232 - recall: 0.6847\n",
            "Epoch 132/150\n",
            "71/71 [==============================] - 0s 5ms/step - loss: 0.5292 - recall: 0.6639\n",
            "Epoch 133/150\n",
            "71/71 [==============================] - 0s 5ms/step - loss: 0.5218 - recall: 0.6852\n",
            "Epoch 134/150\n",
            "71/71 [==============================] - 0s 5ms/step - loss: 0.5232 - recall: 0.6743\n",
            "Epoch 135/150\n",
            "71/71 [==============================] - 0s 6ms/step - loss: 0.5177 - recall: 0.6628\n",
            "Epoch 136/150\n",
            "71/71 [==============================] - 0s 5ms/step - loss: 0.5230 - recall: 0.6879\n",
            "Epoch 137/150\n",
            "71/71 [==============================] - 0s 5ms/step - loss: 0.5192 - recall: 0.6781\n",
            "Epoch 138/150\n",
            "71/71 [==============================] - 0s 5ms/step - loss: 0.5244 - recall: 0.6945\n",
            "Epoch 139/150\n",
            "71/71 [==============================] - 0s 6ms/step - loss: 0.5183 - recall: 0.6939\n",
            "Epoch 140/150\n",
            "71/71 [==============================] - 0s 6ms/step - loss: 0.5224 - recall: 0.6754\n",
            "Epoch 141/150\n",
            "71/71 [==============================] - 0s 6ms/step - loss: 0.5304 - recall: 0.6847\n",
            "Epoch 142/150\n",
            "71/71 [==============================] - 0s 6ms/step - loss: 0.5203 - recall: 0.6732\n",
            "Epoch 143/150\n",
            "71/71 [==============================] - 0s 5ms/step - loss: 0.5217 - recall: 0.6721\n",
            "Epoch 144/150\n",
            "71/71 [==============================] - 0s 5ms/step - loss: 0.5225 - recall: 0.6787\n",
            "Epoch 145/150\n",
            "71/71 [==============================] - 0s 5ms/step - loss: 0.5207 - recall: 0.6781\n",
            "Epoch 146/150\n",
            "71/71 [==============================] - 0s 5ms/step - loss: 0.5186 - recall: 0.6743\n",
            "Epoch 147/150\n",
            "71/71 [==============================] - 0s 5ms/step - loss: 0.5242 - recall: 0.6825\n",
            "Epoch 148/150\n",
            "71/71 [==============================] - 0s 5ms/step - loss: 0.5176 - recall: 0.6809\n",
            "Epoch 149/150\n",
            "71/71 [==============================] - 0s 5ms/step - loss: 0.5162 - recall: 0.6809\n",
            "Epoch 150/150\n",
            "71/71 [==============================] - 0s 5ms/step - loss: 0.5235 - recall: 0.6809\n"
          ]
        }
      ]
    },
    {
      "cell_type": "code",
      "metadata": {
        "id": "Rft53c4iaqBC",
        "outputId": "de01be5d-88a7-41fd-f96e-084ecf67dae3"
      },
      "source": [
        "grid_model.best_score_"
      ],
      "execution_count": null,
      "outputs": [
        {
          "data": {
            "text/plain": [
              "0.7295568848044429"
            ]
          },
          "execution_count": 143,
          "metadata": {},
          "output_type": "execute_result"
        }
      ]
    },
    {
      "cell_type": "code",
      "metadata": {
        "id": "iqV9zmINaqBC",
        "outputId": "4f5d02b3-18b6-49ae-a305-00bdac82ba37"
      },
      "source": [
        "grid_model.best_params_"
      ],
      "execution_count": null,
      "outputs": [
        {
          "data": {
            "text/plain": [
              "{'batch_size': 128, 'optimizer': 'rmsprop'}"
            ]
          },
          "execution_count": 144,
          "metadata": {},
          "output_type": "execute_result"
        }
      ]
    },
    {
      "cell_type": "code",
      "metadata": {
        "id": "KSZFCRq_aqBD",
        "outputId": "27b2dfaa-5e0f-41c7-e997-27c54ea76b4d"
      },
      "source": [
        "y_test_pred = (grid_model.predict(X_test) > 0.5).astype(\"int32\")\n",
        "print(confusion_matrix(y_test, y_test_pred))\n",
        "print(classification_report(y_test, y_test_pred))"
      ],
      "execution_count": null,
      "outputs": [
        {
          "name": "stdout",
          "output_type": "stream",
          "text": [
            "[[622 174]\n",
            " [ 53 151]]\n",
            "              precision    recall  f1-score   support\n",
            "\n",
            "           0       0.92      0.78      0.85       796\n",
            "           1       0.46      0.74      0.57       204\n",
            "\n",
            "    accuracy                           0.77      1000\n",
            "   macro avg       0.69      0.76      0.71      1000\n",
            "weighted avg       0.83      0.77      0.79      1000\n",
            "\n"
          ]
        }
      ]
    },
    {
      "cell_type": "markdown",
      "metadata": {
        "id": "iRc43AANaqBD"
      },
      "source": [
        "### ROC (Receiver Operating Curve) and AUC (Area Under Curve) for grid_model"
      ]
    },
    {
      "cell_type": "code",
      "metadata": {
        "cell_style": "split",
        "scrolled": true,
        "id": "znpsGk0qaqBD",
        "outputId": "84fd805b-a6be-4472-9f55-4050e14ce475"
      },
      "source": [
        "y_pred_proba = grid_model.predict(X_test)\n",
        "fpr, tpr, thresholds = roc_curve(y_test, y_pred_proba)\n",
        "plt.plot([0,1],[0,1],'k--')\n",
        "plt.plot(fpr,tpr, label='ANN')\n",
        "plt.xlabel('False Positive Rate')\n",
        "plt.ylabel('True Positive Rate')\n",
        "plt.title('ROC Curve for Keras Model')\n",
        "plt.show()"
      ],
      "execution_count": null,
      "outputs": [
        {
          "data": {
            "image/png": "[encoded data removed]",
            "text/plain": [
              "<Figure size 864x432 with 1 Axes>"
            ]
          },
          "metadata": {},
          "output_type": "display_data"
        }
      ]
    },
    {
      "cell_type": "code",
      "metadata": {
        "cell_style": "split",
        "scrolled": true,
        "id": "Cjj9Q4QWaqBE",
        "outputId": "df0677e9-c293-43f5-fa23-157bdcb2a12c"
      },
      "source": [
        "average_precision_score(y_test, y_pred_proba)"
      ],
      "execution_count": null,
      "outputs": [
        {
          "data": {
            "text/plain": [
              "0.6781085311675284"
            ]
          },
          "execution_count": 147,
          "metadata": {},
          "output_type": "execute_result"
        }
      ]
    },
    {
      "cell_type": "markdown",
      "metadata": {
        "id": "Q1PiOJcVaqBF"
      },
      "source": [
        "## Final Model and Model Deployment"
      ]
    },
    {
      "cell_type": "code",
      "metadata": {
        "id": "9Ty3GRkTaqBF"
      },
      "source": [
        "import pickle\n",
        "\n",
        "pickle.dump(scaler, open(\"scaler_churn\", 'wb'))"
      ],
      "execution_count": null,
      "outputs": []
    },
    {
      "cell_type": "code",
      "metadata": {
        "scrolled": true,
        "id": "WaewkhujaqBF",
        "outputId": "53938318-87eb-4bab-94ca-a1dc047af0fe"
      },
      "source": [
        "final_model = Sequential()\n",
        "\n",
        "\n",
        "final_model.add(Dense(30, activation=\"relu\"))\n",
        "final_model.add(Dropout(0.5))\n",
        "final_model.add(Dense(15, activation=\"relu\"))\n",
        "final_model.add(Dropout(0.5))\n",
        "final_model.add(Dense(1, activation=\"sigmoid\"))\n",
        "\n",
        "final_model.compile(optimizer=\"rmsprop\",\n",
        "                    loss=\"binary_crossentropy\",\n",
        "                    metrics=[\"Recall\"])\n",
        "\n",
        "final_model.fit(x=X_train,\n",
        "                y=y_train,\n",
        "                validation_data=(X_test, y_test),\n",
        "                callbacks=[early_stop],\n",
        "                batch_size=128,\n",
        "                epochs=200,\n",
        "                verbose=1,\n",
        "                class_weight=class_weights)"
      ],
      "execution_count": null,
      "outputs": [
        {
          "name": "stdout",
          "output_type": "stream",
          "text": [
            "Epoch 1/200\n",
            "71/71 [==============================] - 4s 17ms/step - loss: 0.7042 - recall: 0.5303 - val_loss: 0.6908 - val_recall: 0.7059\n",
            "Epoch 2/200\n",
            "71/71 [==============================] - 0s 6ms/step - loss: 0.6850 - recall: 0.5554 - val_loss: 0.6756 - val_recall: 0.6471\n",
            "Epoch 3/200\n",
            "71/71 [==============================] - 0s 6ms/step - loss: 0.6762 - recall: 0.5630 - val_loss: 0.6642 - val_recall: 0.5931\n",
            "Epoch 4/200\n",
            "71/71 [==============================] - 0s 6ms/step - loss: 0.6688 - recall: 0.5516 - val_loss: 0.6651 - val_recall: 0.5980\n",
            "Epoch 5/200\n",
            "71/71 [==============================] - 0s 7ms/step - loss: 0.6650 - recall: 0.5674 - val_loss: 0.6525 - val_recall: 0.5833\n",
            "Epoch 6/200\n",
            "71/71 [==============================] - 1s 7ms/step - loss: 0.6600 - recall: 0.5636 - val_loss: 0.6579 - val_recall: 0.5980\n",
            "Epoch 7/200\n",
            "71/71 [==============================] - 0s 6ms/step - loss: 0.6526 - recall: 0.5723 - val_loss: 0.6504 - val_recall: 0.6029\n",
            "Epoch 8/200\n",
            "71/71 [==============================] - 0s 6ms/step - loss: 0.6509 - recall: 0.5979 - val_loss: 0.6386 - val_recall: 0.5980\n",
            "Epoch 9/200\n",
            "71/71 [==============================] - 0s 6ms/step - loss: 0.6480 - recall: 0.5777 - val_loss: 0.6252 - val_recall: 0.5833\n",
            "Epoch 10/200\n",
            "71/71 [==============================] - 0s 6ms/step - loss: 0.6419 - recall: 0.5903 - val_loss: 0.6358 - val_recall: 0.6029\n",
            "Epoch 11/200\n",
            "71/71 [==============================] - 0s 6ms/step - loss: 0.6443 - recall: 0.6127 - val_loss: 0.6265 - val_recall: 0.6078\n",
            "Epoch 12/200\n",
            "71/71 [==============================] - 0s 6ms/step - loss: 0.6432 - recall: 0.6056 - val_loss: 0.6411 - val_recall: 0.6225\n",
            "Epoch 13/200\n",
            "71/71 [==============================] - 0s 6ms/step - loss: 0.6338 - recall: 0.6263 - val_loss: 0.6208 - val_recall: 0.5980\n",
            "Epoch 14/200\n",
            "71/71 [==============================] - 0s 6ms/step - loss: 0.6356 - recall: 0.6077 - val_loss: 0.6243 - val_recall: 0.6127\n",
            "Epoch 15/200\n",
            "71/71 [==============================] - 0s 6ms/step - loss: 0.6319 - recall: 0.6268 - val_loss: 0.6151 - val_recall: 0.6029\n",
            "Epoch 16/200\n",
            "71/71 [==============================] - 0s 6ms/step - loss: 0.6325 - recall: 0.6099 - val_loss: 0.6219 - val_recall: 0.5980\n",
            "Epoch 17/200\n",
            "71/71 [==============================] - 0s 6ms/step - loss: 0.6278 - recall: 0.6252 - val_loss: 0.6193 - val_recall: 0.6029\n",
            "Epoch 18/200\n",
            "71/71 [==============================] - 0s 6ms/step - loss: 0.6265 - recall: 0.6181 - val_loss: 0.6168 - val_recall: 0.6078\n",
            "Epoch 19/200\n",
            "71/71 [==============================] - 0s 6ms/step - loss: 0.6178 - recall: 0.6356 - val_loss: 0.6098 - val_recall: 0.5980\n",
            "Epoch 20/200\n",
            "71/71 [==============================] - 0s 7ms/step - loss: 0.6205 - recall: 0.6077 - val_loss: 0.6271 - val_recall: 0.6324\n",
            "Epoch 21/200\n",
            "71/71 [==============================] - 1s 8ms/step - loss: 0.6179 - recall: 0.6345 - val_loss: 0.6113 - val_recall: 0.6275\n",
            "Epoch 22/200\n",
            "71/71 [==============================] - 1s 7ms/step - loss: 0.6137 - recall: 0.6388 - val_loss: 0.5897 - val_recall: 0.6029\n",
            "Epoch 23/200\n",
            "71/71 [==============================] - 0s 6ms/step - loss: 0.6127 - recall: 0.6427 - val_loss: 0.6018 - val_recall: 0.6225\n",
            "Epoch 24/200\n",
            "71/71 [==============================] - 0s 6ms/step - loss: 0.6095 - recall: 0.6378 - val_loss: 0.5880 - val_recall: 0.6127\n",
            "Epoch 25/200\n",
            "71/71 [==============================] - 0s 7ms/step - loss: 0.6074 - recall: 0.6252 - val_loss: 0.5845 - val_recall: 0.6029\n",
            "Epoch 26/200\n",
            "71/71 [==============================] - 0s 7ms/step - loss: 0.6021 - recall: 0.6421 - val_loss: 0.5934 - val_recall: 0.6471\n",
            "Epoch 27/200\n",
            "71/71 [==============================] - 0s 6ms/step - loss: 0.6024 - recall: 0.6470 - val_loss: 0.5872 - val_recall: 0.6422\n",
            "Epoch 28/200\n",
            "71/71 [==============================] - 0s 6ms/step - loss: 0.5994 - recall: 0.6448 - val_loss: 0.5581 - val_recall: 0.5931\n",
            "Epoch 29/200\n",
            "71/71 [==============================] - 0s 7ms/step - loss: 0.5969 - recall: 0.6334 - val_loss: 0.5544 - val_recall: 0.5931\n",
            "Epoch 30/200\n",
            "71/71 [==============================] - 0s 6ms/step - loss: 0.5933 - recall: 0.6470 - val_loss: 0.5353 - val_recall: 0.5784\n",
            "Epoch 31/200\n",
            "71/71 [==============================] - 0s 6ms/step - loss: 0.5901 - recall: 0.6492 - val_loss: 0.5673 - val_recall: 0.6422\n",
            "Epoch 32/200\n",
            "71/71 [==============================] - 1s 7ms/step - loss: 0.5862 - recall: 0.6650 - val_loss: 0.5430 - val_recall: 0.6275\n",
            "Epoch 33/200\n",
            "71/71 [==============================] - 0s 6ms/step - loss: 0.5836 - recall: 0.6650 - val_loss: 0.5517 - val_recall: 0.6422\n",
            "Epoch 34/200\n",
            "71/71 [==============================] - 0s 6ms/step - loss: 0.5856 - recall: 0.6519 - val_loss: 0.5725 - val_recall: 0.6912\n",
            "Epoch 35/200\n",
            "71/71 [==============================] - 0s 7ms/step - loss: 0.5795 - recall: 0.6907 - val_loss: 0.5309 - val_recall: 0.6225\n",
            "Epoch 36/200\n",
            "71/71 [==============================] - 1s 7ms/step - loss: 0.5781 - recall: 0.6568 - val_loss: 0.5801 - val_recall: 0.7206\n",
            "Epoch 37/200\n",
            "71/71 [==============================] - 0s 7ms/step - loss: 0.5807 - recall: 0.6918 - val_loss: 0.5512 - val_recall: 0.6569\n",
            "Epoch 38/200\n",
            "71/71 [==============================] - 1s 7ms/step - loss: 0.5757 - recall: 0.6798 - val_loss: 0.5387 - val_recall: 0.6520\n",
            "Epoch 39/200\n",
            "71/71 [==============================] - 0s 6ms/step - loss: 0.5722 - recall: 0.6721 - val_loss: 0.5629 - val_recall: 0.7402\n",
            "Epoch 40/200\n",
            "71/71 [==============================] - 0s 6ms/step - loss: 0.5717 - recall: 0.6787 - val_loss: 0.5436 - val_recall: 0.7010\n",
            "Epoch 41/200\n",
            "71/71 [==============================] - 0s 6ms/step - loss: 0.5668 - recall: 0.6858 - val_loss: 0.5607 - val_recall: 0.7255\n",
            "Epoch 42/200\n",
            "71/71 [==============================] - 0s 6ms/step - loss: 0.5682 - recall: 0.6781 - val_loss: 0.5374 - val_recall: 0.6912\n",
            "Epoch 43/200\n",
            "71/71 [==============================] - 0s 7ms/step - loss: 0.5645 - recall: 0.6956 - val_loss: 0.5396 - val_recall: 0.6863\n",
            "Epoch 44/200\n",
            "71/71 [==============================] - 0s 6ms/step - loss: 0.5660 - recall: 0.6901 - val_loss: 0.5607 - val_recall: 0.7402\n",
            "Epoch 45/200\n",
            "71/71 [==============================] - 0s 6ms/step - loss: 0.5630 - recall: 0.6847 - val_loss: 0.5402 - val_recall: 0.6912\n",
            "Epoch 46/200\n",
            "71/71 [==============================] - 0s 6ms/step - loss: 0.5620 - recall: 0.6885 - val_loss: 0.5316 - val_recall: 0.7108\n",
            "Epoch 47/200\n",
            "71/71 [==============================] - 0s 6ms/step - loss: 0.5567 - recall: 0.6901 - val_loss: 0.5095 - val_recall: 0.6765\n",
            "Epoch 48/200\n",
            "71/71 [==============================] - 0s 6ms/step - loss: 0.5557 - recall: 0.6874 - val_loss: 0.5105 - val_recall: 0.6863\n",
            "Epoch 49/200\n",
            "71/71 [==============================] - 0s 6ms/step - loss: 0.5583 - recall: 0.6896 - val_loss: 0.5370 - val_recall: 0.7549\n",
            "Epoch 50/200\n",
            "71/71 [==============================] - 0s 6ms/step - loss: 0.5572 - recall: 0.7005 - val_loss: 0.5470 - val_recall: 0.7402\n",
            "Epoch 51/200\n",
            "71/71 [==============================] - 0s 6ms/step - loss: 0.5608 - recall: 0.7043 - val_loss: 0.5325 - val_recall: 0.7304\n",
            "Epoch 52/200\n",
            "71/71 [==============================] - 0s 6ms/step - loss: 0.5475 - recall: 0.6863 - val_loss: 0.5163 - val_recall: 0.7108\n",
            "Epoch 53/200\n",
            "71/71 [==============================] - 0s 6ms/step - loss: 0.5522 - recall: 0.6879 - val_loss: 0.5055 - val_recall: 0.6814\n",
            "Epoch 54/200\n",
            "71/71 [==============================] - 0s 6ms/step - loss: 0.5444 - recall: 0.6978 - val_loss: 0.5311 - val_recall: 0.7304\n",
            "Epoch 55/200\n",
            "71/71 [==============================] - 0s 6ms/step - loss: 0.5473 - recall: 0.6929 - val_loss: 0.5197 - val_recall: 0.7206\n",
            "Epoch 56/200\n",
            "71/71 [==============================] - 0s 6ms/step - loss: 0.5497 - recall: 0.6754 - val_loss: 0.5162 - val_recall: 0.7206\n",
            "Epoch 57/200\n",
            "71/71 [==============================] - 0s 6ms/step - loss: 0.5424 - recall: 0.6950 - val_loss: 0.5080 - val_recall: 0.7157\n",
            "Epoch 58/200\n",
            "71/71 [==============================] - 0s 6ms/step - loss: 0.5398 - recall: 0.7109 - val_loss: 0.5309 - val_recall: 0.7500\n",
            "Epoch 59/200\n",
            "71/71 [==============================] - 0s 6ms/step - loss: 0.5433 - recall: 0.6945 - val_loss: 0.4943 - val_recall: 0.6863\n",
            "Epoch 60/200\n",
            "71/71 [==============================] - 0s 6ms/step - loss: 0.5377 - recall: 0.7032 - val_loss: 0.5289 - val_recall: 0.7549\n",
            "Epoch 61/200\n",
            "71/71 [==============================] - 0s 6ms/step - loss: 0.5383 - recall: 0.7027 - val_loss: 0.4834 - val_recall: 0.6912\n",
            "Epoch 62/200\n",
            "71/71 [==============================] - 0s 6ms/step - loss: 0.5415 - recall: 0.6885 - val_loss: 0.5245 - val_recall: 0.7549\n",
            "Epoch 63/200\n",
            "71/71 [==============================] - 0s 7ms/step - loss: 0.5370 - recall: 0.7092 - val_loss: 0.4870 - val_recall: 0.6863\n",
            "Epoch 64/200\n",
            "71/71 [==============================] - 0s 6ms/step - loss: 0.5338 - recall: 0.7229 - val_loss: 0.5148 - val_recall: 0.7696\n",
            "Epoch 65/200\n",
            "71/71 [==============================] - 0s 6ms/step - loss: 0.5343 - recall: 0.6961 - val_loss: 0.4912 - val_recall: 0.7304\n",
            "Epoch 66/200\n",
            "71/71 [==============================] - 0s 6ms/step - loss: 0.5279 - recall: 0.7054 - val_loss: 0.4853 - val_recall: 0.7157\n",
            "Epoch 67/200\n",
            "71/71 [==============================] - 0s 6ms/step - loss: 0.5248 - recall: 0.7043 - val_loss: 0.4739 - val_recall: 0.6912\n",
            "Epoch 68/200\n",
            "71/71 [==============================] - 0s 6ms/step - loss: 0.5324 - recall: 0.6814 - val_loss: 0.5101 - val_recall: 0.7598\n",
            "Epoch 69/200\n",
            "71/71 [==============================] - 0s 6ms/step - loss: 0.5289 - recall: 0.7141 - val_loss: 0.5225 - val_recall: 0.7647\n",
            "Epoch 70/200\n",
            "71/71 [==============================] - 0s 6ms/step - loss: 0.5288 - recall: 0.6885 - val_loss: 0.4868 - val_recall: 0.7402\n",
            "Epoch 71/200\n",
            "71/71 [==============================] - 0s 6ms/step - loss: 0.5285 - recall: 0.7043 - val_loss: 0.4815 - val_recall: 0.7157\n",
            "Epoch 72/200\n",
            "71/71 [==============================] - 0s 6ms/step - loss: 0.5253 - recall: 0.7038 - val_loss: 0.4821 - val_recall: 0.7304\n",
            "Epoch 73/200\n",
            "71/71 [==============================] - 0s 6ms/step - loss: 0.5310 - recall: 0.7054 - val_loss: 0.5135 - val_recall: 0.7745\n",
            "Epoch 74/200\n",
            "71/71 [==============================] - 0s 7ms/step - loss: 0.5221 - recall: 0.7054 - val_loss: 0.5089 - val_recall: 0.7647\n",
            "Epoch 75/200\n",
            "71/71 [==============================] - 1s 8ms/step - loss: 0.5265 - recall: 0.7125 - val_loss: 0.5029 - val_recall: 0.7598\n",
            "Epoch 76/200\n",
            "71/71 [==============================] - 0s 6ms/step - loss: 0.5268 - recall: 0.6999 - val_loss: 0.4933 - val_recall: 0.7402\n",
            "Epoch 77/200\n",
            "71/71 [==============================] - 0s 6ms/step - loss: 0.5250 - recall: 0.6989 - val_loss: 0.4823 - val_recall: 0.7353\n",
            "Epoch 78/200\n",
            "71/71 [==============================] - 0s 6ms/step - loss: 0.5209 - recall: 0.6956 - val_loss: 0.4770 - val_recall: 0.7206\n",
            "Epoch 79/200\n",
            "71/71 [==============================] - 0s 6ms/step - loss: 0.5284 - recall: 0.6874 - val_loss: 0.5079 - val_recall: 0.7647\n",
            "Epoch 80/200\n",
            "71/71 [==============================] - 0s 6ms/step - loss: 0.5232 - recall: 0.6999 - val_loss: 0.4758 - val_recall: 0.7108\n",
            "Epoch 81/200\n",
            "71/71 [==============================] - 0s 6ms/step - loss: 0.5275 - recall: 0.6939 - val_loss: 0.5078 - val_recall: 0.7696\n",
            "Epoch 82/200\n",
            "71/71 [==============================] - 0s 7ms/step - loss: 0.5179 - recall: 0.7065 - val_loss: 0.4814 - val_recall: 0.7304\n",
            "Epoch 83/200\n",
            "71/71 [==============================] - 0s 6ms/step - loss: 0.5211 - recall: 0.6989 - val_loss: 0.4865 - val_recall: 0.7353\n",
            "Epoch 84/200\n",
            "71/71 [==============================] - 0s 6ms/step - loss: 0.5216 - recall: 0.7027 - val_loss: 0.4786 - val_recall: 0.7255\n",
            "Epoch 85/200\n",
            "71/71 [==============================] - 0s 6ms/step - loss: 0.5216 - recall: 0.6825 - val_loss: 0.5053 - val_recall: 0.7696\n",
            "Epoch 86/200\n",
            "71/71 [==============================] - 0s 6ms/step - loss: 0.5191 - recall: 0.6967 - val_loss: 0.4945 - val_recall: 0.7549\n",
            "Epoch 87/200\n",
            "71/71 [==============================] - 0s 6ms/step - loss: 0.5169 - recall: 0.6999 - val_loss: 0.4828 - val_recall: 0.7353\n",
            "Epoch 88/200\n",
            "71/71 [==============================] - 0s 6ms/step - loss: 0.5183 - recall: 0.7005 - val_loss: 0.4835 - val_recall: 0.7304\n",
            "Epoch 89/200\n",
            "71/71 [==============================] - 0s 6ms/step - loss: 0.5259 - recall: 0.7070 - val_loss: 0.4693 - val_recall: 0.7206\n",
            "Epoch 90/200\n",
            "71/71 [==============================] - 0s 6ms/step - loss: 0.5221 - recall: 0.6956 - val_loss: 0.4845 - val_recall: 0.7304\n",
            "Epoch 91/200\n",
            "71/71 [==============================] - 0s 6ms/step - loss: 0.5226 - recall: 0.7070 - val_loss: 0.4849 - val_recall: 0.7451\n",
            "Epoch 92/200\n",
            "71/71 [==============================] - 0s 6ms/step - loss: 0.5232 - recall: 0.6847 - val_loss: 0.5125 - val_recall: 0.7647\n",
            "Epoch 93/200\n",
            "71/71 [==============================] - 0s 6ms/step - loss: 0.5145 - recall: 0.7010 - val_loss: 0.4673 - val_recall: 0.7206\n",
            "Epoch 94/200\n",
            "71/71 [==============================] - 0s 6ms/step - loss: 0.5197 - recall: 0.7038 - val_loss: 0.4661 - val_recall: 0.7157\n",
            "Epoch 95/200\n",
            "71/71 [==============================] - 0s 6ms/step - loss: 0.5200 - recall: 0.6907 - val_loss: 0.4679 - val_recall: 0.7206\n",
            "Epoch 96/200\n",
            "71/71 [==============================] - 0s 6ms/step - loss: 0.5187 - recall: 0.6983 - val_loss: 0.4685 - val_recall: 0.7108\n",
            "Epoch 97/200\n",
            "71/71 [==============================] - 0s 6ms/step - loss: 0.5200 - recall: 0.7049 - val_loss: 0.4676 - val_recall: 0.7157\n",
            "Epoch 98/200\n",
            "71/71 [==============================] - 0s 6ms/step - loss: 0.5221 - recall: 0.7070 - val_loss: 0.4947 - val_recall: 0.7451\n",
            "Epoch 99/200\n",
            "71/71 [==============================] - 0s 6ms/step - loss: 0.5116 - recall: 0.7049 - val_loss: 0.4709 - val_recall: 0.7451\n",
            "Epoch 100/200\n",
            "71/71 [==============================] - 0s 6ms/step - loss: 0.5232 - recall: 0.7076 - val_loss: 0.4865 - val_recall: 0.7549\n",
            "Epoch 101/200\n",
            "71/71 [==============================] - 1s 7ms/step - loss: 0.5165 - recall: 0.6978 - val_loss: 0.4668 - val_recall: 0.7304\n",
            "Epoch 102/200\n",
            "71/71 [==============================] - 0s 6ms/step - loss: 0.5205 - recall: 0.7010 - val_loss: 0.4882 - val_recall: 0.7647\n",
            "Epoch 103/200\n",
            "71/71 [==============================] - 0s 6ms/step - loss: 0.5170 - recall: 0.7076 - val_loss: 0.4974 - val_recall: 0.7696\n",
            "Epoch 104/200\n",
            "71/71 [==============================] - 0s 6ms/step - loss: 0.5141 - recall: 0.7059 - val_loss: 0.4877 - val_recall: 0.7500\n",
            "Epoch 105/200\n",
            "71/71 [==============================] - 0s 6ms/step - loss: 0.5162 - recall: 0.6918 - val_loss: 0.4837 - val_recall: 0.7549\n",
            "Epoch 106/200\n",
            "71/71 [==============================] - 0s 6ms/step - loss: 0.5217 - recall: 0.7114 - val_loss: 0.4743 - val_recall: 0.7402\n",
            "Epoch 107/200\n",
            "71/71 [==============================] - 0s 6ms/step - loss: 0.5064 - recall: 0.7119 - val_loss: 0.5039 - val_recall: 0.7696\n",
            "Epoch 108/200\n",
            "71/71 [==============================] - 0s 6ms/step - loss: 0.5230 - recall: 0.7005 - val_loss: 0.4971 - val_recall: 0.7549\n",
            "Epoch 109/200\n",
            "71/71 [==============================] - 0s 6ms/step - loss: 0.5222 - recall: 0.6885 - val_loss: 0.4699 - val_recall: 0.7010\n",
            "Epoch 110/200\n",
            "71/71 [==============================] - 0s 6ms/step - loss: 0.5197 - recall: 0.6781 - val_loss: 0.4893 - val_recall: 0.7500\n",
            "Epoch 111/200\n",
            "71/71 [==============================] - 0s 6ms/step - loss: 0.5169 - recall: 0.6994 - val_loss: 0.4696 - val_recall: 0.7451\n",
            "Epoch 112/200\n",
            "71/71 [==============================] - 0s 6ms/step - loss: 0.5173 - recall: 0.6879 - val_loss: 0.4862 - val_recall: 0.7549\n",
            "Epoch 113/200\n",
            "71/71 [==============================] - 0s 6ms/step - loss: 0.5148 - recall: 0.7250 - val_loss: 0.4930 - val_recall: 0.7745\n",
            "Epoch 114/200\n",
            "71/71 [==============================] - 0s 6ms/step - loss: 0.5210 - recall: 0.7365 - val_loss: 0.4795 - val_recall: 0.7451\n",
            "Epoch 115/200\n",
            "71/71 [==============================] - 0s 6ms/step - loss: 0.5152 - recall: 0.7114 - val_loss: 0.5019 - val_recall: 0.7794\n",
            "Epoch 116/200\n",
            "71/71 [==============================] - 0s 6ms/step - loss: 0.5179 - recall: 0.7049 - val_loss: 0.4804 - val_recall: 0.7598\n",
            "Epoch 117/200\n",
            "71/71 [==============================] - 0s 6ms/step - loss: 0.5146 - recall: 0.7174 - val_loss: 0.4696 - val_recall: 0.7402\n",
            "Epoch 118/200\n",
            "71/71 [==============================] - 0s 6ms/step - loss: 0.5135 - recall: 0.7049 - val_loss: 0.4656 - val_recall: 0.7402\n",
            "Epoch 119/200\n"
          ]
        },
        {
          "name": "stdout",
          "output_type": "stream",
          "text": [
            "71/71 [==============================] - 0s 6ms/step - loss: 0.5171 - recall: 0.7092 - val_loss: 0.4698 - val_recall: 0.7500\n",
            "Epoch 120/200\n",
            "71/71 [==============================] - 0s 7ms/step - loss: 0.5144 - recall: 0.7190 - val_loss: 0.4842 - val_recall: 0.7647\n",
            "Epoch 121/200\n",
            "71/71 [==============================] - 0s 7ms/step - loss: 0.5135 - recall: 0.7114 - val_loss: 0.4785 - val_recall: 0.7500\n",
            "Epoch 122/200\n",
            "71/71 [==============================] - 0s 6ms/step - loss: 0.5118 - recall: 0.7043 - val_loss: 0.4724 - val_recall: 0.7353\n",
            "Epoch 123/200\n",
            "71/71 [==============================] - 0s 6ms/step - loss: 0.5134 - recall: 0.7027 - val_loss: 0.4997 - val_recall: 0.7794\n",
            "Epoch 124/200\n",
            "71/71 [==============================] - 0s 6ms/step - loss: 0.5135 - recall: 0.7234 - val_loss: 0.4800 - val_recall: 0.7549\n",
            "Epoch 125/200\n",
            "71/71 [==============================] - 0s 6ms/step - loss: 0.5126 - recall: 0.7212 - val_loss: 0.4829 - val_recall: 0.7549\n",
            "Epoch 126/200\n",
            "71/71 [==============================] - 0s 6ms/step - loss: 0.5205 - recall: 0.7163 - val_loss: 0.4874 - val_recall: 0.7794\n",
            "Epoch 127/200\n",
            "71/71 [==============================] - 0s 6ms/step - loss: 0.5141 - recall: 0.7119 - val_loss: 0.4743 - val_recall: 0.7549\n",
            "Epoch 128/200\n",
            "71/71 [==============================] - 0s 6ms/step - loss: 0.5184 - recall: 0.7147 - val_loss: 0.4684 - val_recall: 0.7255\n",
            "Epoch 129/200\n",
            "71/71 [==============================] - 0s 6ms/step - loss: 0.5132 - recall: 0.6918 - val_loss: 0.4583 - val_recall: 0.7353\n",
            "Epoch 130/200\n",
            "71/71 [==============================] - 0s 6ms/step - loss: 0.5074 - recall: 0.7256 - val_loss: 0.4724 - val_recall: 0.7549\n",
            "Epoch 131/200\n",
            "71/71 [==============================] - 0s 6ms/step - loss: 0.5125 - recall: 0.7529 - val_loss: 0.4762 - val_recall: 0.7598\n",
            "Epoch 132/200\n",
            "71/71 [==============================] - 0s 6ms/step - loss: 0.5171 - recall: 0.7300 - val_loss: 0.4980 - val_recall: 0.7843\n",
            "Epoch 133/200\n",
            "71/71 [==============================] - 0s 6ms/step - loss: 0.5176 - recall: 0.7360 - val_loss: 0.4594 - val_recall: 0.7402\n",
            "Epoch 134/200\n",
            "71/71 [==============================] - 0s 6ms/step - loss: 0.5147 - recall: 0.7365 - val_loss: 0.4995 - val_recall: 0.7843\n",
            "Epoch 135/200\n",
            "71/71 [==============================] - 0s 6ms/step - loss: 0.5121 - recall: 0.7534 - val_loss: 0.4640 - val_recall: 0.7598\n",
            "Epoch 136/200\n",
            "71/71 [==============================] - 0s 6ms/step - loss: 0.5070 - recall: 0.7305 - val_loss: 0.4894 - val_recall: 0.7794\n",
            "Epoch 137/200\n",
            "71/71 [==============================] - 0s 7ms/step - loss: 0.5166 - recall: 0.7185 - val_loss: 0.5037 - val_recall: 0.7941\n",
            "Epoch 138/200\n",
            "71/71 [==============================] - 1s 8ms/step - loss: 0.5123 - recall: 0.7414 - val_loss: 0.4806 - val_recall: 0.7647\n",
            "Epoch 139/200\n",
            "71/71 [==============================] - 1s 8ms/step - loss: 0.5122 - recall: 0.7005 - val_loss: 0.4688 - val_recall: 0.7451\n",
            "Epoch 140/200\n",
            "71/71 [==============================] - 0s 7ms/step - loss: 0.5156 - recall: 0.7261 - val_loss: 0.4846 - val_recall: 0.7696\n",
            "Epoch 141/200\n",
            "71/71 [==============================] - 0s 6ms/step - loss: 0.5166 - recall: 0.7305 - val_loss: 0.4850 - val_recall: 0.7843\n",
            "Epoch 142/200\n",
            "71/71 [==============================] - 0s 6ms/step - loss: 0.5158 - recall: 0.7507 - val_loss: 0.4700 - val_recall: 0.7500\n",
            "Epoch 143/200\n",
            "71/71 [==============================] - 1s 9ms/step - loss: 0.5207 - recall: 0.7316 - val_loss: 0.4589 - val_recall: 0.7206\n",
            "Epoch 144/200\n",
            "71/71 [==============================] - 0s 6ms/step - loss: 0.5113 - recall: 0.7283 - val_loss: 0.4776 - val_recall: 0.7598\n",
            "Epoch 145/200\n",
            "71/71 [==============================] - 0s 6ms/step - loss: 0.5134 - recall: 0.7409 - val_loss: 0.4563 - val_recall: 0.7402\n",
            "Epoch 146/200\n",
            "71/71 [==============================] - 0s 6ms/step - loss: 0.5111 - recall: 0.7441 - val_loss: 0.4820 - val_recall: 0.7598\n",
            "Epoch 147/200\n",
            "71/71 [==============================] - 0s 6ms/step - loss: 0.5148 - recall: 0.7414 - val_loss: 0.4781 - val_recall: 0.7696\n",
            "Epoch 148/200\n",
            "71/71 [==============================] - 0s 6ms/step - loss: 0.5169 - recall: 0.7409 - val_loss: 0.4704 - val_recall: 0.7598\n",
            "Epoch 149/200\n",
            "71/71 [==============================] - 0s 6ms/step - loss: 0.5113 - recall: 0.7365 - val_loss: 0.4989 - val_recall: 0.7941\n",
            "Epoch 150/200\n",
            "71/71 [==============================] - 0s 7ms/step - loss: 0.5191 - recall: 0.7327 - val_loss: 0.4770 - val_recall: 0.7696\n",
            "Epoch 151/200\n",
            "71/71 [==============================] - 0s 6ms/step - loss: 0.5151 - recall: 0.7376 - val_loss: 0.4774 - val_recall: 0.7794\n",
            "Epoch 152/200\n",
            "71/71 [==============================] - 0s 6ms/step - loss: 0.5150 - recall: 0.7349 - val_loss: 0.4914 - val_recall: 0.7892\n",
            "Epoch 153/200\n",
            "71/71 [==============================] - 0s 6ms/step - loss: 0.5163 - recall: 0.7414 - val_loss: 0.5022 - val_recall: 0.7990\n",
            "Epoch 154/200\n",
            "71/71 [==============================] - 0s 6ms/step - loss: 0.5137 - recall: 0.7452 - val_loss: 0.4623 - val_recall: 0.7598\n",
            "Epoch 155/200\n",
            "71/71 [==============================] - 0s 6ms/step - loss: 0.5069 - recall: 0.7327 - val_loss: 0.4770 - val_recall: 0.7794\n",
            "Epoch 156/200\n",
            "71/71 [==============================] - 0s 6ms/step - loss: 0.5122 - recall: 0.7425 - val_loss: 0.4763 - val_recall: 0.7647\n",
            "Epoch 157/200\n",
            "71/71 [==============================] - 0s 6ms/step - loss: 0.5171 - recall: 0.7447 - val_loss: 0.4692 - val_recall: 0.7696\n",
            "Epoch 158/200\n",
            "71/71 [==============================] - 1s 7ms/step - loss: 0.5142 - recall: 0.7365 - val_loss: 0.4941 - val_recall: 0.7892\n",
            "Epoch 159/200\n",
            "71/71 [==============================] - 0s 6ms/step - loss: 0.5080 - recall: 0.7480 - val_loss: 0.4806 - val_recall: 0.7745\n",
            "Epoch 160/200\n",
            "71/71 [==============================] - 0s 6ms/step - loss: 0.5065 - recall: 0.7556 - val_loss: 0.4684 - val_recall: 0.7598\n",
            "Epoch 161/200\n",
            "71/71 [==============================] - 0s 6ms/step - loss: 0.5161 - recall: 0.7370 - val_loss: 0.4792 - val_recall: 0.7794\n",
            "Epoch 162/200\n",
            "71/71 [==============================] - 0s 6ms/step - loss: 0.5141 - recall: 0.7365 - val_loss: 0.4713 - val_recall: 0.7500\n",
            "Epoch 163/200\n",
            "71/71 [==============================] - 0s 6ms/step - loss: 0.5159 - recall: 0.7076 - val_loss: 0.4906 - val_recall: 0.7990\n",
            "Epoch 164/200\n",
            "71/71 [==============================] - 0s 6ms/step - loss: 0.5064 - recall: 0.7267 - val_loss: 0.4636 - val_recall: 0.7696\n",
            "Epoch 165/200\n",
            "71/71 [==============================] - 0s 6ms/step - loss: 0.5127 - recall: 0.7425 - val_loss: 0.4697 - val_recall: 0.7402\n",
            "Epoch 166/200\n",
            "71/71 [==============================] - 0s 6ms/step - loss: 0.5026 - recall: 0.7109 - val_loss: 0.4732 - val_recall: 0.7892\n",
            "Epoch 167/200\n",
            "71/71 [==============================] - 0s 6ms/step - loss: 0.5184 - recall: 0.7267 - val_loss: 0.4864 - val_recall: 0.7598\n",
            "Epoch 168/200\n",
            "71/71 [==============================] - 0s 6ms/step - loss: 0.5114 - recall: 0.7049 - val_loss: 0.4775 - val_recall: 0.7598\n",
            "Epoch 169/200\n",
            "71/71 [==============================] - 0s 6ms/step - loss: 0.5107 - recall: 0.7049 - val_loss: 0.4613 - val_recall: 0.7402\n",
            "Epoch 170/200\n",
            "71/71 [==============================] - 0s 6ms/step - loss: 0.5184 - recall: 0.7098 - val_loss: 0.4566 - val_recall: 0.7353\n",
            "Epoch 171/200\n",
            "71/71 [==============================] - 0s 6ms/step - loss: 0.5112 - recall: 0.7059 - val_loss: 0.5004 - val_recall: 0.7647\n",
            "Epoch 172/200\n",
            "71/71 [==============================] - 0s 5ms/step - loss: 0.5109 - recall: 0.7109 - val_loss: 0.4557 - val_recall: 0.7206\n",
            "Epoch 173/200\n",
            "71/71 [==============================] - 0s 6ms/step - loss: 0.5126 - recall: 0.7114 - val_loss: 0.4548 - val_recall: 0.7304\n",
            "Epoch 174/200\n",
            "71/71 [==============================] - 0s 6ms/step - loss: 0.5145 - recall: 0.6890 - val_loss: 0.4759 - val_recall: 0.7500\n",
            "Epoch 175/200\n",
            "71/71 [==============================] - 0s 6ms/step - loss: 0.5141 - recall: 0.6885 - val_loss: 0.4998 - val_recall: 0.7794\n",
            "Epoch 176/200\n",
            "71/71 [==============================] - 0s 6ms/step - loss: 0.5129 - recall: 0.7054 - val_loss: 0.4827 - val_recall: 0.7598\n",
            "Epoch 177/200\n",
            "71/71 [==============================] - 0s 6ms/step - loss: 0.5062 - recall: 0.6983 - val_loss: 0.4666 - val_recall: 0.7500\n",
            "Epoch 178/200\n"
          ]
        },
        {
          "name": "stdout",
          "output_type": "stream",
          "text": [
            "71/71 [==============================] - 0s 7ms/step - loss: 0.5090 - recall: 0.6983 - val_loss: 0.4617 - val_recall: 0.7353\n",
            "Epoch 179/200\n",
            "71/71 [==============================] - ETA: 0s - loss: 0.5081 - recall: 0.70 - 0s 6ms/step - loss: 0.5070 - recall: 0.7010 - val_loss: 0.4712 - val_recall: 0.7353\n",
            "Epoch 180/200\n",
            "71/71 [==============================] - 0s 6ms/step - loss: 0.5024 - recall: 0.6994 - val_loss: 0.4645 - val_recall: 0.7647\n",
            "Epoch 181/200\n",
            "71/71 [==============================] - 0s 6ms/step - loss: 0.5100 - recall: 0.7049 - val_loss: 0.4525 - val_recall: 0.7402\n",
            "Epoch 182/200\n",
            "71/71 [==============================] - 0s 6ms/step - loss: 0.5079 - recall: 0.6961 - val_loss: 0.4532 - val_recall: 0.7353\n",
            "Epoch 183/200\n",
            "71/71 [==============================] - 0s 6ms/step - loss: 0.5130 - recall: 0.7316 - val_loss: 0.4559 - val_recall: 0.7549\n",
            "Epoch 184/200\n",
            "71/71 [==============================] - 0s 6ms/step - loss: 0.5079 - recall: 0.7381 - val_loss: 0.4492 - val_recall: 0.7304\n",
            "Epoch 185/200\n",
            "71/71 [==============================] - 0s 6ms/step - loss: 0.5075 - recall: 0.7201 - val_loss: 0.4772 - val_recall: 0.7892\n",
            "Epoch 186/200\n",
            "71/71 [==============================] - 0s 6ms/step - loss: 0.5085 - recall: 0.7430 - val_loss: 0.4587 - val_recall: 0.7843\n",
            "Epoch 187/200\n",
            "71/71 [==============================] - 0s 6ms/step - loss: 0.5164 - recall: 0.7583 - val_loss: 0.4591 - val_recall: 0.7745\n",
            "Epoch 188/200\n",
            "71/71 [==============================] - 0s 6ms/step - loss: 0.5068 - recall: 0.7452 - val_loss: 0.4768 - val_recall: 0.7843\n",
            "Epoch 189/200\n",
            "71/71 [==============================] - 0s 6ms/step - loss: 0.5063 - recall: 0.7518 - val_loss: 0.4848 - val_recall: 0.7892\n",
            "Epoch 190/200\n",
            "71/71 [==============================] - 0s 6ms/step - loss: 0.5032 - recall: 0.7578 - val_loss: 0.4640 - val_recall: 0.7843\n",
            "Epoch 191/200\n",
            "71/71 [==============================] - 0s 6ms/step - loss: 0.5133 - recall: 0.7540 - val_loss: 0.4617 - val_recall: 0.7745\n",
            "Epoch 192/200\n",
            "71/71 [==============================] - 0s 6ms/step - loss: 0.5110 - recall: 0.7452 - val_loss: 0.4684 - val_recall: 0.7843\n",
            "Epoch 193/200\n",
            "71/71 [==============================] - 0s 6ms/step - loss: 0.5165 - recall: 0.7589 - val_loss: 0.4767 - val_recall: 0.7794\n",
            "Epoch 194/200\n",
            "71/71 [==============================] - 0s 6ms/step - loss: 0.5104 - recall: 0.7480 - val_loss: 0.4536 - val_recall: 0.7598\n",
            "Epoch 195/200\n",
            "71/71 [==============================] - 0s 6ms/step - loss: 0.5048 - recall: 0.7469 - val_loss: 0.4809 - val_recall: 0.7843\n",
            "Epoch 196/200\n",
            "71/71 [==============================] - 0s 6ms/step - loss: 0.5088 - recall: 0.7452 - val_loss: 0.4843 - val_recall: 0.8039\n",
            "Epoch 197/200\n",
            "71/71 [==============================] - 0s 6ms/step - loss: 0.5137 - recall: 0.7518 - val_loss: 0.4715 - val_recall: 0.7843\n",
            "Epoch 198/200\n",
            "71/71 [==============================] - 0s 7ms/step - loss: 0.5125 - recall: 0.7534 - val_loss: 0.4523 - val_recall: 0.7696\n",
            "Epoch 199/200\n",
            "71/71 [==============================] - 0s 6ms/step - loss: 0.5010 - recall: 0.7512 - val_loss: 0.4532 - val_recall: 0.7647\n",
            "Epoch 200/200\n",
            "71/71 [==============================] - 0s 6ms/step - loss: 0.5156 - recall: 0.7365 - val_loss: 0.4753 - val_recall: 0.7892\n"
          ]
        },
        {
          "data": {
            "text/plain": [
              "<keras.callbacks.History at 0x1f10c43b1c8>"
            ]
          },
          "execution_count": 149,
          "metadata": {},
          "output_type": "execute_result"
        }
      ]
    },
    {
      "cell_type": "code",
      "metadata": {
        "cell_style": "split",
        "scrolled": true,
        "id": "uMvjZLDOaqBG",
        "outputId": "0c519384-ce2f-420e-fa59-8537162fa74b"
      },
      "source": [
        "loss_df = pd.DataFrame(final_model.history.history)\n",
        "loss_df.plot()"
      ],
      "execution_count": null,
      "outputs": [
        {
          "data": {
            "text/plain": [
              "<AxesSubplot:>"
            ]
          },
          "execution_count": 150,
          "metadata": {},
          "output_type": "execute_result"
        },
        {
          "data": {
            "image/png": "[encoded data removed]",
            "text/plain": [
              "<Figure size 864x432 with 1 Axes>"
            ]
          },
          "metadata": {},
          "output_type": "display_data"
        }
      ]
    },
    {
      "cell_type": "code",
      "metadata": {
        "id": "q9LTEyY4aqBH",
        "outputId": "51e665c0-55e6-460f-8289-040c01119560"
      },
      "source": [
        "loss_df"
      ],
      "execution_count": null,
      "outputs": [
        {
          "data": {
            "text/html": [
              "<div>\n",
              "<style scoped>\n",
              "    .dataframe tbody tr th:only-of-type {\n",
              "        vertical-align: middle;\n",
              "    }\n",
              "\n",
              "    .dataframe tbody tr th {\n",
              "        vertical-align: top;\n",
              "    }\n",
              "\n",
              "    .dataframe thead th {\n",
              "        text-align: right;\n",
              "    }\n",
              "</style>\n",
              "<table border=\"1\" class=\"dataframe\">\n",
              "  <thead>\n",
              "    <tr style=\"text-align: right;\">\n",
              "      <th></th>\n",
              "      <th>loss</th>\n",
              "      <th>recall</th>\n",
              "      <th>val_loss</th>\n",
              "      <th>val_recall</th>\n",
              "    </tr>\n",
              "  </thead>\n",
              "  <tbody>\n",
              "    <tr>\n",
              "      <th>0</th>\n",
              "      <td>0.704</td>\n",
              "      <td>0.530</td>\n",
              "      <td>0.691</td>\n",
              "      <td>0.706</td>\n",
              "    </tr>\n",
              "    <tr>\n",
              "      <th>1</th>\n",
              "      <td>0.685</td>\n",
              "      <td>0.555</td>\n",
              "      <td>0.676</td>\n",
              "      <td>0.647</td>\n",
              "    </tr>\n",
              "    <tr>\n",
              "      <th>2</th>\n",
              "      <td>0.676</td>\n",
              "      <td>0.563</td>\n",
              "      <td>0.664</td>\n",
              "      <td>0.593</td>\n",
              "    </tr>\n",
              "    <tr>\n",
              "      <th>3</th>\n",
              "      <td>0.669</td>\n",
              "      <td>0.552</td>\n",
              "      <td>0.665</td>\n",
              "      <td>0.598</td>\n",
              "    </tr>\n",
              "    <tr>\n",
              "      <th>4</th>\n",
              "      <td>0.665</td>\n",
              "      <td>0.567</td>\n",
              "      <td>0.652</td>\n",
              "      <td>0.583</td>\n",
              "    </tr>\n",
              "    <tr>\n",
              "      <th>...</th>\n",
              "      <td>...</td>\n",
              "      <td>...</td>\n",
              "      <td>...</td>\n",
              "      <td>...</td>\n",
              "    </tr>\n",
              "    <tr>\n",
              "      <th>195</th>\n",
              "      <td>0.509</td>\n",
              "      <td>0.745</td>\n",
              "      <td>0.484</td>\n",
              "      <td>0.804</td>\n",
              "    </tr>\n",
              "    <tr>\n",
              "      <th>196</th>\n",
              "      <td>0.514</td>\n",
              "      <td>0.752</td>\n",
              "      <td>0.471</td>\n",
              "      <td>0.784</td>\n",
              "    </tr>\n",
              "    <tr>\n",
              "      <th>197</th>\n",
              "      <td>0.512</td>\n",
              "      <td>0.753</td>\n",
              "      <td>0.452</td>\n",
              "      <td>0.770</td>\n",
              "    </tr>\n",
              "    <tr>\n",
              "      <th>198</th>\n",
              "      <td>0.501</td>\n",
              "      <td>0.751</td>\n",
              "      <td>0.453</td>\n",
              "      <td>0.765</td>\n",
              "    </tr>\n",
              "    <tr>\n",
              "      <th>199</th>\n",
              "      <td>0.516</td>\n",
              "      <td>0.736</td>\n",
              "      <td>0.475</td>\n",
              "      <td>0.789</td>\n",
              "    </tr>\n",
              "  </tbody>\n",
              "</table>\n",
              "<p>200 rows × 4 columns</p>\n",
              "</div>"
            ],
            "text/plain": [
              "     loss  recall  val_loss  val_recall\n",
              "0   0.704   0.530     0.691       0.706\n",
              "1   0.685   0.555     0.676       0.647\n",
              "2   0.676   0.563     0.664       0.593\n",
              "3   0.669   0.552     0.665       0.598\n",
              "4   0.665   0.567     0.652       0.583\n",
              "..    ...     ...       ...         ...\n",
              "195 0.509   0.745     0.484       0.804\n",
              "196 0.514   0.752     0.471       0.784\n",
              "197 0.512   0.753     0.452       0.770\n",
              "198 0.501   0.751     0.453       0.765\n",
              "199 0.516   0.736     0.475       0.789\n",
              "\n",
              "[200 rows x 4 columns]"
            ]
          },
          "execution_count": 151,
          "metadata": {},
          "output_type": "execute_result"
        }
      ]
    },
    {
      "cell_type": "code",
      "metadata": {
        "id": "oXcY4Ec3aqBH",
        "outputId": "da7a4b45-0c88-42b0-9026-def6ef9c8984"
      },
      "source": [
        "loss_df.nlargest(10, \"val_recall\")"
      ],
      "execution_count": null,
      "outputs": [
        {
          "data": {
            "text/html": [
              "<div>\n",
              "<style scoped>\n",
              "    .dataframe tbody tr th:only-of-type {\n",
              "        vertical-align: middle;\n",
              "    }\n",
              "\n",
              "    .dataframe tbody tr th {\n",
              "        vertical-align: top;\n",
              "    }\n",
              "\n",
              "    .dataframe thead th {\n",
              "        text-align: right;\n",
              "    }\n",
              "</style>\n",
              "<table border=\"1\" class=\"dataframe\">\n",
              "  <thead>\n",
              "    <tr style=\"text-align: right;\">\n",
              "      <th></th>\n",
              "      <th>loss</th>\n",
              "      <th>recall</th>\n",
              "      <th>val_loss</th>\n",
              "      <th>val_recall</th>\n",
              "    </tr>\n",
              "  </thead>\n",
              "  <tbody>\n",
              "    <tr>\n",
              "      <th>195</th>\n",
              "      <td>0.509</td>\n",
              "      <td>0.745</td>\n",
              "      <td>0.484</td>\n",
              "      <td>0.804</td>\n",
              "    </tr>\n",
              "    <tr>\n",
              "      <th>152</th>\n",
              "      <td>0.516</td>\n",
              "      <td>0.741</td>\n",
              "      <td>0.502</td>\n",
              "      <td>0.799</td>\n",
              "    </tr>\n",
              "    <tr>\n",
              "      <th>162</th>\n",
              "      <td>0.516</td>\n",
              "      <td>0.708</td>\n",
              "      <td>0.491</td>\n",
              "      <td>0.799</td>\n",
              "    </tr>\n",
              "    <tr>\n",
              "      <th>136</th>\n",
              "      <td>0.517</td>\n",
              "      <td>0.718</td>\n",
              "      <td>0.504</td>\n",
              "      <td>0.794</td>\n",
              "    </tr>\n",
              "    <tr>\n",
              "      <th>148</th>\n",
              "      <td>0.511</td>\n",
              "      <td>0.736</td>\n",
              "      <td>0.499</td>\n",
              "      <td>0.794</td>\n",
              "    </tr>\n",
              "    <tr>\n",
              "      <th>151</th>\n",
              "      <td>0.515</td>\n",
              "      <td>0.735</td>\n",
              "      <td>0.491</td>\n",
              "      <td>0.789</td>\n",
              "    </tr>\n",
              "    <tr>\n",
              "      <th>157</th>\n",
              "      <td>0.514</td>\n",
              "      <td>0.736</td>\n",
              "      <td>0.494</td>\n",
              "      <td>0.789</td>\n",
              "    </tr>\n",
              "    <tr>\n",
              "      <th>165</th>\n",
              "      <td>0.503</td>\n",
              "      <td>0.711</td>\n",
              "      <td>0.473</td>\n",
              "      <td>0.789</td>\n",
              "    </tr>\n",
              "    <tr>\n",
              "      <th>184</th>\n",
              "      <td>0.507</td>\n",
              "      <td>0.720</td>\n",
              "      <td>0.477</td>\n",
              "      <td>0.789</td>\n",
              "    </tr>\n",
              "    <tr>\n",
              "      <th>188</th>\n",
              "      <td>0.506</td>\n",
              "      <td>0.752</td>\n",
              "      <td>0.485</td>\n",
              "      <td>0.789</td>\n",
              "    </tr>\n",
              "  </tbody>\n",
              "</table>\n",
              "</div>"
            ],
            "text/plain": [
              "     loss  recall  val_loss  val_recall\n",
              "195 0.509   0.745     0.484       0.804\n",
              "152 0.516   0.741     0.502       0.799\n",
              "162 0.516   0.708     0.491       0.799\n",
              "136 0.517   0.718     0.504       0.794\n",
              "148 0.511   0.736     0.499       0.794\n",
              "151 0.515   0.735     0.491       0.789\n",
              "157 0.514   0.736     0.494       0.789\n",
              "165 0.503   0.711     0.473       0.789\n",
              "184 0.507   0.720     0.477       0.789\n",
              "188 0.506   0.752     0.485       0.789"
            ]
          },
          "execution_count": 152,
          "metadata": {},
          "output_type": "execute_result"
        }
      ]
    },
    {
      "cell_type": "code",
      "metadata": {
        "cell_style": "split",
        "scrolled": false,
        "id": "_1rtcYjsaqBI",
        "outputId": "ac8eab08-940c-4a15-fda7-8c254324be1c"
      },
      "source": [
        "y_test_pred = (final_model.predict(X_test) > 0.5).astype(\"int32\")\n",
        "print(confusion_matrix(y_test, y_test_pred))\n",
        "print(classification_report(y_test, y_test_pred))"
      ],
      "execution_count": null,
      "outputs": [
        {
          "name": "stdout",
          "output_type": "stream",
          "text": [
            "[[602 194]\n",
            " [ 43 161]]\n",
            "              precision    recall  f1-score   support\n",
            "\n",
            "           0       0.93      0.76      0.84       796\n",
            "           1       0.45      0.79      0.58       204\n",
            "\n",
            "    accuracy                           0.76      1000\n",
            "   macro avg       0.69      0.77      0.71      1000\n",
            "weighted avg       0.84      0.76      0.78      1000\n",
            "\n"
          ]
        }
      ]
    },
    {
      "cell_type": "code",
      "metadata": {
        "id": "OLkS5gJaaqBI"
      },
      "source": [
        "final_model.save('model_churn.h5')"
      ],
      "execution_count": null,
      "outputs": []
    },
    {
      "cell_type": "markdown",
      "metadata": {
        "heading_collapsed": true,
        "id": "Cq10ovAX6daY"
      },
      "source": [
        "### Prediction"
      ]
    },
    {
      "cell_type": "code",
      "metadata": {
        "hidden": true,
        "id": "N2xR2qDiaqBJ",
        "outputId": "eb111c26-3e0d-4f19-b2e4-76851292cb60"
      },
      "source": [
        "single_customer = df.drop('Exited', axis=1).iloc[0]\n",
        "single_customer"
      ],
      "execution_count": null,
      "outputs": [
        {
          "data": {
            "text/plain": [
              "CreditScore            619.000\n",
              "Age                     42.000\n",
              "Tenure                   2.000\n",
              "Balance                  0.000\n",
              "NumOfProducts            1.000\n",
              "HasCrCard                1.000\n",
              "IsActiveMember           1.000\n",
              "EstimatedSalary     101348.880\n",
              "customer_value           3.000\n",
              "Geography_France         1.000\n",
              "Geography_Germany        0.000\n",
              "Geography_Spain          0.000\n",
              "Gender_Female            1.000\n",
              "Gender_Male              0.000\n",
              "Name: 1, dtype: float64"
            ]
          },
          "execution_count": 158,
          "metadata": {},
          "output_type": "execute_result"
        }
      ]
    },
    {
      "cell_type": "code",
      "metadata": {
        "hidden": true,
        "id": "Nwy2MUhUaqBL",
        "outputId": "fb428e93-1cc3-4018-910d-ee2c8e0a1851"
      },
      "source": [
        "single_customer = scaler.transform(single_customer.values.reshape(-1, 14))\n",
        "single_customer"
      ],
      "execution_count": null,
      "outputs": [
        {
          "data": {
            "text/plain": [
              "array([[0.538     , 0.32432432, 0.2       , 0.        , 0.        ,\n",
              "        1.        , 1.        , 0.50673489, 0.75      , 1.        ,\n",
              "        0.        , 0.        , 1.        , 0.        ]])"
            ]
          },
          "execution_count": 160,
          "metadata": {},
          "output_type": "execute_result"
        }
      ]
    },
    {
      "cell_type": "code",
      "metadata": {
        "hidden": true,
        "id": "Try4VQKraqBM",
        "outputId": "a50b0f6d-ae1c-4c80-b818-f573b5a825cb"
      },
      "source": [
        "(final_model.predict(single_customer) > 0.5).astype(\"int32\")"
      ],
      "execution_count": null,
      "outputs": [
        {
          "data": {
            "text/plain": [
              "array([[1]])"
            ]
          },
          "execution_count": 165,
          "metadata": {},
          "output_type": "execute_result"
        }
      ]
    },
    {
      "cell_type": "code",
      "metadata": {
        "hidden": true,
        "id": "h8XG-sqNaqBN",
        "outputId": "0d0b3b59-7634-4e13-d15b-e0a2a0e56965"
      },
      "source": [
        "df[\"Exited\"].iloc[0]"
      ],
      "execution_count": null,
      "outputs": [
        {
          "data": {
            "text/plain": [
              "1"
            ]
          },
          "execution_count": 163,
          "metadata": {},
          "output_type": "execute_result"
        }
      ]
    },
    {
      "cell_type": "markdown",
      "metadata": {
        "hidden": true,
        "id": "PAuKj9RfaqBP"
      },
      "source": [
        "---\n",
        "---"
      ]
    },
    {
      "cell_type": "markdown",
      "metadata": {
        "id": "DzCx50LXaqBR"
      },
      "source": [
        "## Comparison with ML"
      ]
    },
    {
      "cell_type": "code",
      "metadata": {
        "id": "B0vtw-eyaqBU"
      },
      "source": [
        "from sklearn.pipeline import Pipeline\n",
        "from sklearn.ensemble import RandomForestClassifier\n",
        "from sklearn.svm import SVC\n",
        "from sklearn.linear_model import LogisticRegression"
      ],
      "execution_count": null,
      "outputs": []
    },
    {
      "cell_type": "code",
      "metadata": {
        "id": "yFa-6anFaqBV"
      },
      "source": [
        "clf1 = RandomForestClassifier(random_state=42, class_weight=\"balanced\")\n",
        "clf2 = SVC(probability=True, random_state=42, class_weight=\"balanced\")\n",
        "clf3 = LogisticRegression(random_state=42, class_weight=\"balanced\")"
      ],
      "execution_count": null,
      "outputs": []
    },
    {
      "cell_type": "code",
      "metadata": {
        "id": "2BvmqSDwaqBW"
      },
      "source": [
        ""
      ],
      "execution_count": null,
      "outputs": []
    },
    {
      "cell_type": "code",
      "metadata": {
        "cell_style": "split",
        "id": "FoTA1mS5aqBW"
      },
      "source": [
        "# Initiaze the hyperparameters for each dictionary\n",
        "param1 = {}\n",
        "param1['classifier__n_estimators'] = [10, 50, 100, 250]\n",
        "param1['classifier__max_depth'] = [5, 10, 20]\n",
        "param1['classifier'] = [clf1]\n",
        "\n",
        "param2 = {}\n",
        "param2['classifier__C'] = [10**(-2+i) for i in range(5)]\n",
        "param2['classifier'] = [clf2]\n",
        "\n",
        "param3 = {}\n",
        "param3['classifier__C'] = [10**(-2+i) for i in range(5)]\n",
        "param3['classifier__penalty'] = ['l1', 'l2']\n",
        "param3['classifier'] = [clf3]"
      ],
      "execution_count": null,
      "outputs": []
    },
    {
      "cell_type": "code",
      "metadata": {
        "cell_style": "split",
        "id": "xgLrelA0aqBZ"
      },
      "source": [
        "pipeline = Pipeline([('classifier', clf1)])\n",
        "params = [param1, param2, param3]"
      ],
      "execution_count": null,
      "outputs": []
    },
    {
      "cell_type": "code",
      "metadata": {
        "cell_style": "center",
        "id": "HgtfWAV0aqBa"
      },
      "source": [
        "grid_model = GridSearchCV(pipeline, params, cv=5, n_jobs=-1,\n",
        "                          scoring='recall').fit(X_train, y_train)"
      ],
      "execution_count": null,
      "outputs": []
    },
    {
      "cell_type": "code",
      "metadata": {
        "cell_style": "center",
        "id": "ok9Q1Uv4aqBb"
      },
      "source": [
        "grid_model.best_params_"
      ],
      "execution_count": null,
      "outputs": []
    },
    {
      "cell_type": "code",
      "metadata": {
        "cell_style": "center",
        "id": "knKm1JDlaqBc"
      },
      "source": [
        "grid_model.best_score_"
      ],
      "execution_count": null,
      "outputs": []
    },
    {
      "cell_type": "code",
      "metadata": {
        "cell_style": "split",
        "id": "QAl9ig0NaqBe"
      },
      "source": [
        "y_pred_proba = grid_model.predict(X_test)\n",
        "fpr, tpr, thresholds = roc_curve(y_test, y_pred_proba)\n",
        "plt.plot([0,1],[0,1],'k--')\n",
        "plt.plot(fpr,tpr, label='ANN')\n",
        "plt.xlabel('False Positive Rate')\n",
        "plt.ylabel('True Positive Rate')\n",
        "plt.title('ROC Curve for Keras Model')\n",
        "plt.show()"
      ],
      "execution_count": null,
      "outputs": []
    },
    {
      "cell_type": "code",
      "metadata": {
        "cell_style": "split",
        "id": "3mnpr5ZQaqBf"
      },
      "source": [
        "average_precision_score(y_test, y_pred_proba)"
      ],
      "execution_count": null,
      "outputs": []
    },
    {
      "cell_type": "code",
      "metadata": {
        "cell_style": "split",
        "scrolled": true,
        "id": "BBiI48gIaqBh"
      },
      "source": [
        "y_test_pred = (grid_model.predict(X_test) > 0.5).astype(\"int32\")\n",
        "print(confusion_matrix(y_test, y_test_pred))\n",
        "print(classification_report(y_test, y_test_pred))"
      ],
      "execution_count": null,
      "outputs": []
    },
    {
      "cell_type": "markdown",
      "metadata": {
        "id": "jW9LuQ3gaqBj"
      },
      "source": [
        "# SVC"
      ]
    },
    {
      "cell_type": "code",
      "metadata": {
        "cell_style": "split",
        "id": "ZXpZtpE_aqBk"
      },
      "source": [
        "pipeline = Pipeline([('classifier', clf2)])\n",
        "params = [param1, param2, param3]"
      ],
      "execution_count": null,
      "outputs": []
    },
    {
      "cell_type": "code",
      "metadata": {
        "cell_style": "center",
        "id": "OJBCGdRqaqBl"
      },
      "source": [
        "grid_model = GridSearchCV(pipeline, params, cv=5, n_jobs=-1,\n",
        "                          scoring='recall').fit(X_train, y_train)"
      ],
      "execution_count": null,
      "outputs": []
    },
    {
      "cell_type": "code",
      "metadata": {
        "cell_style": "center",
        "id": "nh0HqR3DaqBn"
      },
      "source": [
        "grid_model.best_params_"
      ],
      "execution_count": null,
      "outputs": []
    },
    {
      "cell_type": "code",
      "metadata": {
        "cell_style": "center",
        "id": "HLeuCIoKaqBo"
      },
      "source": [
        "grid_model.best_score_"
      ],
      "execution_count": null,
      "outputs": []
    },
    {
      "cell_type": "code",
      "metadata": {
        "cell_style": "split",
        "id": "2Op_YzqnaqBp"
      },
      "source": [
        "y_pred_proba = grid_model.predict(X_test)\n",
        "fpr, tpr, thresholds = roc_curve(y_test, y_pred_proba)\n",
        "plt.plot([0,1],[0,1],'k--')\n",
        "plt.plot(fpr,tpr, label='ANN')\n",
        "plt.xlabel('False Positive Rate')\n",
        "plt.ylabel('True Positive Rate')\n",
        "plt.title('ROC Curve for Keras Model')\n",
        "plt.show()"
      ],
      "execution_count": null,
      "outputs": []
    },
    {
      "cell_type": "code",
      "metadata": {
        "cell_style": "split",
        "id": "fYt9y4qDaqBq"
      },
      "source": [
        "average_precision_score(y_test, y_pred_proba)"
      ],
      "execution_count": null,
      "outputs": []
    },
    {
      "cell_type": "code",
      "metadata": {
        "cell_style": "split",
        "scrolled": true,
        "id": "RRJa00CYaqBs"
      },
      "source": [
        "y_test_pred = (grid_model.predict(X_test) > 0.5).astype(\"int32\")\n",
        "print(confusion_matrix(y_test, y_test_pred))\n",
        "print(classification_report(y_test, y_test_pred))"
      ],
      "execution_count": null,
      "outputs": []
    },
    {
      "cell_type": "markdown",
      "metadata": {
        "id": "pAw4cPEwaqBt"
      },
      "source": [
        "# LR"
      ]
    },
    {
      "cell_type": "code",
      "metadata": {
        "cell_style": "split",
        "id": "B8bSvrhhaqBu"
      },
      "source": [
        "pipeline = Pipeline([('classifier', clf3)])\n",
        "params = [param1, param2, param3]"
      ],
      "execution_count": null,
      "outputs": []
    },
    {
      "cell_type": "code",
      "metadata": {
        "cell_style": "center",
        "id": "tWAMhM8XaqBv"
      },
      "source": [
        "grid_model = GridSearchCV(pipeline, params, cv=5, n_jobs=-1,\n",
        "                          scoring='recall').fit(X_train, y_train)"
      ],
      "execution_count": null,
      "outputs": []
    },
    {
      "cell_type": "code",
      "metadata": {
        "cell_style": "center",
        "id": "pK6eGRYvaqBy"
      },
      "source": [
        "grid_model.best_params_"
      ],
      "execution_count": null,
      "outputs": []
    },
    {
      "cell_type": "code",
      "metadata": {
        "cell_style": "center",
        "id": "a6hAvDHfaqBz"
      },
      "source": [
        "grid_model.best_score_"
      ],
      "execution_count": null,
      "outputs": []
    },
    {
      "cell_type": "code",
      "metadata": {
        "cell_style": "split",
        "id": "EvOGDzH-aqB0"
      },
      "source": [
        "y_pred_proba = grid_model.predict(X_test)\n",
        "fpr, tpr, thresholds = roc_curve(y_test, y_pred_proba)\n",
        "plt.plot([0,1],[0,1],'k--')\n",
        "plt.plot(fpr,tpr, label='ANN')\n",
        "plt.xlabel('False Positive Rate')\n",
        "plt.ylabel('True Positive Rate')\n",
        "plt.title('ROC Curve for Keras Model')\n",
        "plt.show()"
      ],
      "execution_count": null,
      "outputs": []
    },
    {
      "cell_type": "code",
      "metadata": {
        "cell_style": "split",
        "id": "kGmnbFuUaqB1"
      },
      "source": [
        "average_precision_score(y_test, y_pred_proba)"
      ],
      "execution_count": null,
      "outputs": []
    },
    {
      "cell_type": "code",
      "metadata": {
        "cell_style": "split",
        "scrolled": true,
        "id": "iYVL7zwTaqB3"
      },
      "source": [
        "y_test_pred = (grid_model.predict(X_test) > 0.5).astype(\"int32\")\n",
        "print(confusion_matrix(y_test, y_test_pred))\n",
        "print(classification_report(y_test, y_test_pred))"
      ],
      "execution_count": null,
      "outputs": []
    },
    {
      "cell_type": "markdown",
      "metadata": {
        "id": "vVe4t_DIaqB5"
      },
      "source": [
        "---\n",
        "---"
      ]
    }
  ]
}