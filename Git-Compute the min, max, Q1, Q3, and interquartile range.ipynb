{
 "cells": [
  {
   "cell_type": "markdown",
   "id": "9bc17130",
   "metadata": {},
   "source": [
    "## Compute the min, max, Q1, Q3, and interquartile range"
   ]
  },
  {
   "cell_type": "code",
   "execution_count": 3,
   "id": "f0816a35",
   "metadata": {},
   "outputs": [],
   "source": [
    "import numpy as np\n",
    "import pandas as pd\n",
    "from scipy import stats\n",
    "samples = np.random.normal(loc= 100, scale = 15,size=1000)"
   ]
  },
  {
   "cell_type": "code",
   "execution_count": 4,
   "id": "9024a24b",
   "metadata": {},
   "outputs": [],
   "source": [
    "min = np.min(samples)\n",
    "max = np.max(samples)\n",
    "q1 = np.percentile(samples,25)\n",
    "q3 = np.percentile(samples,75)\n",
    "iqr = q3-q1"
   ]
  },
  {
   "cell_type": "code",
   "execution_count": 5,
   "id": "3e7e6095",
   "metadata": {},
   "outputs": [
    {
     "data": {
      "text/plain": [
       "37.69887651396777"
      ]
     },
     "execution_count": 5,
     "metadata": {},
     "output_type": "execute_result"
    }
   ],
   "source": [
    "min"
   ]
  },
  {
   "cell_type": "code",
   "execution_count": 6,
   "id": "1c3e985d",
   "metadata": {},
   "outputs": [
    {
     "data": {
      "text/plain": [
       "144.46694141872064"
      ]
     },
     "execution_count": 6,
     "metadata": {},
     "output_type": "execute_result"
    }
   ],
   "source": [
    "max"
   ]
  },
  {
   "cell_type": "code",
   "execution_count": 7,
   "id": "a1a0f506",
   "metadata": {},
   "outputs": [
    {
     "data": {
      "text/plain": [
       "89.40798383013134"
      ]
     },
     "execution_count": 7,
     "metadata": {},
     "output_type": "execute_result"
    }
   ],
   "source": [
    "q1"
   ]
  },
  {
   "cell_type": "code",
   "execution_count": 9,
   "id": "cd96d707",
   "metadata": {},
   "outputs": [
    {
     "data": {
      "text/plain": [
       "110.21841669729187"
      ]
     },
     "execution_count": 9,
     "metadata": {},
     "output_type": "execute_result"
    }
   ],
   "source": [
    "q3"
   ]
  },
  {
   "cell_type": "code",
   "execution_count": 10,
   "id": "141d1f86",
   "metadata": {},
   "outputs": [
    {
     "data": {
      "text/plain": [
       "20.81043286716053"
      ]
     },
     "execution_count": 10,
     "metadata": {},
     "output_type": "execute_result"
    }
   ],
   "source": [
    "iqr"
   ]
  },
  {
   "cell_type": "code",
   "execution_count": null,
   "id": "6ed23eb0",
   "metadata": {},
   "outputs": [],
   "source": []
  },
  {
   "cell_type": "code",
   "execution_count": null,
   "id": "907823a0",
   "metadata": {},
   "outputs": [],
   "source": []
  },
  {
   "cell_type": "code",
   "execution_count": null,
   "id": "7e0ed31b",
   "metadata": {},
   "outputs": [],
   "source": []
  }
 ],
 "metadata": {
  "kernelspec": {
   "display_name": "Python 3",
   "language": "python",
   "name": "python3"
  },
  "language_info": {
   "codemirror_mode": {
    "name": "ipython",
    "version": 3
   },
   "file_extension": ".py",
   "mimetype": "text/x-python",
   "name": "python",
   "nbconvert_exporter": "python",
   "pygments_lexer": "ipython3",
   "version": "3.8.8"
  }
 },
 "nbformat": 4,
 "nbformat_minor": 5
}
